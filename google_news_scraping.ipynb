{
 "cells": [
  {
   "cell_type": "code",
   "execution_count": 75,
   "metadata": {},
   "outputs": [],
   "source": [
    "from bs4 import BeautifulSoup\n",
    "import requests\n",
    "import pandas as pd\n",
    "import unicodedata\n",
    "from selenium import webdriver\n",
    "\n",
    "from selenium.webdriver.common.by import By\n",
    "from selenium.webdriver.support.wait import WebDriverWait\n",
    "from selenium.webdriver.chrome.service import Service\n",
    "\n",
    "import spacy\n",
    "import re\n",
    "from spacy import displacy \n",
    "from spacy.matcher import Matcher \n",
    "import visualise_spacy_tree\n",
    "from IPython.display import Image, display\n",
    "\n",
    "from __future__ import unicode_literals, print_function\n",
    "from spacy.lang.en import English # updated\n",
    "\n",
    "import geopy \n",
    "import matplotlib.pyplot as plt\n",
    "from geopy.extra.rate_limiter import RateLimiter\n",
    "\n",
    "import folium\n",
    "from folium.plugins import FastMarkerCluster\n",
    "from folium.plugins import HeatMap\n",
    "\n",
    "import numpy as np\n",
    "\n",
    "from deep_translator import GoogleTranslator\n",
    "from datetime import datetime, timedelta\n",
    "import parsedatetime as pdt\n",
    "\n",
    "import plotly.express as px"
   ]
  },
  {
   "cell_type": "code",
   "execution_count": 76,
   "metadata": {},
   "outputs": [],
   "source": [
    "#Scraping NBC news wild fires with Selenium and Beautifulsoup\n",
    "def get_lists_from_subject(subject, num_pages,date_limits = None):\n",
    "\n",
    "    translator = GoogleTranslator(source='fr', target='en')\n",
    "    \n",
    "    cal = pdt.Calendar()\n",
    "    now = datetime.now()\n",
    "\n",
    "    PATH = \"./chromedriver_win32/chromedriver.exe\"\n",
    "\n",
    "    s=Service(PATH)\n",
    "    driver = webdriver.Chrome(service=s)\n",
    "\n",
    "    link_list = []\n",
    "    date_list = []\n",
    "    if date_limits is not None:\n",
    "        lower_date, higher_date = date_limits\n",
    "        ld, lm, ly = str(lower_date.day), str(lower_date.month), str(lower_date.year)\n",
    "        hd, hm, hy = str(higher_date.day), str(higher_date.month), str(higher_date.year)\n",
    "        driver.get(\"https://www.google.com/search?q=\"+subject+\"&rlz=1C1CHBF_frFR863FR863&biw=1920&bih=880&sxsrf=APq-WBuYthkpiHNrhk_0YwH1w70zP27Xgg%3A1643812260630&source=lnt&tbs=cdr%3A1%2Ccd_min%3A\"+lm+\"%2F\"+ld+\"%2F\"+ly+\"%2Ccd_max%3A\"+hm+\"%2F\"+hd+\"%2F\"+hy+\"&tbm=nws\")\n",
    "    else:   \n",
    "        driver.get(\"https://www.google.com/search?q=\"+subject+\"&rlz=1C1CHBF_frFR863FR863&biw=1920&bih=880&sxsrf=AOaemvI0XcPZB9YWw9GUVGwWTEXPDVqRxQ:1638967714934&source=lnms&tbm=nws&sa=X&ved=2ahUKEwjGlsnDntT0AhWTTcAKHeyuDk4Q_AUoAXoECAEQAw\")\n",
    "\n",
    "    driver.find_element(By.XPATH, \"//button[@class='VfPpkd-LgbsSe VfPpkd-LgbsSe-OWXEXe-k8QpJ VfPpkd-LgbsSe-OWXEXe-dgl2Hf nCP5yc AjY5Oe DuMIQc']\").click() #accept google policy\n",
    "\n",
    "    for i in range(num_pages):\n",
    "        if i != 0:\n",
    "            try :\n",
    "                driver.find_element(By.ID, \"pnnext\").click()\n",
    "            except :\n",
    "                break\n",
    "\n",
    "        html_source = driver.page_source\n",
    "\n",
    "        soup = BeautifulSoup(html_source, 'lxml')\n",
    "\n",
    "        #Getting all g-card \n",
    "        g_card_list = soup.find_all(\"g-card\")\n",
    "\n",
    "        for g_card in g_card_list:\n",
    "            a = g_card.find(\"a\")\n",
    "            link = a['href']\n",
    "            link_list.append(link)\n",
    "\n",
    "            date = g_card.find(\"p\").text\n",
    "            translated_date = translator.translate(date)\n",
    "            date_list.append(cal.parseDT(translated_date, now)[0].date())\n",
    "\n",
    "    driver.quit()\n",
    "\n",
    "    print(\"Successfully scraped : \", len(link_list), \" links\")\n",
    "\n",
    "    return link_list, date_list\n",
    "\n"
   ]
  },
  {
   "cell_type": "code",
   "execution_count": 77,
   "metadata": {},
   "outputs": [],
   "source": [
    "#Now that we have the link list, for each link try to scrape the article if there is one and the date if there is one.\n",
    "def get_df_from_link_list(link_list, date_list):\n",
    "\n",
    "    my_timeout = 10\n",
    "\n",
    "    data = []\n",
    "\n",
    "    for i, link in enumerate(link_list):\n",
    "        d = {}\n",
    "\n",
    "        try:\n",
    "            html_text = requests.get(link, timeout=my_timeout).text\n",
    "\n",
    "            soup = BeautifulSoup(html_text, 'lxml')\n",
    "\n",
    "            title = soup.find('title')\n",
    "            if title != None:\n",
    "                d[\"Title\"] = title.text\n",
    "\n",
    "            d[\"Link\"] = link\n",
    "   \n",
    "\n",
    "\n",
    "            d[\"Date\"] = date_list[i]\n",
    "            \n",
    "            article = soup.find('article')\n",
    "            if article != None:\n",
    "                paragraphs = article.find_all('p')\n",
    "                big_p = \"\"\n",
    "                for p in paragraphs:\n",
    "                    big_p = big_p + p.text + \" \"\n",
    "                \n",
    "                if big_p != \"\":\n",
    "                    d[\"Content\"] = unicodedata.normalize(\"NFKD\", big_p).rstrip()\n",
    "        except: #Requests takes way too long or bug\n",
    "            print('Could not scrap page number ' + str(i) + ', try again another time.')\n",
    "\n",
    "        data.append(d)\n",
    "\n",
    "    return pd.DataFrame(data)"
   ]
  },
  {
   "cell_type": "code",
   "execution_count": 78,
   "metadata": {},
   "outputs": [],
   "source": [
    "def get_df_from_subject(subject,num_pages, date_limits = None):\n",
    "    link_list, date_list = get_lists_from_subject(subject, num_pages, date_limits)\n",
    "    return get_df_from_link_list(link_list, date_list)"
   ]
  },
  {
   "cell_type": "code",
   "execution_count": 79,
   "metadata": {},
   "outputs": [],
   "source": [
    "def get_rid_of_date(df):\n",
    "    res = df.drop(columns = [\"Date\"])\n",
    "    return res"
   ]
  },
  {
   "cell_type": "code",
   "execution_count": 80,
   "metadata": {},
   "outputs": [],
   "source": [
    "def clean(text):\n",
    "\n",
    "    \"\"\"Clean the text input\"\"\"\n",
    "    \n",
    "    # removing paragraph numbers\n",
    "    text = re.sub('[0-9]+.\\t','',str(text))\n",
    "    # removing new line characters\n",
    "    text = re.sub('\\n ','',str(text))\n",
    "    text = re.sub('\\n',' ',str(text))\n",
    "    # removing apostrophes\n",
    "    text = re.sub(\"'s\",'',str(text))\n",
    "    # removing hyphens\n",
    "    text = re.sub(\"-\",' ',str(text))\n",
    "    text = re.sub(\"— \",'',str(text))\n",
    "    # removing quotation marks\n",
    "    text = re.sub('\\\"','',str(text))\n",
    "    # removing salutations\n",
    "    text = re.sub(\"Mr\\.\",'Mr',str(text))\n",
    "    text = re.sub(\"Mrs\\.\",'Mrs',str(text))\n",
    "    # removing any reference to outside text\n",
    "    text = re.sub(\"[\\(\\[].*?[\\)\\]]\", \"\", str(text))\n",
    "\n",
    "    return text\n",
    "    "
   ]
  },
  {
   "cell_type": "code",
   "execution_count": 81,
   "metadata": {},
   "outputs": [],
   "source": [
    "NLP_SENTENCES = English()\n",
    "NLP_SENTENCES.add_pipe('sentencizer') \n",
    "\n",
    "def sentences(text):\n",
    "    # split sentences and questions\n",
    "    raw_text = text\n",
    "    doc = NLP_SENTENCES(raw_text)\n",
    "    return [sent.text.strip() for sent in doc.sents]"
   ]
  },
  {
   "cell_type": "code",
   "execution_count": 82,
   "metadata": {},
   "outputs": [],
   "source": [
    "def add_location_col_in_df(df):\n",
    "    nlp = spacy.load('en_core_web_sm') #Loading english NLP model\n",
    "    locations = {\"Location\":[]}\n",
    "    for sentence_list in df[\"Sentences\"]:\n",
    "        list_of_location = []\n",
    "        for sentence in sentence_list:\n",
    "            doc = nlp(sentence)\n",
    "            for ent in doc.ents:\n",
    "                if ent.label_ == 'GPE':\n",
    "                    if ent.text not in list_of_location:\n",
    "                        list_of_location.append(ent.text)\n",
    "        locations[\"Location\"].append(list_of_location)\n",
    "\n",
    "    df['Location'] = pd.DataFrame(locations)\n",
    "\n",
    "    return df"
   ]
  },
  {
   "cell_type": "code",
   "execution_count": 83,
   "metadata": {},
   "outputs": [],
   "source": [
    "def get_locations_df_from_subject(subject, num_pages, date_limits = None):\n",
    "    df = get_df_from_subject(subject,num_pages, date_limits) #DF from scraping\n",
    "    print(\"Done scraping\")\n",
    "    #df = get_rid_of_date(df) #No date\n",
    "    df = df.dropna() #Drop missing values\n",
    "    df = df.reset_index(drop=True)\n",
    "    print(f'There are {len(df.index)} usable articles')\n",
    "    df[\"Content\"] = df[\"Content\"].apply(clean) #cleaning contents\n",
    "    df = df.rename(columns={\"Content\":\"Clean_content\"})\n",
    "    df[\"Sentences\"] = df[\"Clean_content\"].apply(sentences) #getting sentences list\n",
    "    df = add_location_col_in_df(df) #adding locations\n",
    "    return df\n",
    "\n",
    "\n",
    "    "
   ]
  },
  {
   "cell_type": "code",
   "execution_count": 84,
   "metadata": {},
   "outputs": [],
   "source": [
    "def get_location_map_from_df(df, map_style = None):\n",
    "    locations = np.concatenate(df[\"Location\"])\n",
    "\n",
    "    print(f\"There are {len(locations)} locations\")\n",
    "\n",
    "    d = {}\n",
    "\n",
    "    locator = geopy.geocoders.Nominatim(user_agent='mygeocoder')\n",
    "    geocode = RateLimiter(locator.geocode,min_delay_seconds=0.5)\n",
    "    lattitudes = []\n",
    "    longitudes = []\n",
    "    for loc in locations :\n",
    "        try :\n",
    "            if loc not in d.keys():\n",
    "                code = geocode(loc)\n",
    "                lattitudes.append(code[1][0])\n",
    "                longitudes.append(code[1][1])\n",
    "                d[loc] = (code[1][0],code[1][1])\n",
    "            else:\n",
    "                coord = d[loc]\n",
    "                lattitudes.append(coord[0])\n",
    "                longitudes.append(coord[1])\n",
    "        except :\n",
    "            pass\n",
    "\n",
    "    if map_style == \"heatmap\":\n",
    "        map = folium.Map([48, 5], tiles='CartoDB dark_matter', zoom_start=2)\n",
    "        HeatMap(data=list(zip(lattitudes, longitudes))).add_to(map)\n",
    "        return map\n",
    "\n",
    "    else:\n",
    "\n",
    "        folium_map = folium.Map(location=[59.338315,18.089960],\n",
    "                                zoom_start=2,\n",
    "                                tiles='CartoDB dark_matter')\n",
    "        FastMarkerCluster(data=list(zip(lattitudes, longitudes))).add_to(folium_map)\n",
    "        folium.LayerControl().add_to(folium_map)\n",
    "        return folium_map\n"
   ]
  },
  {
   "cell_type": "code",
   "execution_count": 85,
   "metadata": {},
   "outputs": [],
   "source": [
    "def plot_articles_per_date(df_location):\n",
    "    s = df_location['Date'].value_counts().sort_index()\n",
    "    dates, count = list(s.index), list(s)\n",
    "    min_date = min(dates)\n",
    "    max_date = max(dates)\n",
    "    dateList = []\n",
    "    for x in range (0, (max_date-min_date).days):\n",
    "        dateList.append(min_date + timedelta(days = x))\n",
    "    countList = [0 for i in range(len(dateList))]\n",
    "    for i in range(len(dateList)):\n",
    "        if dateList[i] in dates:\n",
    "            countList[i] = count[dates.index(dateList[i])]\n",
    "    while countList[-1] == 0:\n",
    "        countList.pop()\n",
    "        dateList.pop()\n",
    "\n",
    "    df_temp = pd.DataFrame({\"Date\" : dateList, \"Count\": countList})\n",
    "    return px.line(df_temp, x= \"Date\", y = \"Count\", title = \"Number of scraped articles per date\")\n",
    "    "
   ]
  },
  {
   "cell_type": "code",
   "execution_count": 86,
   "metadata": {},
   "outputs": [
    {
     "ename": "NoSuchElementException",
     "evalue": "Message: no such element: Unable to locate element: {\"method\":\"css selector\",\"selector\":\"[id=\"pnnext\"]\"}\n  (Session info: chrome=97.0.4692.99)\nStacktrace:\nBacktrace:\n\tOrdinal0 [0x006A6903+2517251]\n\tOrdinal0 [0x0063F8E1+2095329]\n\tOrdinal0 [0x00542848+1058888]\n\tOrdinal0 [0x0056D448+1233992]\n\tOrdinal0 [0x0056D63B+1234491]\n\tOrdinal0 [0x00597812+1406994]\n\tOrdinal0 [0x0058650A+1336586]\n\tOrdinal0 [0x00595BBF+1399743]\n\tOrdinal0 [0x0058639B+1336219]\n\tOrdinal0 [0x005627A7+1189799]\n\tOrdinal0 [0x00563609+1193481]\n\tGetHandleVerifier [0x00835904+1577972]\n\tGetHandleVerifier [0x008E0B97+2279047]\n\tGetHandleVerifier [0x00736D09+534521]\n\tGetHandleVerifier [0x00735DB9+530601]\n\tOrdinal0 [0x00644FF9+2117625]\n\tOrdinal0 [0x006498A8+2136232]\n\tOrdinal0 [0x006499E2+2136546]\n\tOrdinal0 [0x00653541+2176321]\n\tBaseThreadInitThunk [0x7636FA29+25]\n\tRtlGetAppContainerNamedObjectPath [0x770C7A9E+286]\n\tRtlGetAppContainerNamedObjectPath [0x770C7A6E+238]\n",
     "output_type": "error",
     "traceback": [
      "\u001b[1;31m---------------------------------------------------------------------------\u001b[0m",
      "\u001b[1;31mNoSuchElementException\u001b[0m                    Traceback (most recent call last)",
      "\u001b[1;32mC:\\Users\\SORLUC~1\\AppData\\Local\\Temp/ipykernel_7980/3158745649.py\u001b[0m in \u001b[0;36m<module>\u001b[1;34m\u001b[0m\n\u001b[0;32m      2\u001b[0m \u001b[0mhigher_date\u001b[0m \u001b[1;33m=\u001b[0m \u001b[0mdatetime\u001b[0m\u001b[1;33m(\u001b[0m\u001b[1;36m2017\u001b[0m\u001b[1;33m,\u001b[0m\u001b[1;36m1\u001b[0m\u001b[1;33m,\u001b[0m\u001b[1;36m1\u001b[0m\u001b[1;33m)\u001b[0m\u001b[1;33m\u001b[0m\u001b[1;33m\u001b[0m\u001b[0m\n\u001b[0;32m      3\u001b[0m \u001b[0mdate_limits\u001b[0m \u001b[1;33m=\u001b[0m \u001b[1;33m(\u001b[0m\u001b[0mlower_date\u001b[0m\u001b[1;33m,\u001b[0m\u001b[0mhigher_date\u001b[0m\u001b[1;33m)\u001b[0m\u001b[1;33m\u001b[0m\u001b[1;33m\u001b[0m\u001b[0m\n\u001b[1;32m----> 4\u001b[1;33m \u001b[0mdf_location\u001b[0m \u001b[1;33m=\u001b[0m \u001b[0mget_locations_df_from_subject\u001b[0m\u001b[1;33m(\u001b[0m\u001b[1;34m\"Earthquake\"\u001b[0m\u001b[1;33m,\u001b[0m \u001b[1;36m50\u001b[0m\u001b[1;33m,\u001b[0m \u001b[0mdate_limits\u001b[0m\u001b[1;33m)\u001b[0m\u001b[1;33m\u001b[0m\u001b[1;33m\u001b[0m\u001b[0m\n\u001b[0m\u001b[0;32m      5\u001b[0m \u001b[0mdf_location\u001b[0m\u001b[1;33m\u001b[0m\u001b[1;33m\u001b[0m\u001b[0m\n",
      "\u001b[1;32mC:\\Users\\SORLUC~1\\AppData\\Local\\Temp/ipykernel_7980/3845368505.py\u001b[0m in \u001b[0;36mget_locations_df_from_subject\u001b[1;34m(subject, num_pages, date_limits)\u001b[0m\n\u001b[0;32m      1\u001b[0m \u001b[1;32mdef\u001b[0m \u001b[0mget_locations_df_from_subject\u001b[0m\u001b[1;33m(\u001b[0m\u001b[0msubject\u001b[0m\u001b[1;33m,\u001b[0m \u001b[0mnum_pages\u001b[0m\u001b[1;33m,\u001b[0m \u001b[0mdate_limits\u001b[0m \u001b[1;33m=\u001b[0m \u001b[1;32mNone\u001b[0m\u001b[1;33m)\u001b[0m\u001b[1;33m:\u001b[0m\u001b[1;33m\u001b[0m\u001b[1;33m\u001b[0m\u001b[0m\n\u001b[1;32m----> 2\u001b[1;33m     \u001b[0mdf\u001b[0m \u001b[1;33m=\u001b[0m \u001b[0mget_df_from_subject\u001b[0m\u001b[1;33m(\u001b[0m\u001b[0msubject\u001b[0m\u001b[1;33m,\u001b[0m\u001b[0mnum_pages\u001b[0m\u001b[1;33m,\u001b[0m \u001b[0mdate_limits\u001b[0m\u001b[1;33m)\u001b[0m \u001b[1;31m#DF from scraping\u001b[0m\u001b[1;33m\u001b[0m\u001b[1;33m\u001b[0m\u001b[0m\n\u001b[0m\u001b[0;32m      3\u001b[0m     \u001b[0mprint\u001b[0m\u001b[1;33m(\u001b[0m\u001b[1;34m\"Done scraping\"\u001b[0m\u001b[1;33m)\u001b[0m\u001b[1;33m\u001b[0m\u001b[1;33m\u001b[0m\u001b[0m\n\u001b[0;32m      4\u001b[0m     \u001b[1;31m#df = get_rid_of_date(df) #No date\u001b[0m\u001b[1;33m\u001b[0m\u001b[1;33m\u001b[0m\u001b[0m\n\u001b[0;32m      5\u001b[0m     \u001b[0mdf\u001b[0m \u001b[1;33m=\u001b[0m \u001b[0mdf\u001b[0m\u001b[1;33m.\u001b[0m\u001b[0mdropna\u001b[0m\u001b[1;33m(\u001b[0m\u001b[1;33m)\u001b[0m \u001b[1;31m#Drop missing values\u001b[0m\u001b[1;33m\u001b[0m\u001b[1;33m\u001b[0m\u001b[0m\n",
      "\u001b[1;32mC:\\Users\\SORLUC~1\\AppData\\Local\\Temp/ipykernel_7980/1010673943.py\u001b[0m in \u001b[0;36mget_df_from_subject\u001b[1;34m(subject, num_pages, date_limits)\u001b[0m\n\u001b[0;32m      1\u001b[0m \u001b[1;32mdef\u001b[0m \u001b[0mget_df_from_subject\u001b[0m\u001b[1;33m(\u001b[0m\u001b[0msubject\u001b[0m\u001b[1;33m,\u001b[0m\u001b[0mnum_pages\u001b[0m\u001b[1;33m,\u001b[0m \u001b[0mdate_limits\u001b[0m \u001b[1;33m=\u001b[0m \u001b[1;32mNone\u001b[0m\u001b[1;33m)\u001b[0m\u001b[1;33m:\u001b[0m\u001b[1;33m\u001b[0m\u001b[1;33m\u001b[0m\u001b[0m\n\u001b[1;32m----> 2\u001b[1;33m     \u001b[0mlink_list\u001b[0m\u001b[1;33m,\u001b[0m \u001b[0mdate_list\u001b[0m \u001b[1;33m=\u001b[0m \u001b[0mget_lists_from_subject\u001b[0m\u001b[1;33m(\u001b[0m\u001b[0msubject\u001b[0m\u001b[1;33m,\u001b[0m \u001b[0mnum_pages\u001b[0m\u001b[1;33m,\u001b[0m \u001b[0mdate_limits\u001b[0m\u001b[1;33m)\u001b[0m\u001b[1;33m\u001b[0m\u001b[1;33m\u001b[0m\u001b[0m\n\u001b[0m\u001b[0;32m      3\u001b[0m     \u001b[1;32mreturn\u001b[0m \u001b[0mget_df_from_link_list\u001b[0m\u001b[1;33m(\u001b[0m\u001b[0mlink_list\u001b[0m\u001b[1;33m,\u001b[0m \u001b[0mdate_list\u001b[0m\u001b[1;33m)\u001b[0m\u001b[1;33m\u001b[0m\u001b[1;33m\u001b[0m\u001b[0m\n",
      "\u001b[1;32mC:\\Users\\SORLUC~1\\AppData\\Local\\Temp/ipykernel_7980/1167583241.py\u001b[0m in \u001b[0;36mget_lists_from_subject\u001b[1;34m(subject, num_pages, date_limits)\u001b[0m\n\u001b[0;32m     26\u001b[0m     \u001b[1;32mfor\u001b[0m \u001b[0mi\u001b[0m \u001b[1;32min\u001b[0m \u001b[0mrange\u001b[0m\u001b[1;33m(\u001b[0m\u001b[0mnum_pages\u001b[0m\u001b[1;33m)\u001b[0m\u001b[1;33m:\u001b[0m\u001b[1;33m\u001b[0m\u001b[1;33m\u001b[0m\u001b[0m\n\u001b[0;32m     27\u001b[0m         \u001b[1;32mif\u001b[0m \u001b[0mi\u001b[0m \u001b[1;33m!=\u001b[0m \u001b[1;36m0\u001b[0m\u001b[1;33m:\u001b[0m\u001b[1;33m\u001b[0m\u001b[1;33m\u001b[0m\u001b[0m\n\u001b[1;32m---> 28\u001b[1;33m             \u001b[0mdriver\u001b[0m\u001b[1;33m.\u001b[0m\u001b[0mfind_element\u001b[0m\u001b[1;33m(\u001b[0m\u001b[0mBy\u001b[0m\u001b[1;33m.\u001b[0m\u001b[0mID\u001b[0m\u001b[1;33m,\u001b[0m \u001b[1;34m\"pnnext\"\u001b[0m\u001b[1;33m)\u001b[0m\u001b[1;33m.\u001b[0m\u001b[0mclick\u001b[0m\u001b[1;33m(\u001b[0m\u001b[1;33m)\u001b[0m\u001b[1;33m\u001b[0m\u001b[1;33m\u001b[0m\u001b[0m\n\u001b[0m\u001b[0;32m     29\u001b[0m \u001b[1;33m\u001b[0m\u001b[0m\n\u001b[0;32m     30\u001b[0m         \u001b[0mhtml_source\u001b[0m \u001b[1;33m=\u001b[0m \u001b[0mdriver\u001b[0m\u001b[1;33m.\u001b[0m\u001b[0mpage_source\u001b[0m\u001b[1;33m\u001b[0m\u001b[1;33m\u001b[0m\u001b[0m\n",
      "\u001b[1;32m~\\AppData\\Local\\Programs\\Python\\Python39\\lib\\site-packages\\selenium\\webdriver\\remote\\webdriver.py\u001b[0m in \u001b[0;36mfind_element\u001b[1;34m(self, by, value)\u001b[0m\n\u001b[0;32m   1242\u001b[0m             \u001b[0mvalue\u001b[0m \u001b[1;33m=\u001b[0m \u001b[1;34m'[name=\"%s\"]'\u001b[0m \u001b[1;33m%\u001b[0m \u001b[0mvalue\u001b[0m\u001b[1;33m\u001b[0m\u001b[1;33m\u001b[0m\u001b[0m\n\u001b[0;32m   1243\u001b[0m \u001b[1;33m\u001b[0m\u001b[0m\n\u001b[1;32m-> 1244\u001b[1;33m         return self.execute(Command.FIND_ELEMENT, {\n\u001b[0m\u001b[0;32m   1245\u001b[0m             \u001b[1;34m'using'\u001b[0m\u001b[1;33m:\u001b[0m \u001b[0mby\u001b[0m\u001b[1;33m,\u001b[0m\u001b[1;33m\u001b[0m\u001b[1;33m\u001b[0m\u001b[0m\n\u001b[0;32m   1246\u001b[0m             'value': value})['value']\n",
      "\u001b[1;32m~\\AppData\\Local\\Programs\\Python\\Python39\\lib\\site-packages\\selenium\\webdriver\\remote\\webdriver.py\u001b[0m in \u001b[0;36mexecute\u001b[1;34m(self, driver_command, params)\u001b[0m\n\u001b[0;32m    422\u001b[0m         \u001b[0mresponse\u001b[0m \u001b[1;33m=\u001b[0m \u001b[0mself\u001b[0m\u001b[1;33m.\u001b[0m\u001b[0mcommand_executor\u001b[0m\u001b[1;33m.\u001b[0m\u001b[0mexecute\u001b[0m\u001b[1;33m(\u001b[0m\u001b[0mdriver_command\u001b[0m\u001b[1;33m,\u001b[0m \u001b[0mparams\u001b[0m\u001b[1;33m)\u001b[0m\u001b[1;33m\u001b[0m\u001b[1;33m\u001b[0m\u001b[0m\n\u001b[0;32m    423\u001b[0m         \u001b[1;32mif\u001b[0m \u001b[0mresponse\u001b[0m\u001b[1;33m:\u001b[0m\u001b[1;33m\u001b[0m\u001b[1;33m\u001b[0m\u001b[0m\n\u001b[1;32m--> 424\u001b[1;33m             \u001b[0mself\u001b[0m\u001b[1;33m.\u001b[0m\u001b[0merror_handler\u001b[0m\u001b[1;33m.\u001b[0m\u001b[0mcheck_response\u001b[0m\u001b[1;33m(\u001b[0m\u001b[0mresponse\u001b[0m\u001b[1;33m)\u001b[0m\u001b[1;33m\u001b[0m\u001b[1;33m\u001b[0m\u001b[0m\n\u001b[0m\u001b[0;32m    425\u001b[0m             response['value'] = self._unwrap_value(\n\u001b[0;32m    426\u001b[0m                 response.get('value', None))\n",
      "\u001b[1;32m~\\AppData\\Local\\Programs\\Python\\Python39\\lib\\site-packages\\selenium\\webdriver\\remote\\errorhandler.py\u001b[0m in \u001b[0;36mcheck_response\u001b[1;34m(self, response)\u001b[0m\n\u001b[0;32m    245\u001b[0m                 \u001b[0malert_text\u001b[0m \u001b[1;33m=\u001b[0m \u001b[0mvalue\u001b[0m\u001b[1;33m[\u001b[0m\u001b[1;34m'alert'\u001b[0m\u001b[1;33m]\u001b[0m\u001b[1;33m.\u001b[0m\u001b[0mget\u001b[0m\u001b[1;33m(\u001b[0m\u001b[1;34m'text'\u001b[0m\u001b[1;33m)\u001b[0m\u001b[1;33m\u001b[0m\u001b[1;33m\u001b[0m\u001b[0m\n\u001b[0;32m    246\u001b[0m             \u001b[1;32mraise\u001b[0m \u001b[0mexception_class\u001b[0m\u001b[1;33m(\u001b[0m\u001b[0mmessage\u001b[0m\u001b[1;33m,\u001b[0m \u001b[0mscreen\u001b[0m\u001b[1;33m,\u001b[0m \u001b[0mstacktrace\u001b[0m\u001b[1;33m,\u001b[0m \u001b[0malert_text\u001b[0m\u001b[1;33m)\u001b[0m  \u001b[1;31m# type: ignore[call-arg]  # mypy is not smart enough here\u001b[0m\u001b[1;33m\u001b[0m\u001b[1;33m\u001b[0m\u001b[0m\n\u001b[1;32m--> 247\u001b[1;33m         \u001b[1;32mraise\u001b[0m \u001b[0mexception_class\u001b[0m\u001b[1;33m(\u001b[0m\u001b[0mmessage\u001b[0m\u001b[1;33m,\u001b[0m \u001b[0mscreen\u001b[0m\u001b[1;33m,\u001b[0m \u001b[0mstacktrace\u001b[0m\u001b[1;33m)\u001b[0m\u001b[1;33m\u001b[0m\u001b[1;33m\u001b[0m\u001b[0m\n\u001b[0m\u001b[0;32m    248\u001b[0m \u001b[1;33m\u001b[0m\u001b[0m\n\u001b[0;32m    249\u001b[0m     \u001b[1;32mdef\u001b[0m \u001b[0m_value_or_default\u001b[0m\u001b[1;33m(\u001b[0m\u001b[0mself\u001b[0m\u001b[1;33m,\u001b[0m \u001b[0mobj\u001b[0m\u001b[1;33m:\u001b[0m \u001b[0mMapping\u001b[0m\u001b[1;33m[\u001b[0m\u001b[0m_KT\u001b[0m\u001b[1;33m,\u001b[0m \u001b[0m_VT\u001b[0m\u001b[1;33m]\u001b[0m\u001b[1;33m,\u001b[0m \u001b[0mkey\u001b[0m\u001b[1;33m:\u001b[0m \u001b[0m_KT\u001b[0m\u001b[1;33m,\u001b[0m \u001b[0mdefault\u001b[0m\u001b[1;33m:\u001b[0m \u001b[0m_VT\u001b[0m\u001b[1;33m)\u001b[0m \u001b[1;33m->\u001b[0m \u001b[0m_VT\u001b[0m\u001b[1;33m:\u001b[0m\u001b[1;33m\u001b[0m\u001b[1;33m\u001b[0m\u001b[0m\n",
      "\u001b[1;31mNoSuchElementException\u001b[0m: Message: no such element: Unable to locate element: {\"method\":\"css selector\",\"selector\":\"[id=\"pnnext\"]\"}\n  (Session info: chrome=97.0.4692.99)\nStacktrace:\nBacktrace:\n\tOrdinal0 [0x006A6903+2517251]\n\tOrdinal0 [0x0063F8E1+2095329]\n\tOrdinal0 [0x00542848+1058888]\n\tOrdinal0 [0x0056D448+1233992]\n\tOrdinal0 [0x0056D63B+1234491]\n\tOrdinal0 [0x00597812+1406994]\n\tOrdinal0 [0x0058650A+1336586]\n\tOrdinal0 [0x00595BBF+1399743]\n\tOrdinal0 [0x0058639B+1336219]\n\tOrdinal0 [0x005627A7+1189799]\n\tOrdinal0 [0x00563609+1193481]\n\tGetHandleVerifier [0x00835904+1577972]\n\tGetHandleVerifier [0x008E0B97+2279047]\n\tGetHandleVerifier [0x00736D09+534521]\n\tGetHandleVerifier [0x00735DB9+530601]\n\tOrdinal0 [0x00644FF9+2117625]\n\tOrdinal0 [0x006498A8+2136232]\n\tOrdinal0 [0x006499E2+2136546]\n\tOrdinal0 [0x00653541+2176321]\n\tBaseThreadInitThunk [0x7636FA29+25]\n\tRtlGetAppContainerNamedObjectPath [0x770C7A9E+286]\n\tRtlGetAppContainerNamedObjectPath [0x770C7A6E+238]\n"
     ]
    }
   ],
   "source": [
    "lower_date = datetime(2016,1,1)\n",
    "higher_date = datetime(2017,1,1)\n",
    "date_limits = (lower_date,higher_date)\n",
    "df_location = get_locations_df_from_subject(\"Earthquake\", 50, date_limits)\n",
    "df_location"
   ]
  },
  {
   "cell_type": "code",
   "execution_count": null,
   "metadata": {},
   "outputs": [
    {
     "data": {
      "application/vnd.plotly.v1+json": {
       "config": {
        "plotlyServerURL": "https://plotly.com"
       },
       "data": [
        {
         "hovertemplate": "Date=%{x}<br>Count=%{y}<extra></extra>",
         "legendgroup": "",
         "line": {
          "color": "#636efa",
          "dash": "solid"
         },
         "marker": {
          "symbol": "circle"
         },
         "mode": "lines",
         "name": "",
         "orientation": "v",
         "showlegend": false,
         "type": "scatter",
         "x": [
          "2016-01-03",
          "2016-01-04",
          "2016-01-05",
          "2016-01-06",
          "2016-01-07",
          "2016-01-08",
          "2016-01-09",
          "2016-01-10",
          "2016-01-11",
          "2016-01-12",
          "2016-01-13",
          "2016-01-14",
          "2016-01-15",
          "2016-01-16",
          "2016-01-17",
          "2016-01-18",
          "2016-01-19",
          "2016-01-20",
          "2016-01-21",
          "2016-01-22",
          "2016-01-23",
          "2016-01-24",
          "2016-01-25",
          "2016-01-26",
          "2016-01-27",
          "2016-01-28",
          "2016-01-29",
          "2016-01-30",
          "2016-01-31",
          "2016-02-01",
          "2016-02-02",
          "2016-02-03",
          "2016-02-04",
          "2016-02-05",
          "2016-02-06",
          "2016-02-07",
          "2016-02-08",
          "2016-02-09",
          "2016-02-10",
          "2016-02-11",
          "2016-02-12",
          "2016-02-13",
          "2016-02-14",
          "2016-02-15",
          "2016-02-16",
          "2016-02-17",
          "2016-02-18",
          "2016-02-19",
          "2016-02-20",
          "2016-02-21",
          "2016-02-22",
          "2016-02-23",
          "2016-02-24",
          "2016-02-25",
          "2016-02-26",
          "2016-02-27",
          "2016-02-28",
          "2016-02-29",
          "2016-03-01",
          "2016-03-02",
          "2016-03-03",
          "2016-03-04",
          "2016-03-05",
          "2016-03-06",
          "2016-03-07",
          "2016-03-08",
          "2016-03-09",
          "2016-03-10",
          "2016-03-11",
          "2016-03-12",
          "2016-03-13",
          "2016-03-14",
          "2016-03-15",
          "2016-03-16",
          "2016-03-17",
          "2016-03-18",
          "2016-03-19",
          "2016-03-20",
          "2016-03-21",
          "2016-03-22",
          "2016-03-23",
          "2016-03-24",
          "2016-03-25",
          "2016-03-26",
          "2016-03-27",
          "2016-03-28",
          "2016-03-29",
          "2016-03-30",
          "2016-03-31",
          "2016-04-01",
          "2016-04-02",
          "2016-04-03",
          "2016-04-04",
          "2016-04-05",
          "2016-04-06",
          "2016-04-07",
          "2016-04-08",
          "2016-04-09",
          "2016-04-10",
          "2016-04-11",
          "2016-04-12",
          "2016-04-13",
          "2016-04-14",
          "2016-04-15",
          "2016-04-16",
          "2016-04-17",
          "2016-04-18",
          "2016-04-19",
          "2016-04-20",
          "2016-04-21",
          "2016-04-22",
          "2016-04-23",
          "2016-04-24",
          "2016-04-25",
          "2016-04-26",
          "2016-04-27",
          "2016-04-28",
          "2016-04-29",
          "2016-04-30",
          "2016-05-01",
          "2016-05-02",
          "2016-05-03",
          "2016-05-04",
          "2016-05-05",
          "2016-05-06",
          "2016-05-07",
          "2016-05-08",
          "2016-05-09",
          "2016-05-10",
          "2016-05-11",
          "2016-05-12",
          "2016-05-13",
          "2016-05-14",
          "2016-05-15",
          "2016-05-16",
          "2016-05-17",
          "2016-05-18",
          "2016-05-19",
          "2016-05-20",
          "2016-05-21",
          "2016-05-22",
          "2016-05-23",
          "2016-05-24",
          "2016-05-25",
          "2016-05-26",
          "2016-05-27",
          "2016-05-28",
          "2016-05-29",
          "2016-05-30",
          "2016-05-31",
          "2016-06-01",
          "2016-06-02",
          "2016-06-03",
          "2016-06-04",
          "2016-06-05",
          "2016-06-06",
          "2016-06-07",
          "2016-06-08",
          "2016-06-09",
          "2016-06-10",
          "2016-06-11",
          "2016-06-12",
          "2016-06-13",
          "2016-06-14",
          "2016-06-15",
          "2016-06-16",
          "2016-06-17",
          "2016-06-18",
          "2016-06-19",
          "2016-06-20",
          "2016-06-21",
          "2016-06-22",
          "2016-06-23",
          "2016-06-24",
          "2016-06-25",
          "2016-06-26",
          "2016-06-27",
          "2016-06-28",
          "2016-06-29",
          "2016-06-30",
          "2016-07-01",
          "2016-07-02",
          "2016-07-03",
          "2016-07-04",
          "2016-07-05",
          "2016-07-06",
          "2016-07-07",
          "2016-07-08",
          "2016-07-09",
          "2016-07-10",
          "2016-07-11",
          "2016-07-12",
          "2016-07-13",
          "2016-07-14",
          "2016-07-15",
          "2016-07-16",
          "2016-07-17",
          "2016-07-18",
          "2016-07-19",
          "2016-07-20",
          "2016-07-21",
          "2016-07-22",
          "2016-07-23",
          "2016-07-24",
          "2016-07-25",
          "2016-07-26",
          "2016-07-27",
          "2016-07-28",
          "2016-07-29",
          "2016-07-30",
          "2016-07-31",
          "2016-08-01",
          "2016-08-02",
          "2016-08-03",
          "2016-08-04",
          "2016-08-05",
          "2016-08-06",
          "2016-08-07",
          "2016-08-08",
          "2016-08-09",
          "2016-08-10",
          "2016-08-11",
          "2016-08-12",
          "2016-08-13",
          "2016-08-14",
          "2016-08-15",
          "2016-08-16",
          "2016-08-17",
          "2016-08-18",
          "2016-08-19",
          "2016-08-20",
          "2016-08-21",
          "2016-08-22",
          "2016-08-23",
          "2016-08-24",
          "2016-08-25",
          "2016-08-26",
          "2016-08-27",
          "2016-08-28",
          "2016-08-29",
          "2016-08-30",
          "2016-08-31",
          "2016-09-01",
          "2016-09-02",
          "2016-09-03",
          "2016-09-04",
          "2016-09-05",
          "2016-09-06",
          "2016-09-07",
          "2016-09-08",
          "2016-09-09",
          "2016-09-10",
          "2016-09-11",
          "2016-09-12",
          "2016-09-13",
          "2016-09-14",
          "2016-09-15",
          "2016-09-16",
          "2016-09-17",
          "2016-09-18",
          "2016-09-19",
          "2016-09-20",
          "2016-09-21",
          "2016-09-22",
          "2016-09-23",
          "2016-09-24",
          "2016-09-25",
          "2016-09-26",
          "2016-09-27",
          "2016-09-28",
          "2016-09-29",
          "2016-09-30",
          "2016-10-01",
          "2016-10-02",
          "2016-10-03",
          "2016-10-04",
          "2016-10-05",
          "2016-10-06",
          "2016-10-07",
          "2016-10-08",
          "2016-10-09",
          "2016-10-10",
          "2016-10-11",
          "2016-10-12",
          "2016-10-13",
          "2016-10-14",
          "2016-10-15",
          "2016-10-16",
          "2016-10-17",
          "2016-10-18",
          "2016-10-19",
          "2016-10-20",
          "2016-10-21",
          "2016-10-22",
          "2016-10-23",
          "2016-10-24",
          "2016-10-25",
          "2016-10-26",
          "2016-10-27",
          "2016-10-28",
          "2016-10-29",
          "2016-10-30",
          "2016-10-31",
          "2016-11-01",
          "2016-11-02",
          "2016-11-03",
          "2016-11-04",
          "2016-11-05",
          "2016-11-06",
          "2016-11-07",
          "2016-11-08",
          "2016-11-09",
          "2016-11-10",
          "2016-11-11",
          "2016-11-12",
          "2016-11-13",
          "2016-11-14",
          "2016-11-15",
          "2016-11-16",
          "2016-11-17",
          "2016-11-18",
          "2016-11-19",
          "2016-11-20",
          "2016-11-21",
          "2016-11-22",
          "2016-11-23",
          "2016-11-24",
          "2016-11-25",
          "2016-11-26",
          "2016-11-27",
          "2016-11-28",
          "2016-11-29",
          "2016-11-30",
          "2016-12-01",
          "2016-12-02",
          "2016-12-03",
          "2016-12-04",
          "2016-12-05",
          "2016-12-06",
          "2016-12-07",
          "2016-12-08",
          "2016-12-09",
          "2016-12-10",
          "2016-12-11",
          "2016-12-12"
         ],
         "xaxis": "x",
         "y": [
          1,
          0,
          0,
          0,
          0,
          0,
          0,
          0,
          0,
          1,
          0,
          0,
          0,
          0,
          0,
          0,
          0,
          0,
          0,
          0,
          0,
          3,
          0,
          0,
          0,
          0,
          0,
          0,
          0,
          0,
          0,
          0,
          0,
          0,
          1,
          0,
          1,
          1,
          0,
          0,
          1,
          0,
          1,
          0,
          0,
          0,
          0,
          1,
          0,
          0,
          0,
          0,
          0,
          0,
          0,
          0,
          0,
          0,
          0,
          1,
          0,
          0,
          0,
          0,
          0,
          1,
          0,
          0,
          1,
          0,
          0,
          0,
          0,
          0,
          0,
          0,
          0,
          0,
          0,
          0,
          0,
          0,
          0,
          0,
          0,
          1,
          0,
          0,
          0,
          0,
          0,
          1,
          0,
          0,
          0,
          0,
          0,
          0,
          1,
          0,
          0,
          0,
          0,
          0,
          1,
          1,
          2,
          1,
          0,
          0,
          0,
          0,
          0,
          1,
          0,
          0,
          0,
          0,
          0,
          0,
          1,
          0,
          0,
          0,
          0,
          0,
          0,
          0,
          0,
          0,
          0,
          0,
          0,
          0,
          0,
          0,
          1,
          0,
          1,
          0,
          0,
          0,
          0,
          0,
          0,
          0,
          0,
          0,
          0,
          0,
          0,
          0,
          0,
          0,
          0,
          0,
          0,
          0,
          0,
          0,
          1,
          0,
          0,
          0,
          0,
          0,
          0,
          0,
          0,
          0,
          0,
          0,
          0,
          0,
          0,
          0,
          0,
          0,
          0,
          0,
          0,
          0,
          0,
          0,
          0,
          0,
          0,
          0,
          0,
          0,
          0,
          0,
          0,
          0,
          0,
          0,
          0,
          1,
          0,
          0,
          0,
          0,
          0,
          0,
          0,
          0,
          0,
          0,
          0,
          1,
          0,
          1,
          0,
          0,
          0,
          0,
          0,
          0,
          0,
          0,
          1,
          0,
          1,
          0,
          0,
          0,
          0,
          0,
          1,
          0,
          0,
          0,
          0,
          2,
          4,
          0,
          0,
          0,
          0,
          1,
          2,
          1,
          0,
          0,
          2,
          0,
          1,
          0,
          0,
          0,
          0,
          0,
          0,
          0,
          2,
          0,
          0,
          0,
          0,
          0,
          0,
          0,
          0,
          1,
          1,
          0,
          0,
          0,
          0,
          0,
          0,
          0,
          0,
          0,
          0,
          1,
          0,
          0,
          0,
          0,
          0,
          0,
          0,
          0,
          0,
          0,
          0,
          0,
          0,
          0,
          0,
          0,
          1,
          0,
          0,
          0,
          0,
          0,
          3,
          0,
          0,
          0,
          0,
          1,
          0,
          0,
          0,
          0,
          1,
          2,
          0,
          0,
          0,
          0,
          0,
          1,
          0,
          0,
          0,
          0,
          0,
          0,
          0,
          1,
          0,
          1,
          0,
          0,
          0,
          1,
          0,
          0,
          0,
          0,
          0,
          0,
          0,
          0,
          0,
          1,
          1,
          0,
          0,
          0,
          1
         ],
         "yaxis": "y"
        }
       ],
       "layout": {
        "legend": {
         "tracegroupgap": 0
        },
        "template": {
         "data": {
          "bar": [
           {
            "error_x": {
             "color": "#2a3f5f"
            },
            "error_y": {
             "color": "#2a3f5f"
            },
            "marker": {
             "line": {
              "color": "#E5ECF6",
              "width": 0.5
             },
             "pattern": {
              "fillmode": "overlay",
              "size": 10,
              "solidity": 0.2
             }
            },
            "type": "bar"
           }
          ],
          "barpolar": [
           {
            "marker": {
             "line": {
              "color": "#E5ECF6",
              "width": 0.5
             },
             "pattern": {
              "fillmode": "overlay",
              "size": 10,
              "solidity": 0.2
             }
            },
            "type": "barpolar"
           }
          ],
          "carpet": [
           {
            "aaxis": {
             "endlinecolor": "#2a3f5f",
             "gridcolor": "white",
             "linecolor": "white",
             "minorgridcolor": "white",
             "startlinecolor": "#2a3f5f"
            },
            "baxis": {
             "endlinecolor": "#2a3f5f",
             "gridcolor": "white",
             "linecolor": "white",
             "minorgridcolor": "white",
             "startlinecolor": "#2a3f5f"
            },
            "type": "carpet"
           }
          ],
          "choropleth": [
           {
            "colorbar": {
             "outlinewidth": 0,
             "ticks": ""
            },
            "type": "choropleth"
           }
          ],
          "contour": [
           {
            "colorbar": {
             "outlinewidth": 0,
             "ticks": ""
            },
            "colorscale": [
             [
              0,
              "#0d0887"
             ],
             [
              0.1111111111111111,
              "#46039f"
             ],
             [
              0.2222222222222222,
              "#7201a8"
             ],
             [
              0.3333333333333333,
              "#9c179e"
             ],
             [
              0.4444444444444444,
              "#bd3786"
             ],
             [
              0.5555555555555556,
              "#d8576b"
             ],
             [
              0.6666666666666666,
              "#ed7953"
             ],
             [
              0.7777777777777778,
              "#fb9f3a"
             ],
             [
              0.8888888888888888,
              "#fdca26"
             ],
             [
              1,
              "#f0f921"
             ]
            ],
            "type": "contour"
           }
          ],
          "contourcarpet": [
           {
            "colorbar": {
             "outlinewidth": 0,
             "ticks": ""
            },
            "type": "contourcarpet"
           }
          ],
          "heatmap": [
           {
            "colorbar": {
             "outlinewidth": 0,
             "ticks": ""
            },
            "colorscale": [
             [
              0,
              "#0d0887"
             ],
             [
              0.1111111111111111,
              "#46039f"
             ],
             [
              0.2222222222222222,
              "#7201a8"
             ],
             [
              0.3333333333333333,
              "#9c179e"
             ],
             [
              0.4444444444444444,
              "#bd3786"
             ],
             [
              0.5555555555555556,
              "#d8576b"
             ],
             [
              0.6666666666666666,
              "#ed7953"
             ],
             [
              0.7777777777777778,
              "#fb9f3a"
             ],
             [
              0.8888888888888888,
              "#fdca26"
             ],
             [
              1,
              "#f0f921"
             ]
            ],
            "type": "heatmap"
           }
          ],
          "heatmapgl": [
           {
            "colorbar": {
             "outlinewidth": 0,
             "ticks": ""
            },
            "colorscale": [
             [
              0,
              "#0d0887"
             ],
             [
              0.1111111111111111,
              "#46039f"
             ],
             [
              0.2222222222222222,
              "#7201a8"
             ],
             [
              0.3333333333333333,
              "#9c179e"
             ],
             [
              0.4444444444444444,
              "#bd3786"
             ],
             [
              0.5555555555555556,
              "#d8576b"
             ],
             [
              0.6666666666666666,
              "#ed7953"
             ],
             [
              0.7777777777777778,
              "#fb9f3a"
             ],
             [
              0.8888888888888888,
              "#fdca26"
             ],
             [
              1,
              "#f0f921"
             ]
            ],
            "type": "heatmapgl"
           }
          ],
          "histogram": [
           {
            "marker": {
             "pattern": {
              "fillmode": "overlay",
              "size": 10,
              "solidity": 0.2
             }
            },
            "type": "histogram"
           }
          ],
          "histogram2d": [
           {
            "colorbar": {
             "outlinewidth": 0,
             "ticks": ""
            },
            "colorscale": [
             [
              0,
              "#0d0887"
             ],
             [
              0.1111111111111111,
              "#46039f"
             ],
             [
              0.2222222222222222,
              "#7201a8"
             ],
             [
              0.3333333333333333,
              "#9c179e"
             ],
             [
              0.4444444444444444,
              "#bd3786"
             ],
             [
              0.5555555555555556,
              "#d8576b"
             ],
             [
              0.6666666666666666,
              "#ed7953"
             ],
             [
              0.7777777777777778,
              "#fb9f3a"
             ],
             [
              0.8888888888888888,
              "#fdca26"
             ],
             [
              1,
              "#f0f921"
             ]
            ],
            "type": "histogram2d"
           }
          ],
          "histogram2dcontour": [
           {
            "colorbar": {
             "outlinewidth": 0,
             "ticks": ""
            },
            "colorscale": [
             [
              0,
              "#0d0887"
             ],
             [
              0.1111111111111111,
              "#46039f"
             ],
             [
              0.2222222222222222,
              "#7201a8"
             ],
             [
              0.3333333333333333,
              "#9c179e"
             ],
             [
              0.4444444444444444,
              "#bd3786"
             ],
             [
              0.5555555555555556,
              "#d8576b"
             ],
             [
              0.6666666666666666,
              "#ed7953"
             ],
             [
              0.7777777777777778,
              "#fb9f3a"
             ],
             [
              0.8888888888888888,
              "#fdca26"
             ],
             [
              1,
              "#f0f921"
             ]
            ],
            "type": "histogram2dcontour"
           }
          ],
          "mesh3d": [
           {
            "colorbar": {
             "outlinewidth": 0,
             "ticks": ""
            },
            "type": "mesh3d"
           }
          ],
          "parcoords": [
           {
            "line": {
             "colorbar": {
              "outlinewidth": 0,
              "ticks": ""
             }
            },
            "type": "parcoords"
           }
          ],
          "pie": [
           {
            "automargin": true,
            "type": "pie"
           }
          ],
          "scatter": [
           {
            "marker": {
             "colorbar": {
              "outlinewidth": 0,
              "ticks": ""
             }
            },
            "type": "scatter"
           }
          ],
          "scatter3d": [
           {
            "line": {
             "colorbar": {
              "outlinewidth": 0,
              "ticks": ""
             }
            },
            "marker": {
             "colorbar": {
              "outlinewidth": 0,
              "ticks": ""
             }
            },
            "type": "scatter3d"
           }
          ],
          "scattercarpet": [
           {
            "marker": {
             "colorbar": {
              "outlinewidth": 0,
              "ticks": ""
             }
            },
            "type": "scattercarpet"
           }
          ],
          "scattergeo": [
           {
            "marker": {
             "colorbar": {
              "outlinewidth": 0,
              "ticks": ""
             }
            },
            "type": "scattergeo"
           }
          ],
          "scattergl": [
           {
            "marker": {
             "colorbar": {
              "outlinewidth": 0,
              "ticks": ""
             }
            },
            "type": "scattergl"
           }
          ],
          "scattermapbox": [
           {
            "marker": {
             "colorbar": {
              "outlinewidth": 0,
              "ticks": ""
             }
            },
            "type": "scattermapbox"
           }
          ],
          "scatterpolar": [
           {
            "marker": {
             "colorbar": {
              "outlinewidth": 0,
              "ticks": ""
             }
            },
            "type": "scatterpolar"
           }
          ],
          "scatterpolargl": [
           {
            "marker": {
             "colorbar": {
              "outlinewidth": 0,
              "ticks": ""
             }
            },
            "type": "scatterpolargl"
           }
          ],
          "scatterternary": [
           {
            "marker": {
             "colorbar": {
              "outlinewidth": 0,
              "ticks": ""
             }
            },
            "type": "scatterternary"
           }
          ],
          "surface": [
           {
            "colorbar": {
             "outlinewidth": 0,
             "ticks": ""
            },
            "colorscale": [
             [
              0,
              "#0d0887"
             ],
             [
              0.1111111111111111,
              "#46039f"
             ],
             [
              0.2222222222222222,
              "#7201a8"
             ],
             [
              0.3333333333333333,
              "#9c179e"
             ],
             [
              0.4444444444444444,
              "#bd3786"
             ],
             [
              0.5555555555555556,
              "#d8576b"
             ],
             [
              0.6666666666666666,
              "#ed7953"
             ],
             [
              0.7777777777777778,
              "#fb9f3a"
             ],
             [
              0.8888888888888888,
              "#fdca26"
             ],
             [
              1,
              "#f0f921"
             ]
            ],
            "type": "surface"
           }
          ],
          "table": [
           {
            "cells": {
             "fill": {
              "color": "#EBF0F8"
             },
             "line": {
              "color": "white"
             }
            },
            "header": {
             "fill": {
              "color": "#C8D4E3"
             },
             "line": {
              "color": "white"
             }
            },
            "type": "table"
           }
          ]
         },
         "layout": {
          "annotationdefaults": {
           "arrowcolor": "#2a3f5f",
           "arrowhead": 0,
           "arrowwidth": 1
          },
          "autotypenumbers": "strict",
          "coloraxis": {
           "colorbar": {
            "outlinewidth": 0,
            "ticks": ""
           }
          },
          "colorscale": {
           "diverging": [
            [
             0,
             "#8e0152"
            ],
            [
             0.1,
             "#c51b7d"
            ],
            [
             0.2,
             "#de77ae"
            ],
            [
             0.3,
             "#f1b6da"
            ],
            [
             0.4,
             "#fde0ef"
            ],
            [
             0.5,
             "#f7f7f7"
            ],
            [
             0.6,
             "#e6f5d0"
            ],
            [
             0.7,
             "#b8e186"
            ],
            [
             0.8,
             "#7fbc41"
            ],
            [
             0.9,
             "#4d9221"
            ],
            [
             1,
             "#276419"
            ]
           ],
           "sequential": [
            [
             0,
             "#0d0887"
            ],
            [
             0.1111111111111111,
             "#46039f"
            ],
            [
             0.2222222222222222,
             "#7201a8"
            ],
            [
             0.3333333333333333,
             "#9c179e"
            ],
            [
             0.4444444444444444,
             "#bd3786"
            ],
            [
             0.5555555555555556,
             "#d8576b"
            ],
            [
             0.6666666666666666,
             "#ed7953"
            ],
            [
             0.7777777777777778,
             "#fb9f3a"
            ],
            [
             0.8888888888888888,
             "#fdca26"
            ],
            [
             1,
             "#f0f921"
            ]
           ],
           "sequentialminus": [
            [
             0,
             "#0d0887"
            ],
            [
             0.1111111111111111,
             "#46039f"
            ],
            [
             0.2222222222222222,
             "#7201a8"
            ],
            [
             0.3333333333333333,
             "#9c179e"
            ],
            [
             0.4444444444444444,
             "#bd3786"
            ],
            [
             0.5555555555555556,
             "#d8576b"
            ],
            [
             0.6666666666666666,
             "#ed7953"
            ],
            [
             0.7777777777777778,
             "#fb9f3a"
            ],
            [
             0.8888888888888888,
             "#fdca26"
            ],
            [
             1,
             "#f0f921"
            ]
           ]
          },
          "colorway": [
           "#636efa",
           "#EF553B",
           "#00cc96",
           "#ab63fa",
           "#FFA15A",
           "#19d3f3",
           "#FF6692",
           "#B6E880",
           "#FF97FF",
           "#FECB52"
          ],
          "font": {
           "color": "#2a3f5f"
          },
          "geo": {
           "bgcolor": "white",
           "lakecolor": "white",
           "landcolor": "#E5ECF6",
           "showlakes": true,
           "showland": true,
           "subunitcolor": "white"
          },
          "hoverlabel": {
           "align": "left"
          },
          "hovermode": "closest",
          "mapbox": {
           "style": "light"
          },
          "paper_bgcolor": "white",
          "plot_bgcolor": "#E5ECF6",
          "polar": {
           "angularaxis": {
            "gridcolor": "white",
            "linecolor": "white",
            "ticks": ""
           },
           "bgcolor": "#E5ECF6",
           "radialaxis": {
            "gridcolor": "white",
            "linecolor": "white",
            "ticks": ""
           }
          },
          "scene": {
           "xaxis": {
            "backgroundcolor": "#E5ECF6",
            "gridcolor": "white",
            "gridwidth": 2,
            "linecolor": "white",
            "showbackground": true,
            "ticks": "",
            "zerolinecolor": "white"
           },
           "yaxis": {
            "backgroundcolor": "#E5ECF6",
            "gridcolor": "white",
            "gridwidth": 2,
            "linecolor": "white",
            "showbackground": true,
            "ticks": "",
            "zerolinecolor": "white"
           },
           "zaxis": {
            "backgroundcolor": "#E5ECF6",
            "gridcolor": "white",
            "gridwidth": 2,
            "linecolor": "white",
            "showbackground": true,
            "ticks": "",
            "zerolinecolor": "white"
           }
          },
          "shapedefaults": {
           "line": {
            "color": "#2a3f5f"
           }
          },
          "ternary": {
           "aaxis": {
            "gridcolor": "white",
            "linecolor": "white",
            "ticks": ""
           },
           "baxis": {
            "gridcolor": "white",
            "linecolor": "white",
            "ticks": ""
           },
           "bgcolor": "#E5ECF6",
           "caxis": {
            "gridcolor": "white",
            "linecolor": "white",
            "ticks": ""
           }
          },
          "title": {
           "x": 0.05
          },
          "xaxis": {
           "automargin": true,
           "gridcolor": "white",
           "linecolor": "white",
           "ticks": "",
           "title": {
            "standoff": 15
           },
           "zerolinecolor": "white",
           "zerolinewidth": 2
          },
          "yaxis": {
           "automargin": true,
           "gridcolor": "white",
           "linecolor": "white",
           "ticks": "",
           "title": {
            "standoff": 15
           },
           "zerolinecolor": "white",
           "zerolinewidth": 2
          }
         }
        },
        "title": {
         "text": "Number of scraped articles per date"
        },
        "xaxis": {
         "anchor": "y",
         "domain": [
          0,
          1
         ],
         "title": {
          "text": "Date"
         }
        },
        "yaxis": {
         "anchor": "x",
         "domain": [
          0,
          1
         ],
         "title": {
          "text": "Count"
         }
        }
       }
      }
     },
     "metadata": {},
     "output_type": "display_data"
    }
   ],
   "source": [
    "fig = plot_articles_per_date(df_location)\n",
    "fig.show()"
   ]
  },
  {
   "cell_type": "code",
   "execution_count": null,
   "metadata": {},
   "outputs": [
    {
     "name": "stdout",
     "output_type": "stream",
     "text": [
      "There are 404 locations\n"
     ]
    },
    {
     "name": "stderr",
     "output_type": "stream",
     "text": [
      "RateLimiter caught an error, retrying (0/2 tries). Called with (*('M9.5',), **{}).\n",
      "Traceback (most recent call last):\n",
      "  File \"C:\\Users\\SOR Lucas\\AppData\\Local\\Programs\\Python\\Python39\\lib\\site-packages\\urllib3\\connectionpool.py\", line 445, in _make_request\n",
      "    six.raise_from(e, None)\n",
      "  File \"<string>\", line 3, in raise_from\n",
      "  File \"C:\\Users\\SOR Lucas\\AppData\\Local\\Programs\\Python\\Python39\\lib\\site-packages\\urllib3\\connectionpool.py\", line 440, in _make_request\n",
      "    httplib_response = conn.getresponse()\n",
      "  File \"C:\\Users\\SOR Lucas\\AppData\\Local\\Programs\\Python\\Python39\\lib\\http\\client.py\", line 1371, in getresponse\n",
      "    response.begin()\n",
      "  File \"C:\\Users\\SOR Lucas\\AppData\\Local\\Programs\\Python\\Python39\\lib\\http\\client.py\", line 319, in begin\n",
      "    version, status, reason = self._read_status()\n",
      "  File \"C:\\Users\\SOR Lucas\\AppData\\Local\\Programs\\Python\\Python39\\lib\\http\\client.py\", line 280, in _read_status\n",
      "    line = str(self.fp.readline(_MAXLINE + 1), \"iso-8859-1\")\n",
      "  File \"C:\\Users\\SOR Lucas\\AppData\\Local\\Programs\\Python\\Python39\\lib\\socket.py\", line 704, in readinto\n",
      "    return self._sock.recv_into(b)\n",
      "  File \"C:\\Users\\SOR Lucas\\AppData\\Local\\Programs\\Python\\Python39\\lib\\ssl.py\", line 1241, in recv_into\n",
      "    return self.read(nbytes, buffer)\n",
      "  File \"C:\\Users\\SOR Lucas\\AppData\\Local\\Programs\\Python\\Python39\\lib\\ssl.py\", line 1099, in read\n",
      "    return self._sslobj.read(len, buffer)\n",
      "socket.timeout: The read operation timed out\n",
      "\n",
      "During handling of the above exception, another exception occurred:\n",
      "\n",
      "Traceback (most recent call last):\n",
      "  File \"C:\\Users\\SOR Lucas\\AppData\\Local\\Programs\\Python\\Python39\\lib\\site-packages\\urllib3\\connectionpool.py\", line 699, in urlopen\n",
      "    httplib_response = self._make_request(\n",
      "  File \"C:\\Users\\SOR Lucas\\AppData\\Local\\Programs\\Python\\Python39\\lib\\site-packages\\urllib3\\connectionpool.py\", line 447, in _make_request\n",
      "    self._raise_timeout(err=e, url=url, timeout_value=read_timeout)\n",
      "  File \"C:\\Users\\SOR Lucas\\AppData\\Local\\Programs\\Python\\Python39\\lib\\site-packages\\urllib3\\connectionpool.py\", line 336, in _raise_timeout\n",
      "    raise ReadTimeoutError(\n",
      "urllib3.exceptions.ReadTimeoutError: HTTPSConnectionPool(host='nominatim.openstreetmap.org', port=443): Read timed out. (read timeout=1)\n",
      "\n",
      "During handling of the above exception, another exception occurred:\n",
      "\n",
      "Traceback (most recent call last):\n",
      "  File \"C:\\Users\\SOR Lucas\\AppData\\Local\\Programs\\Python\\Python39\\lib\\site-packages\\requests\\adapters.py\", line 439, in send\n",
      "    resp = conn.urlopen(\n",
      "  File \"C:\\Users\\SOR Lucas\\AppData\\Local\\Programs\\Python\\Python39\\lib\\site-packages\\urllib3\\connectionpool.py\", line 783, in urlopen\n",
      "    return self.urlopen(\n",
      "  File \"C:\\Users\\SOR Lucas\\AppData\\Local\\Programs\\Python\\Python39\\lib\\site-packages\\urllib3\\connectionpool.py\", line 783, in urlopen\n",
      "    return self.urlopen(\n",
      "  File \"C:\\Users\\SOR Lucas\\AppData\\Local\\Programs\\Python\\Python39\\lib\\site-packages\\urllib3\\connectionpool.py\", line 755, in urlopen\n",
      "    retries = retries.increment(\n",
      "  File \"C:\\Users\\SOR Lucas\\AppData\\Local\\Programs\\Python\\Python39\\lib\\site-packages\\urllib3\\util\\retry.py\", line 574, in increment\n",
      "    raise MaxRetryError(_pool, url, error or ResponseError(cause))\n",
      "urllib3.exceptions.MaxRetryError: HTTPSConnectionPool(host='nominatim.openstreetmap.org', port=443): Max retries exceeded with url: /search?q=M9.5&format=json&limit=1 (Caused by ReadTimeoutError(\"HTTPSConnectionPool(host='nominatim.openstreetmap.org', port=443): Read timed out. (read timeout=1)\"))\n",
      "\n",
      "During handling of the above exception, another exception occurred:\n",
      "\n",
      "Traceback (most recent call last):\n",
      "  File \"C:\\Users\\SOR Lucas\\AppData\\Local\\Programs\\Python\\Python39\\lib\\site-packages\\geopy\\adapters.py\", line 448, in _request\n",
      "    resp = self.session.get(url, timeout=timeout, headers=headers)\n",
      "  File \"C:\\Users\\SOR Lucas\\AppData\\Local\\Programs\\Python\\Python39\\lib\\site-packages\\requests\\sessions.py\", line 555, in get\n",
      "    return self.request('GET', url, **kwargs)\n",
      "  File \"C:\\Users\\SOR Lucas\\AppData\\Local\\Programs\\Python\\Python39\\lib\\site-packages\\requests\\sessions.py\", line 542, in request\n",
      "    resp = self.send(prep, **send_kwargs)\n",
      "  File \"C:\\Users\\SOR Lucas\\AppData\\Local\\Programs\\Python\\Python39\\lib\\site-packages\\requests\\sessions.py\", line 655, in send\n",
      "    r = adapter.send(request, **kwargs)\n",
      "  File \"C:\\Users\\SOR Lucas\\AppData\\Local\\Programs\\Python\\Python39\\lib\\site-packages\\requests\\adapters.py\", line 516, in send\n",
      "    raise ConnectionError(e, request=request)\n",
      "requests.exceptions.ConnectionError: HTTPSConnectionPool(host='nominatim.openstreetmap.org', port=443): Max retries exceeded with url: /search?q=M9.5&format=json&limit=1 (Caused by ReadTimeoutError(\"HTTPSConnectionPool(host='nominatim.openstreetmap.org', port=443): Read timed out. (read timeout=1)\"))\n",
      "\n",
      "During handling of the above exception, another exception occurred:\n",
      "\n",
      "Traceback (most recent call last):\n",
      "  File \"C:\\Users\\SOR Lucas\\AppData\\Local\\Programs\\Python\\Python39\\lib\\site-packages\\geopy\\extra\\rate_limiter.py\", line 136, in _retries_gen\n",
      "    yield i  # Run the function.\n",
      "  File \"C:\\Users\\SOR Lucas\\AppData\\Local\\Programs\\Python\\Python39\\lib\\site-packages\\geopy\\extra\\rate_limiter.py\", line 274, in __call__\n",
      "    res = self.func(*args, **kwargs)\n",
      "  File \"C:\\Users\\SOR Lucas\\AppData\\Local\\Programs\\Python\\Python39\\lib\\site-packages\\geopy\\geocoders\\nominatim.py\", line 297, in geocode\n",
      "    return self._call_geocoder(url, callback, timeout=timeout)\n",
      "  File \"C:\\Users\\SOR Lucas\\AppData\\Local\\Programs\\Python\\Python39\\lib\\site-packages\\geopy\\geocoders\\base.py\", line 368, in _call_geocoder\n",
      "    result = self.adapter.get_json(url, timeout=timeout, headers=req_headers)\n",
      "  File \"C:\\Users\\SOR Lucas\\AppData\\Local\\Programs\\Python\\Python39\\lib\\site-packages\\geopy\\adapters.py\", line 438, in get_json\n",
      "    resp = self._request(url, timeout=timeout, headers=headers)\n",
      "  File \"C:\\Users\\SOR Lucas\\AppData\\Local\\Programs\\Python\\Python39\\lib\\site-packages\\geopy\\adapters.py\", line 460, in _request\n",
      "    raise GeocoderUnavailable(message)\n",
      "geopy.exc.GeocoderUnavailable: HTTPSConnectionPool(host='nominatim.openstreetmap.org', port=443): Max retries exceeded with url: /search?q=M9.5&format=json&limit=1 (Caused by ReadTimeoutError(\"HTTPSConnectionPool(host='nominatim.openstreetmap.org', port=443): Read timed out. (read timeout=1)\"))\n",
      "RateLimiter caught an error, retrying (1/2 tries). Called with (*('M9.5',), **{}).\n",
      "Traceback (most recent call last):\n",
      "  File \"C:\\Users\\SOR Lucas\\AppData\\Local\\Programs\\Python\\Python39\\lib\\site-packages\\urllib3\\connectionpool.py\", line 445, in _make_request\n",
      "    six.raise_from(e, None)\n",
      "  File \"<string>\", line 3, in raise_from\n",
      "  File \"C:\\Users\\SOR Lucas\\AppData\\Local\\Programs\\Python\\Python39\\lib\\site-packages\\urllib3\\connectionpool.py\", line 440, in _make_request\n",
      "    httplib_response = conn.getresponse()\n",
      "  File \"C:\\Users\\SOR Lucas\\AppData\\Local\\Programs\\Python\\Python39\\lib\\http\\client.py\", line 1371, in getresponse\n",
      "    response.begin()\n",
      "  File \"C:\\Users\\SOR Lucas\\AppData\\Local\\Programs\\Python\\Python39\\lib\\http\\client.py\", line 319, in begin\n",
      "    version, status, reason = self._read_status()\n",
      "  File \"C:\\Users\\SOR Lucas\\AppData\\Local\\Programs\\Python\\Python39\\lib\\http\\client.py\", line 280, in _read_status\n",
      "    line = str(self.fp.readline(_MAXLINE + 1), \"iso-8859-1\")\n",
      "  File \"C:\\Users\\SOR Lucas\\AppData\\Local\\Programs\\Python\\Python39\\lib\\socket.py\", line 704, in readinto\n",
      "    return self._sock.recv_into(b)\n",
      "  File \"C:\\Users\\SOR Lucas\\AppData\\Local\\Programs\\Python\\Python39\\lib\\ssl.py\", line 1241, in recv_into\n",
      "    return self.read(nbytes, buffer)\n",
      "  File \"C:\\Users\\SOR Lucas\\AppData\\Local\\Programs\\Python\\Python39\\lib\\ssl.py\", line 1099, in read\n",
      "    return self._sslobj.read(len, buffer)\n",
      "socket.timeout: The read operation timed out\n",
      "\n",
      "During handling of the above exception, another exception occurred:\n",
      "\n",
      "Traceback (most recent call last):\n",
      "  File \"C:\\Users\\SOR Lucas\\AppData\\Local\\Programs\\Python\\Python39\\lib\\site-packages\\urllib3\\connectionpool.py\", line 699, in urlopen\n",
      "    httplib_response = self._make_request(\n",
      "  File \"C:\\Users\\SOR Lucas\\AppData\\Local\\Programs\\Python\\Python39\\lib\\site-packages\\urllib3\\connectionpool.py\", line 447, in _make_request\n",
      "    self._raise_timeout(err=e, url=url, timeout_value=read_timeout)\n",
      "  File \"C:\\Users\\SOR Lucas\\AppData\\Local\\Programs\\Python\\Python39\\lib\\site-packages\\urllib3\\connectionpool.py\", line 336, in _raise_timeout\n",
      "    raise ReadTimeoutError(\n",
      "urllib3.exceptions.ReadTimeoutError: HTTPSConnectionPool(host='nominatim.openstreetmap.org', port=443): Read timed out. (read timeout=1)\n",
      "\n",
      "During handling of the above exception, another exception occurred:\n",
      "\n",
      "Traceback (most recent call last):\n",
      "  File \"C:\\Users\\SOR Lucas\\AppData\\Local\\Programs\\Python\\Python39\\lib\\site-packages\\requests\\adapters.py\", line 439, in send\n",
      "    resp = conn.urlopen(\n",
      "  File \"C:\\Users\\SOR Lucas\\AppData\\Local\\Programs\\Python\\Python39\\lib\\site-packages\\urllib3\\connectionpool.py\", line 783, in urlopen\n",
      "    return self.urlopen(\n",
      "  File \"C:\\Users\\SOR Lucas\\AppData\\Local\\Programs\\Python\\Python39\\lib\\site-packages\\urllib3\\connectionpool.py\", line 783, in urlopen\n",
      "    return self.urlopen(\n",
      "  File \"C:\\Users\\SOR Lucas\\AppData\\Local\\Programs\\Python\\Python39\\lib\\site-packages\\urllib3\\connectionpool.py\", line 755, in urlopen\n",
      "    retries = retries.increment(\n",
      "  File \"C:\\Users\\SOR Lucas\\AppData\\Local\\Programs\\Python\\Python39\\lib\\site-packages\\urllib3\\util\\retry.py\", line 574, in increment\n",
      "    raise MaxRetryError(_pool, url, error or ResponseError(cause))\n",
      "urllib3.exceptions.MaxRetryError: HTTPSConnectionPool(host='nominatim.openstreetmap.org', port=443): Max retries exceeded with url: /search?q=M9.5&format=json&limit=1 (Caused by ReadTimeoutError(\"HTTPSConnectionPool(host='nominatim.openstreetmap.org', port=443): Read timed out. (read timeout=1)\"))\n",
      "\n",
      "During handling of the above exception, another exception occurred:\n",
      "\n",
      "Traceback (most recent call last):\n",
      "  File \"C:\\Users\\SOR Lucas\\AppData\\Local\\Programs\\Python\\Python39\\lib\\site-packages\\geopy\\adapters.py\", line 448, in _request\n",
      "    resp = self.session.get(url, timeout=timeout, headers=headers)\n",
      "  File \"C:\\Users\\SOR Lucas\\AppData\\Local\\Programs\\Python\\Python39\\lib\\site-packages\\requests\\sessions.py\", line 555, in get\n",
      "    return self.request('GET', url, **kwargs)\n",
      "  File \"C:\\Users\\SOR Lucas\\AppData\\Local\\Programs\\Python\\Python39\\lib\\site-packages\\requests\\sessions.py\", line 542, in request\n",
      "    resp = self.send(prep, **send_kwargs)\n",
      "  File \"C:\\Users\\SOR Lucas\\AppData\\Local\\Programs\\Python\\Python39\\lib\\site-packages\\requests\\sessions.py\", line 655, in send\n",
      "    r = adapter.send(request, **kwargs)\n",
      "  File \"C:\\Users\\SOR Lucas\\AppData\\Local\\Programs\\Python\\Python39\\lib\\site-packages\\requests\\adapters.py\", line 516, in send\n",
      "    raise ConnectionError(e, request=request)\n",
      "requests.exceptions.ConnectionError: HTTPSConnectionPool(host='nominatim.openstreetmap.org', port=443): Max retries exceeded with url: /search?q=M9.5&format=json&limit=1 (Caused by ReadTimeoutError(\"HTTPSConnectionPool(host='nominatim.openstreetmap.org', port=443): Read timed out. (read timeout=1)\"))\n",
      "\n",
      "During handling of the above exception, another exception occurred:\n",
      "\n",
      "Traceback (most recent call last):\n",
      "  File \"C:\\Users\\SOR Lucas\\AppData\\Local\\Programs\\Python\\Python39\\lib\\site-packages\\geopy\\extra\\rate_limiter.py\", line 136, in _retries_gen\n",
      "    yield i  # Run the function.\n",
      "  File \"C:\\Users\\SOR Lucas\\AppData\\Local\\Programs\\Python\\Python39\\lib\\site-packages\\geopy\\extra\\rate_limiter.py\", line 274, in __call__\n",
      "    res = self.func(*args, **kwargs)\n",
      "  File \"C:\\Users\\SOR Lucas\\AppData\\Local\\Programs\\Python\\Python39\\lib\\site-packages\\geopy\\geocoders\\nominatim.py\", line 297, in geocode\n",
      "    return self._call_geocoder(url, callback, timeout=timeout)\n",
      "  File \"C:\\Users\\SOR Lucas\\AppData\\Local\\Programs\\Python\\Python39\\lib\\site-packages\\geopy\\geocoders\\base.py\", line 368, in _call_geocoder\n",
      "    result = self.adapter.get_json(url, timeout=timeout, headers=req_headers)\n",
      "  File \"C:\\Users\\SOR Lucas\\AppData\\Local\\Programs\\Python\\Python39\\lib\\site-packages\\geopy\\adapters.py\", line 438, in get_json\n",
      "    resp = self._request(url, timeout=timeout, headers=headers)\n",
      "  File \"C:\\Users\\SOR Lucas\\AppData\\Local\\Programs\\Python\\Python39\\lib\\site-packages\\geopy\\adapters.py\", line 460, in _request\n",
      "    raise GeocoderUnavailable(message)\n",
      "geopy.exc.GeocoderUnavailable: HTTPSConnectionPool(host='nominatim.openstreetmap.org', port=443): Max retries exceeded with url: /search?q=M9.5&format=json&limit=1 (Caused by ReadTimeoutError(\"HTTPSConnectionPool(host='nominatim.openstreetmap.org', port=443): Read timed out. (read timeout=1)\"))\n",
      "RateLimiter swallowed an error after 2 retries. Called with (*('M9.5',), **{}).\n",
      "Traceback (most recent call last):\n",
      "  File \"C:\\Users\\SOR Lucas\\AppData\\Local\\Programs\\Python\\Python39\\lib\\site-packages\\urllib3\\connectionpool.py\", line 445, in _make_request\n",
      "    six.raise_from(e, None)\n",
      "  File \"<string>\", line 3, in raise_from\n",
      "  File \"C:\\Users\\SOR Lucas\\AppData\\Local\\Programs\\Python\\Python39\\lib\\site-packages\\urllib3\\connectionpool.py\", line 440, in _make_request\n",
      "    httplib_response = conn.getresponse()\n",
      "  File \"C:\\Users\\SOR Lucas\\AppData\\Local\\Programs\\Python\\Python39\\lib\\http\\client.py\", line 1371, in getresponse\n",
      "    response.begin()\n",
      "  File \"C:\\Users\\SOR Lucas\\AppData\\Local\\Programs\\Python\\Python39\\lib\\http\\client.py\", line 319, in begin\n",
      "    version, status, reason = self._read_status()\n",
      "  File \"C:\\Users\\SOR Lucas\\AppData\\Local\\Programs\\Python\\Python39\\lib\\http\\client.py\", line 280, in _read_status\n",
      "    line = str(self.fp.readline(_MAXLINE + 1), \"iso-8859-1\")\n",
      "  File \"C:\\Users\\SOR Lucas\\AppData\\Local\\Programs\\Python\\Python39\\lib\\socket.py\", line 704, in readinto\n",
      "    return self._sock.recv_into(b)\n",
      "  File \"C:\\Users\\SOR Lucas\\AppData\\Local\\Programs\\Python\\Python39\\lib\\ssl.py\", line 1241, in recv_into\n",
      "    return self.read(nbytes, buffer)\n",
      "  File \"C:\\Users\\SOR Lucas\\AppData\\Local\\Programs\\Python\\Python39\\lib\\ssl.py\", line 1099, in read\n",
      "    return self._sslobj.read(len, buffer)\n",
      "socket.timeout: The read operation timed out\n",
      "\n",
      "During handling of the above exception, another exception occurred:\n",
      "\n",
      "Traceback (most recent call last):\n",
      "  File \"C:\\Users\\SOR Lucas\\AppData\\Local\\Programs\\Python\\Python39\\lib\\site-packages\\urllib3\\connectionpool.py\", line 699, in urlopen\n",
      "    httplib_response = self._make_request(\n",
      "  File \"C:\\Users\\SOR Lucas\\AppData\\Local\\Programs\\Python\\Python39\\lib\\site-packages\\urllib3\\connectionpool.py\", line 447, in _make_request\n",
      "    self._raise_timeout(err=e, url=url, timeout_value=read_timeout)\n",
      "  File \"C:\\Users\\SOR Lucas\\AppData\\Local\\Programs\\Python\\Python39\\lib\\site-packages\\urllib3\\connectionpool.py\", line 336, in _raise_timeout\n",
      "    raise ReadTimeoutError(\n",
      "urllib3.exceptions.ReadTimeoutError: HTTPSConnectionPool(host='nominatim.openstreetmap.org', port=443): Read timed out. (read timeout=1)\n",
      "\n",
      "During handling of the above exception, another exception occurred:\n",
      "\n",
      "Traceback (most recent call last):\n",
      "  File \"C:\\Users\\SOR Lucas\\AppData\\Local\\Programs\\Python\\Python39\\lib\\site-packages\\requests\\adapters.py\", line 439, in send\n",
      "    resp = conn.urlopen(\n",
      "  File \"C:\\Users\\SOR Lucas\\AppData\\Local\\Programs\\Python\\Python39\\lib\\site-packages\\urllib3\\connectionpool.py\", line 783, in urlopen\n",
      "    return self.urlopen(\n",
      "  File \"C:\\Users\\SOR Lucas\\AppData\\Local\\Programs\\Python\\Python39\\lib\\site-packages\\urllib3\\connectionpool.py\", line 783, in urlopen\n",
      "    return self.urlopen(\n",
      "  File \"C:\\Users\\SOR Lucas\\AppData\\Local\\Programs\\Python\\Python39\\lib\\site-packages\\urllib3\\connectionpool.py\", line 755, in urlopen\n",
      "    retries = retries.increment(\n",
      "  File \"C:\\Users\\SOR Lucas\\AppData\\Local\\Programs\\Python\\Python39\\lib\\site-packages\\urllib3\\util\\retry.py\", line 574, in increment\n",
      "    raise MaxRetryError(_pool, url, error or ResponseError(cause))\n",
      "urllib3.exceptions.MaxRetryError: HTTPSConnectionPool(host='nominatim.openstreetmap.org', port=443): Max retries exceeded with url: /search?q=M9.5&format=json&limit=1 (Caused by ReadTimeoutError(\"HTTPSConnectionPool(host='nominatim.openstreetmap.org', port=443): Read timed out. (read timeout=1)\"))\n",
      "\n",
      "During handling of the above exception, another exception occurred:\n",
      "\n",
      "Traceback (most recent call last):\n",
      "  File \"C:\\Users\\SOR Lucas\\AppData\\Local\\Programs\\Python\\Python39\\lib\\site-packages\\geopy\\adapters.py\", line 448, in _request\n",
      "    resp = self.session.get(url, timeout=timeout, headers=headers)\n",
      "  File \"C:\\Users\\SOR Lucas\\AppData\\Local\\Programs\\Python\\Python39\\lib\\site-packages\\requests\\sessions.py\", line 555, in get\n",
      "    return self.request('GET', url, **kwargs)\n",
      "  File \"C:\\Users\\SOR Lucas\\AppData\\Local\\Programs\\Python\\Python39\\lib\\site-packages\\requests\\sessions.py\", line 542, in request\n",
      "    resp = self.send(prep, **send_kwargs)\n",
      "  File \"C:\\Users\\SOR Lucas\\AppData\\Local\\Programs\\Python\\Python39\\lib\\site-packages\\requests\\sessions.py\", line 655, in send\n",
      "    r = adapter.send(request, **kwargs)\n",
      "  File \"C:\\Users\\SOR Lucas\\AppData\\Local\\Programs\\Python\\Python39\\lib\\site-packages\\requests\\adapters.py\", line 516, in send\n",
      "    raise ConnectionError(e, request=request)\n",
      "requests.exceptions.ConnectionError: HTTPSConnectionPool(host='nominatim.openstreetmap.org', port=443): Max retries exceeded with url: /search?q=M9.5&format=json&limit=1 (Caused by ReadTimeoutError(\"HTTPSConnectionPool(host='nominatim.openstreetmap.org', port=443): Read timed out. (read timeout=1)\"))\n",
      "\n",
      "During handling of the above exception, another exception occurred:\n",
      "\n",
      "Traceback (most recent call last):\n",
      "  File \"C:\\Users\\SOR Lucas\\AppData\\Local\\Programs\\Python\\Python39\\lib\\site-packages\\geopy\\extra\\rate_limiter.py\", line 274, in __call__\n",
      "    res = self.func(*args, **kwargs)\n",
      "  File \"C:\\Users\\SOR Lucas\\AppData\\Local\\Programs\\Python\\Python39\\lib\\site-packages\\geopy\\geocoders\\nominatim.py\", line 297, in geocode\n",
      "    return self._call_geocoder(url, callback, timeout=timeout)\n",
      "  File \"C:\\Users\\SOR Lucas\\AppData\\Local\\Programs\\Python\\Python39\\lib\\site-packages\\geopy\\geocoders\\base.py\", line 368, in _call_geocoder\n",
      "    result = self.adapter.get_json(url, timeout=timeout, headers=req_headers)\n",
      "  File \"C:\\Users\\SOR Lucas\\AppData\\Local\\Programs\\Python\\Python39\\lib\\site-packages\\geopy\\adapters.py\", line 438, in get_json\n",
      "    resp = self._request(url, timeout=timeout, headers=headers)\n",
      "  File \"C:\\Users\\SOR Lucas\\AppData\\Local\\Programs\\Python\\Python39\\lib\\site-packages\\geopy\\adapters.py\", line 460, in _request\n",
      "    raise GeocoderUnavailable(message)\n",
      "geopy.exc.GeocoderUnavailable: HTTPSConnectionPool(host='nominatim.openstreetmap.org', port=443): Max retries exceeded with url: /search?q=M9.5&format=json&limit=1 (Caused by ReadTimeoutError(\"HTTPSConnectionPool(host='nominatim.openstreetmap.org', port=443): Read timed out. (read timeout=1)\"))\n",
      "RateLimiter caught an error, retrying (0/2 tries). Called with (*('A.',), **{}).\n",
      "Traceback (most recent call last):\n",
      "  File \"C:\\Users\\SOR Lucas\\AppData\\Local\\Programs\\Python\\Python39\\lib\\site-packages\\urllib3\\connectionpool.py\", line 445, in _make_request\n",
      "    six.raise_from(e, None)\n",
      "  File \"<string>\", line 3, in raise_from\n",
      "  File \"C:\\Users\\SOR Lucas\\AppData\\Local\\Programs\\Python\\Python39\\lib\\site-packages\\urllib3\\connectionpool.py\", line 440, in _make_request\n",
      "    httplib_response = conn.getresponse()\n",
      "  File \"C:\\Users\\SOR Lucas\\AppData\\Local\\Programs\\Python\\Python39\\lib\\http\\client.py\", line 1371, in getresponse\n",
      "    response.begin()\n",
      "  File \"C:\\Users\\SOR Lucas\\AppData\\Local\\Programs\\Python\\Python39\\lib\\http\\client.py\", line 319, in begin\n",
      "    version, status, reason = self._read_status()\n",
      "  File \"C:\\Users\\SOR Lucas\\AppData\\Local\\Programs\\Python\\Python39\\lib\\http\\client.py\", line 280, in _read_status\n",
      "    line = str(self.fp.readline(_MAXLINE + 1), \"iso-8859-1\")\n",
      "  File \"C:\\Users\\SOR Lucas\\AppData\\Local\\Programs\\Python\\Python39\\lib\\socket.py\", line 704, in readinto\n",
      "    return self._sock.recv_into(b)\n",
      "  File \"C:\\Users\\SOR Lucas\\AppData\\Local\\Programs\\Python\\Python39\\lib\\ssl.py\", line 1241, in recv_into\n",
      "    return self.read(nbytes, buffer)\n",
      "  File \"C:\\Users\\SOR Lucas\\AppData\\Local\\Programs\\Python\\Python39\\lib\\ssl.py\", line 1099, in read\n",
      "    return self._sslobj.read(len, buffer)\n",
      "socket.timeout: The read operation timed out\n",
      "\n",
      "During handling of the above exception, another exception occurred:\n",
      "\n",
      "Traceback (most recent call last):\n",
      "  File \"C:\\Users\\SOR Lucas\\AppData\\Local\\Programs\\Python\\Python39\\lib\\site-packages\\urllib3\\connectionpool.py\", line 699, in urlopen\n",
      "    httplib_response = self._make_request(\n",
      "  File \"C:\\Users\\SOR Lucas\\AppData\\Local\\Programs\\Python\\Python39\\lib\\site-packages\\urllib3\\connectionpool.py\", line 447, in _make_request\n",
      "    self._raise_timeout(err=e, url=url, timeout_value=read_timeout)\n",
      "  File \"C:\\Users\\SOR Lucas\\AppData\\Local\\Programs\\Python\\Python39\\lib\\site-packages\\urllib3\\connectionpool.py\", line 336, in _raise_timeout\n",
      "    raise ReadTimeoutError(\n",
      "urllib3.exceptions.ReadTimeoutError: HTTPSConnectionPool(host='nominatim.openstreetmap.org', port=443): Read timed out. (read timeout=1)\n",
      "\n",
      "During handling of the above exception, another exception occurred:\n",
      "\n",
      "Traceback (most recent call last):\n",
      "  File \"C:\\Users\\SOR Lucas\\AppData\\Local\\Programs\\Python\\Python39\\lib\\site-packages\\requests\\adapters.py\", line 439, in send\n",
      "    resp = conn.urlopen(\n",
      "  File \"C:\\Users\\SOR Lucas\\AppData\\Local\\Programs\\Python\\Python39\\lib\\site-packages\\urllib3\\connectionpool.py\", line 783, in urlopen\n",
      "    return self.urlopen(\n",
      "  File \"C:\\Users\\SOR Lucas\\AppData\\Local\\Programs\\Python\\Python39\\lib\\site-packages\\urllib3\\connectionpool.py\", line 783, in urlopen\n",
      "    return self.urlopen(\n",
      "  File \"C:\\Users\\SOR Lucas\\AppData\\Local\\Programs\\Python\\Python39\\lib\\site-packages\\urllib3\\connectionpool.py\", line 755, in urlopen\n",
      "    retries = retries.increment(\n",
      "  File \"C:\\Users\\SOR Lucas\\AppData\\Local\\Programs\\Python\\Python39\\lib\\site-packages\\urllib3\\util\\retry.py\", line 574, in increment\n",
      "    raise MaxRetryError(_pool, url, error or ResponseError(cause))\n",
      "urllib3.exceptions.MaxRetryError: HTTPSConnectionPool(host='nominatim.openstreetmap.org', port=443): Max retries exceeded with url: /search?q=A.&format=json&limit=1 (Caused by ReadTimeoutError(\"HTTPSConnectionPool(host='nominatim.openstreetmap.org', port=443): Read timed out. (read timeout=1)\"))\n",
      "\n",
      "During handling of the above exception, another exception occurred:\n",
      "\n",
      "Traceback (most recent call last):\n",
      "  File \"C:\\Users\\SOR Lucas\\AppData\\Local\\Programs\\Python\\Python39\\lib\\site-packages\\geopy\\adapters.py\", line 448, in _request\n",
      "    resp = self.session.get(url, timeout=timeout, headers=headers)\n",
      "  File \"C:\\Users\\SOR Lucas\\AppData\\Local\\Programs\\Python\\Python39\\lib\\site-packages\\requests\\sessions.py\", line 555, in get\n",
      "    return self.request('GET', url, **kwargs)\n",
      "  File \"C:\\Users\\SOR Lucas\\AppData\\Local\\Programs\\Python\\Python39\\lib\\site-packages\\requests\\sessions.py\", line 542, in request\n",
      "    resp = self.send(prep, **send_kwargs)\n",
      "  File \"C:\\Users\\SOR Lucas\\AppData\\Local\\Programs\\Python\\Python39\\lib\\site-packages\\requests\\sessions.py\", line 655, in send\n",
      "    r = adapter.send(request, **kwargs)\n",
      "  File \"C:\\Users\\SOR Lucas\\AppData\\Local\\Programs\\Python\\Python39\\lib\\site-packages\\requests\\adapters.py\", line 516, in send\n",
      "    raise ConnectionError(e, request=request)\n",
      "requests.exceptions.ConnectionError: HTTPSConnectionPool(host='nominatim.openstreetmap.org', port=443): Max retries exceeded with url: /search?q=A.&format=json&limit=1 (Caused by ReadTimeoutError(\"HTTPSConnectionPool(host='nominatim.openstreetmap.org', port=443): Read timed out. (read timeout=1)\"))\n",
      "\n",
      "During handling of the above exception, another exception occurred:\n",
      "\n",
      "Traceback (most recent call last):\n",
      "  File \"C:\\Users\\SOR Lucas\\AppData\\Local\\Programs\\Python\\Python39\\lib\\site-packages\\geopy\\extra\\rate_limiter.py\", line 136, in _retries_gen\n",
      "    yield i  # Run the function.\n",
      "  File \"C:\\Users\\SOR Lucas\\AppData\\Local\\Programs\\Python\\Python39\\lib\\site-packages\\geopy\\extra\\rate_limiter.py\", line 274, in __call__\n",
      "    res = self.func(*args, **kwargs)\n",
      "  File \"C:\\Users\\SOR Lucas\\AppData\\Local\\Programs\\Python\\Python39\\lib\\site-packages\\geopy\\geocoders\\nominatim.py\", line 297, in geocode\n",
      "    return self._call_geocoder(url, callback, timeout=timeout)\n",
      "  File \"C:\\Users\\SOR Lucas\\AppData\\Local\\Programs\\Python\\Python39\\lib\\site-packages\\geopy\\geocoders\\base.py\", line 368, in _call_geocoder\n",
      "    result = self.adapter.get_json(url, timeout=timeout, headers=req_headers)\n",
      "  File \"C:\\Users\\SOR Lucas\\AppData\\Local\\Programs\\Python\\Python39\\lib\\site-packages\\geopy\\adapters.py\", line 438, in get_json\n",
      "    resp = self._request(url, timeout=timeout, headers=headers)\n",
      "  File \"C:\\Users\\SOR Lucas\\AppData\\Local\\Programs\\Python\\Python39\\lib\\site-packages\\geopy\\adapters.py\", line 460, in _request\n",
      "    raise GeocoderUnavailable(message)\n",
      "geopy.exc.GeocoderUnavailable: HTTPSConnectionPool(host='nominatim.openstreetmap.org', port=443): Max retries exceeded with url: /search?q=A.&format=json&limit=1 (Caused by ReadTimeoutError(\"HTTPSConnectionPool(host='nominatim.openstreetmap.org', port=443): Read timed out. (read timeout=1)\"))\n",
      "RateLimiter caught an error, retrying (1/2 tries). Called with (*('A.',), **{}).\n",
      "Traceback (most recent call last):\n",
      "  File \"C:\\Users\\SOR Lucas\\AppData\\Local\\Programs\\Python\\Python39\\lib\\site-packages\\urllib3\\connectionpool.py\", line 445, in _make_request\n",
      "    six.raise_from(e, None)\n",
      "  File \"<string>\", line 3, in raise_from\n",
      "  File \"C:\\Users\\SOR Lucas\\AppData\\Local\\Programs\\Python\\Python39\\lib\\site-packages\\urllib3\\connectionpool.py\", line 440, in _make_request\n",
      "    httplib_response = conn.getresponse()\n",
      "  File \"C:\\Users\\SOR Lucas\\AppData\\Local\\Programs\\Python\\Python39\\lib\\http\\client.py\", line 1371, in getresponse\n",
      "    response.begin()\n",
      "  File \"C:\\Users\\SOR Lucas\\AppData\\Local\\Programs\\Python\\Python39\\lib\\http\\client.py\", line 319, in begin\n",
      "    version, status, reason = self._read_status()\n",
      "  File \"C:\\Users\\SOR Lucas\\AppData\\Local\\Programs\\Python\\Python39\\lib\\http\\client.py\", line 280, in _read_status\n",
      "    line = str(self.fp.readline(_MAXLINE + 1), \"iso-8859-1\")\n",
      "  File \"C:\\Users\\SOR Lucas\\AppData\\Local\\Programs\\Python\\Python39\\lib\\socket.py\", line 704, in readinto\n",
      "    return self._sock.recv_into(b)\n",
      "  File \"C:\\Users\\SOR Lucas\\AppData\\Local\\Programs\\Python\\Python39\\lib\\ssl.py\", line 1241, in recv_into\n",
      "    return self.read(nbytes, buffer)\n",
      "  File \"C:\\Users\\SOR Lucas\\AppData\\Local\\Programs\\Python\\Python39\\lib\\ssl.py\", line 1099, in read\n",
      "    return self._sslobj.read(len, buffer)\n",
      "socket.timeout: The read operation timed out\n",
      "\n",
      "During handling of the above exception, another exception occurred:\n",
      "\n",
      "Traceback (most recent call last):\n",
      "  File \"C:\\Users\\SOR Lucas\\AppData\\Local\\Programs\\Python\\Python39\\lib\\site-packages\\urllib3\\connectionpool.py\", line 699, in urlopen\n",
      "    httplib_response = self._make_request(\n",
      "  File \"C:\\Users\\SOR Lucas\\AppData\\Local\\Programs\\Python\\Python39\\lib\\site-packages\\urllib3\\connectionpool.py\", line 447, in _make_request\n",
      "    self._raise_timeout(err=e, url=url, timeout_value=read_timeout)\n",
      "  File \"C:\\Users\\SOR Lucas\\AppData\\Local\\Programs\\Python\\Python39\\lib\\site-packages\\urllib3\\connectionpool.py\", line 336, in _raise_timeout\n",
      "    raise ReadTimeoutError(\n",
      "urllib3.exceptions.ReadTimeoutError: HTTPSConnectionPool(host='nominatim.openstreetmap.org', port=443): Read timed out. (read timeout=1)\n",
      "\n",
      "During handling of the above exception, another exception occurred:\n",
      "\n",
      "Traceback (most recent call last):\n",
      "  File \"C:\\Users\\SOR Lucas\\AppData\\Local\\Programs\\Python\\Python39\\lib\\site-packages\\requests\\adapters.py\", line 439, in send\n",
      "    resp = conn.urlopen(\n",
      "  File \"C:\\Users\\SOR Lucas\\AppData\\Local\\Programs\\Python\\Python39\\lib\\site-packages\\urllib3\\connectionpool.py\", line 783, in urlopen\n",
      "    return self.urlopen(\n",
      "  File \"C:\\Users\\SOR Lucas\\AppData\\Local\\Programs\\Python\\Python39\\lib\\site-packages\\urllib3\\connectionpool.py\", line 783, in urlopen\n",
      "    return self.urlopen(\n",
      "  File \"C:\\Users\\SOR Lucas\\AppData\\Local\\Programs\\Python\\Python39\\lib\\site-packages\\urllib3\\connectionpool.py\", line 755, in urlopen\n",
      "    retries = retries.increment(\n",
      "  File \"C:\\Users\\SOR Lucas\\AppData\\Local\\Programs\\Python\\Python39\\lib\\site-packages\\urllib3\\util\\retry.py\", line 574, in increment\n",
      "    raise MaxRetryError(_pool, url, error or ResponseError(cause))\n",
      "urllib3.exceptions.MaxRetryError: HTTPSConnectionPool(host='nominatim.openstreetmap.org', port=443): Max retries exceeded with url: /search?q=A.&format=json&limit=1 (Caused by ReadTimeoutError(\"HTTPSConnectionPool(host='nominatim.openstreetmap.org', port=443): Read timed out. (read timeout=1)\"))\n",
      "\n",
      "During handling of the above exception, another exception occurred:\n",
      "\n",
      "Traceback (most recent call last):\n",
      "  File \"C:\\Users\\SOR Lucas\\AppData\\Local\\Programs\\Python\\Python39\\lib\\site-packages\\geopy\\adapters.py\", line 448, in _request\n",
      "    resp = self.session.get(url, timeout=timeout, headers=headers)\n",
      "  File \"C:\\Users\\SOR Lucas\\AppData\\Local\\Programs\\Python\\Python39\\lib\\site-packages\\requests\\sessions.py\", line 555, in get\n",
      "    return self.request('GET', url, **kwargs)\n",
      "  File \"C:\\Users\\SOR Lucas\\AppData\\Local\\Programs\\Python\\Python39\\lib\\site-packages\\requests\\sessions.py\", line 542, in request\n",
      "    resp = self.send(prep, **send_kwargs)\n",
      "  File \"C:\\Users\\SOR Lucas\\AppData\\Local\\Programs\\Python\\Python39\\lib\\site-packages\\requests\\sessions.py\", line 655, in send\n",
      "    r = adapter.send(request, **kwargs)\n",
      "  File \"C:\\Users\\SOR Lucas\\AppData\\Local\\Programs\\Python\\Python39\\lib\\site-packages\\requests\\adapters.py\", line 516, in send\n",
      "    raise ConnectionError(e, request=request)\n",
      "requests.exceptions.ConnectionError: HTTPSConnectionPool(host='nominatim.openstreetmap.org', port=443): Max retries exceeded with url: /search?q=A.&format=json&limit=1 (Caused by ReadTimeoutError(\"HTTPSConnectionPool(host='nominatim.openstreetmap.org', port=443): Read timed out. (read timeout=1)\"))\n",
      "\n",
      "During handling of the above exception, another exception occurred:\n",
      "\n",
      "Traceback (most recent call last):\n",
      "  File \"C:\\Users\\SOR Lucas\\AppData\\Local\\Programs\\Python\\Python39\\lib\\site-packages\\geopy\\extra\\rate_limiter.py\", line 136, in _retries_gen\n",
      "    yield i  # Run the function.\n",
      "  File \"C:\\Users\\SOR Lucas\\AppData\\Local\\Programs\\Python\\Python39\\lib\\site-packages\\geopy\\extra\\rate_limiter.py\", line 274, in __call__\n",
      "    res = self.func(*args, **kwargs)\n",
      "  File \"C:\\Users\\SOR Lucas\\AppData\\Local\\Programs\\Python\\Python39\\lib\\site-packages\\geopy\\geocoders\\nominatim.py\", line 297, in geocode\n",
      "    return self._call_geocoder(url, callback, timeout=timeout)\n",
      "  File \"C:\\Users\\SOR Lucas\\AppData\\Local\\Programs\\Python\\Python39\\lib\\site-packages\\geopy\\geocoders\\base.py\", line 368, in _call_geocoder\n",
      "    result = self.adapter.get_json(url, timeout=timeout, headers=req_headers)\n",
      "  File \"C:\\Users\\SOR Lucas\\AppData\\Local\\Programs\\Python\\Python39\\lib\\site-packages\\geopy\\adapters.py\", line 438, in get_json\n",
      "    resp = self._request(url, timeout=timeout, headers=headers)\n",
      "  File \"C:\\Users\\SOR Lucas\\AppData\\Local\\Programs\\Python\\Python39\\lib\\site-packages\\geopy\\adapters.py\", line 460, in _request\n",
      "    raise GeocoderUnavailable(message)\n",
      "geopy.exc.GeocoderUnavailable: HTTPSConnectionPool(host='nominatim.openstreetmap.org', port=443): Max retries exceeded with url: /search?q=A.&format=json&limit=1 (Caused by ReadTimeoutError(\"HTTPSConnectionPool(host='nominatim.openstreetmap.org', port=443): Read timed out. (read timeout=1)\"))\n",
      "RateLimiter swallowed an error after 2 retries. Called with (*('A.',), **{}).\n",
      "Traceback (most recent call last):\n",
      "  File \"C:\\Users\\SOR Lucas\\AppData\\Local\\Programs\\Python\\Python39\\lib\\site-packages\\urllib3\\connectionpool.py\", line 445, in _make_request\n",
      "    six.raise_from(e, None)\n",
      "  File \"<string>\", line 3, in raise_from\n",
      "  File \"C:\\Users\\SOR Lucas\\AppData\\Local\\Programs\\Python\\Python39\\lib\\site-packages\\urllib3\\connectionpool.py\", line 440, in _make_request\n",
      "    httplib_response = conn.getresponse()\n",
      "  File \"C:\\Users\\SOR Lucas\\AppData\\Local\\Programs\\Python\\Python39\\lib\\http\\client.py\", line 1371, in getresponse\n",
      "    response.begin()\n",
      "  File \"C:\\Users\\SOR Lucas\\AppData\\Local\\Programs\\Python\\Python39\\lib\\http\\client.py\", line 319, in begin\n",
      "    version, status, reason = self._read_status()\n",
      "  File \"C:\\Users\\SOR Lucas\\AppData\\Local\\Programs\\Python\\Python39\\lib\\http\\client.py\", line 280, in _read_status\n",
      "    line = str(self.fp.readline(_MAXLINE + 1), \"iso-8859-1\")\n",
      "  File \"C:\\Users\\SOR Lucas\\AppData\\Local\\Programs\\Python\\Python39\\lib\\socket.py\", line 704, in readinto\n",
      "    return self._sock.recv_into(b)\n",
      "  File \"C:\\Users\\SOR Lucas\\AppData\\Local\\Programs\\Python\\Python39\\lib\\ssl.py\", line 1241, in recv_into\n",
      "    return self.read(nbytes, buffer)\n",
      "  File \"C:\\Users\\SOR Lucas\\AppData\\Local\\Programs\\Python\\Python39\\lib\\ssl.py\", line 1099, in read\n",
      "    return self._sslobj.read(len, buffer)\n",
      "socket.timeout: The read operation timed out\n",
      "\n",
      "During handling of the above exception, another exception occurred:\n",
      "\n",
      "Traceback (most recent call last):\n",
      "  File \"C:\\Users\\SOR Lucas\\AppData\\Local\\Programs\\Python\\Python39\\lib\\site-packages\\urllib3\\connectionpool.py\", line 699, in urlopen\n",
      "    httplib_response = self._make_request(\n",
      "  File \"C:\\Users\\SOR Lucas\\AppData\\Local\\Programs\\Python\\Python39\\lib\\site-packages\\urllib3\\connectionpool.py\", line 447, in _make_request\n",
      "    self._raise_timeout(err=e, url=url, timeout_value=read_timeout)\n",
      "  File \"C:\\Users\\SOR Lucas\\AppData\\Local\\Programs\\Python\\Python39\\lib\\site-packages\\urllib3\\connectionpool.py\", line 336, in _raise_timeout\n",
      "    raise ReadTimeoutError(\n",
      "urllib3.exceptions.ReadTimeoutError: HTTPSConnectionPool(host='nominatim.openstreetmap.org', port=443): Read timed out. (read timeout=1)\n",
      "\n",
      "During handling of the above exception, another exception occurred:\n",
      "\n",
      "Traceback (most recent call last):\n",
      "  File \"C:\\Users\\SOR Lucas\\AppData\\Local\\Programs\\Python\\Python39\\lib\\site-packages\\requests\\adapters.py\", line 439, in send\n",
      "    resp = conn.urlopen(\n",
      "  File \"C:\\Users\\SOR Lucas\\AppData\\Local\\Programs\\Python\\Python39\\lib\\site-packages\\urllib3\\connectionpool.py\", line 783, in urlopen\n",
      "    return self.urlopen(\n",
      "  File \"C:\\Users\\SOR Lucas\\AppData\\Local\\Programs\\Python\\Python39\\lib\\site-packages\\urllib3\\connectionpool.py\", line 783, in urlopen\n",
      "    return self.urlopen(\n",
      "  File \"C:\\Users\\SOR Lucas\\AppData\\Local\\Programs\\Python\\Python39\\lib\\site-packages\\urllib3\\connectionpool.py\", line 755, in urlopen\n",
      "    retries = retries.increment(\n",
      "  File \"C:\\Users\\SOR Lucas\\AppData\\Local\\Programs\\Python\\Python39\\lib\\site-packages\\urllib3\\util\\retry.py\", line 574, in increment\n",
      "    raise MaxRetryError(_pool, url, error or ResponseError(cause))\n",
      "urllib3.exceptions.MaxRetryError: HTTPSConnectionPool(host='nominatim.openstreetmap.org', port=443): Max retries exceeded with url: /search?q=A.&format=json&limit=1 (Caused by ReadTimeoutError(\"HTTPSConnectionPool(host='nominatim.openstreetmap.org', port=443): Read timed out. (read timeout=1)\"))\n",
      "\n",
      "During handling of the above exception, another exception occurred:\n",
      "\n",
      "Traceback (most recent call last):\n",
      "  File \"C:\\Users\\SOR Lucas\\AppData\\Local\\Programs\\Python\\Python39\\lib\\site-packages\\geopy\\adapters.py\", line 448, in _request\n",
      "    resp = self.session.get(url, timeout=timeout, headers=headers)\n",
      "  File \"C:\\Users\\SOR Lucas\\AppData\\Local\\Programs\\Python\\Python39\\lib\\site-packages\\requests\\sessions.py\", line 555, in get\n",
      "    return self.request('GET', url, **kwargs)\n",
      "  File \"C:\\Users\\SOR Lucas\\AppData\\Local\\Programs\\Python\\Python39\\lib\\site-packages\\requests\\sessions.py\", line 542, in request\n",
      "    resp = self.send(prep, **send_kwargs)\n",
      "  File \"C:\\Users\\SOR Lucas\\AppData\\Local\\Programs\\Python\\Python39\\lib\\site-packages\\requests\\sessions.py\", line 655, in send\n",
      "    r = adapter.send(request, **kwargs)\n",
      "  File \"C:\\Users\\SOR Lucas\\AppData\\Local\\Programs\\Python\\Python39\\lib\\site-packages\\requests\\adapters.py\", line 516, in send\n",
      "    raise ConnectionError(e, request=request)\n",
      "requests.exceptions.ConnectionError: HTTPSConnectionPool(host='nominatim.openstreetmap.org', port=443): Max retries exceeded with url: /search?q=A.&format=json&limit=1 (Caused by ReadTimeoutError(\"HTTPSConnectionPool(host='nominatim.openstreetmap.org', port=443): Read timed out. (read timeout=1)\"))\n",
      "\n",
      "During handling of the above exception, another exception occurred:\n",
      "\n",
      "Traceback (most recent call last):\n",
      "  File \"C:\\Users\\SOR Lucas\\AppData\\Local\\Programs\\Python\\Python39\\lib\\site-packages\\geopy\\extra\\rate_limiter.py\", line 274, in __call__\n",
      "    res = self.func(*args, **kwargs)\n",
      "  File \"C:\\Users\\SOR Lucas\\AppData\\Local\\Programs\\Python\\Python39\\lib\\site-packages\\geopy\\geocoders\\nominatim.py\", line 297, in geocode\n",
      "    return self._call_geocoder(url, callback, timeout=timeout)\n",
      "  File \"C:\\Users\\SOR Lucas\\AppData\\Local\\Programs\\Python\\Python39\\lib\\site-packages\\geopy\\geocoders\\base.py\", line 368, in _call_geocoder\n",
      "    result = self.adapter.get_json(url, timeout=timeout, headers=req_headers)\n",
      "  File \"C:\\Users\\SOR Lucas\\AppData\\Local\\Programs\\Python\\Python39\\lib\\site-packages\\geopy\\adapters.py\", line 438, in get_json\n",
      "    resp = self._request(url, timeout=timeout, headers=headers)\n",
      "  File \"C:\\Users\\SOR Lucas\\AppData\\Local\\Programs\\Python\\Python39\\lib\\site-packages\\geopy\\adapters.py\", line 460, in _request\n",
      "    raise GeocoderUnavailable(message)\n",
      "geopy.exc.GeocoderUnavailable: HTTPSConnectionPool(host='nominatim.openstreetmap.org', port=443): Max retries exceeded with url: /search?q=A.&format=json&limit=1 (Caused by ReadTimeoutError(\"HTTPSConnectionPool(host='nominatim.openstreetmap.org', port=443): Read timed out. (read timeout=1)\"))\n",
      "RateLimiter caught an error, retrying (0/2 tries). Called with (*('the City of Christchurch',), **{}).\n",
      "Traceback (most recent call last):\n",
      "  File \"C:\\Users\\SOR Lucas\\AppData\\Local\\Programs\\Python\\Python39\\lib\\site-packages\\urllib3\\connectionpool.py\", line 445, in _make_request\n",
      "    six.raise_from(e, None)\n",
      "  File \"<string>\", line 3, in raise_from\n",
      "  File \"C:\\Users\\SOR Lucas\\AppData\\Local\\Programs\\Python\\Python39\\lib\\site-packages\\urllib3\\connectionpool.py\", line 440, in _make_request\n",
      "    httplib_response = conn.getresponse()\n",
      "  File \"C:\\Users\\SOR Lucas\\AppData\\Local\\Programs\\Python\\Python39\\lib\\http\\client.py\", line 1371, in getresponse\n",
      "    response.begin()\n",
      "  File \"C:\\Users\\SOR Lucas\\AppData\\Local\\Programs\\Python\\Python39\\lib\\http\\client.py\", line 319, in begin\n",
      "    version, status, reason = self._read_status()\n",
      "  File \"C:\\Users\\SOR Lucas\\AppData\\Local\\Programs\\Python\\Python39\\lib\\http\\client.py\", line 280, in _read_status\n",
      "    line = str(self.fp.readline(_MAXLINE + 1), \"iso-8859-1\")\n",
      "  File \"C:\\Users\\SOR Lucas\\AppData\\Local\\Programs\\Python\\Python39\\lib\\socket.py\", line 704, in readinto\n",
      "    return self._sock.recv_into(b)\n",
      "  File \"C:\\Users\\SOR Lucas\\AppData\\Local\\Programs\\Python\\Python39\\lib\\ssl.py\", line 1241, in recv_into\n",
      "    return self.read(nbytes, buffer)\n",
      "  File \"C:\\Users\\SOR Lucas\\AppData\\Local\\Programs\\Python\\Python39\\lib\\ssl.py\", line 1099, in read\n",
      "    return self._sslobj.read(len, buffer)\n",
      "socket.timeout: The read operation timed out\n",
      "\n",
      "During handling of the above exception, another exception occurred:\n",
      "\n",
      "Traceback (most recent call last):\n",
      "  File \"C:\\Users\\SOR Lucas\\AppData\\Local\\Programs\\Python\\Python39\\lib\\site-packages\\urllib3\\connectionpool.py\", line 699, in urlopen\n",
      "    httplib_response = self._make_request(\n",
      "  File \"C:\\Users\\SOR Lucas\\AppData\\Local\\Programs\\Python\\Python39\\lib\\site-packages\\urllib3\\connectionpool.py\", line 447, in _make_request\n",
      "    self._raise_timeout(err=e, url=url, timeout_value=read_timeout)\n",
      "  File \"C:\\Users\\SOR Lucas\\AppData\\Local\\Programs\\Python\\Python39\\lib\\site-packages\\urllib3\\connectionpool.py\", line 336, in _raise_timeout\n",
      "    raise ReadTimeoutError(\n",
      "urllib3.exceptions.ReadTimeoutError: HTTPSConnectionPool(host='nominatim.openstreetmap.org', port=443): Read timed out. (read timeout=1)\n",
      "\n",
      "During handling of the above exception, another exception occurred:\n",
      "\n",
      "Traceback (most recent call last):\n",
      "  File \"C:\\Users\\SOR Lucas\\AppData\\Local\\Programs\\Python\\Python39\\lib\\site-packages\\requests\\adapters.py\", line 439, in send\n",
      "    resp = conn.urlopen(\n",
      "  File \"C:\\Users\\SOR Lucas\\AppData\\Local\\Programs\\Python\\Python39\\lib\\site-packages\\urllib3\\connectionpool.py\", line 783, in urlopen\n",
      "    return self.urlopen(\n",
      "  File \"C:\\Users\\SOR Lucas\\AppData\\Local\\Programs\\Python\\Python39\\lib\\site-packages\\urllib3\\connectionpool.py\", line 783, in urlopen\n",
      "    return self.urlopen(\n",
      "  File \"C:\\Users\\SOR Lucas\\AppData\\Local\\Programs\\Python\\Python39\\lib\\site-packages\\urllib3\\connectionpool.py\", line 755, in urlopen\n",
      "    retries = retries.increment(\n",
      "  File \"C:\\Users\\SOR Lucas\\AppData\\Local\\Programs\\Python\\Python39\\lib\\site-packages\\urllib3\\util\\retry.py\", line 574, in increment\n",
      "    raise MaxRetryError(_pool, url, error or ResponseError(cause))\n",
      "urllib3.exceptions.MaxRetryError: HTTPSConnectionPool(host='nominatim.openstreetmap.org', port=443): Max retries exceeded with url: /search?q=the+City+of+Christchurch&format=json&limit=1 (Caused by ReadTimeoutError(\"HTTPSConnectionPool(host='nominatim.openstreetmap.org', port=443): Read timed out. (read timeout=1)\"))\n",
      "\n",
      "During handling of the above exception, another exception occurred:\n",
      "\n",
      "Traceback (most recent call last):\n",
      "  File \"C:\\Users\\SOR Lucas\\AppData\\Local\\Programs\\Python\\Python39\\lib\\site-packages\\geopy\\adapters.py\", line 448, in _request\n",
      "    resp = self.session.get(url, timeout=timeout, headers=headers)\n",
      "  File \"C:\\Users\\SOR Lucas\\AppData\\Local\\Programs\\Python\\Python39\\lib\\site-packages\\requests\\sessions.py\", line 555, in get\n",
      "    return self.request('GET', url, **kwargs)\n",
      "  File \"C:\\Users\\SOR Lucas\\AppData\\Local\\Programs\\Python\\Python39\\lib\\site-packages\\requests\\sessions.py\", line 542, in request\n",
      "    resp = self.send(prep, **send_kwargs)\n",
      "  File \"C:\\Users\\SOR Lucas\\AppData\\Local\\Programs\\Python\\Python39\\lib\\site-packages\\requests\\sessions.py\", line 655, in send\n",
      "    r = adapter.send(request, **kwargs)\n",
      "  File \"C:\\Users\\SOR Lucas\\AppData\\Local\\Programs\\Python\\Python39\\lib\\site-packages\\requests\\adapters.py\", line 516, in send\n",
      "    raise ConnectionError(e, request=request)\n",
      "requests.exceptions.ConnectionError: HTTPSConnectionPool(host='nominatim.openstreetmap.org', port=443): Max retries exceeded with url: /search?q=the+City+of+Christchurch&format=json&limit=1 (Caused by ReadTimeoutError(\"HTTPSConnectionPool(host='nominatim.openstreetmap.org', port=443): Read timed out. (read timeout=1)\"))\n",
      "\n",
      "During handling of the above exception, another exception occurred:\n",
      "\n",
      "Traceback (most recent call last):\n",
      "  File \"C:\\Users\\SOR Lucas\\AppData\\Local\\Programs\\Python\\Python39\\lib\\site-packages\\geopy\\extra\\rate_limiter.py\", line 136, in _retries_gen\n",
      "    yield i  # Run the function.\n",
      "  File \"C:\\Users\\SOR Lucas\\AppData\\Local\\Programs\\Python\\Python39\\lib\\site-packages\\geopy\\extra\\rate_limiter.py\", line 274, in __call__\n",
      "    res = self.func(*args, **kwargs)\n",
      "  File \"C:\\Users\\SOR Lucas\\AppData\\Local\\Programs\\Python\\Python39\\lib\\site-packages\\geopy\\geocoders\\nominatim.py\", line 297, in geocode\n",
      "    return self._call_geocoder(url, callback, timeout=timeout)\n",
      "  File \"C:\\Users\\SOR Lucas\\AppData\\Local\\Programs\\Python\\Python39\\lib\\site-packages\\geopy\\geocoders\\base.py\", line 368, in _call_geocoder\n",
      "    result = self.adapter.get_json(url, timeout=timeout, headers=req_headers)\n",
      "  File \"C:\\Users\\SOR Lucas\\AppData\\Local\\Programs\\Python\\Python39\\lib\\site-packages\\geopy\\adapters.py\", line 438, in get_json\n",
      "    resp = self._request(url, timeout=timeout, headers=headers)\n",
      "  File \"C:\\Users\\SOR Lucas\\AppData\\Local\\Programs\\Python\\Python39\\lib\\site-packages\\geopy\\adapters.py\", line 460, in _request\n",
      "    raise GeocoderUnavailable(message)\n",
      "geopy.exc.GeocoderUnavailable: HTTPSConnectionPool(host='nominatim.openstreetmap.org', port=443): Max retries exceeded with url: /search?q=the+City+of+Christchurch&format=json&limit=1 (Caused by ReadTimeoutError(\"HTTPSConnectionPool(host='nominatim.openstreetmap.org', port=443): Read timed out. (read timeout=1)\"))\n"
     ]
    },
    {
     "data": {
      "text/html": [
       "<div style=\"width:100%;\"><div style=\"position:relative;width:100%;height:0;padding-bottom:60%;\"><span style=\"color:#565656\">Make this Notebook Trusted to load map: File -> Trust Notebook</span><iframe src=\"about:blank\" style=\"position:absolute;width:100%;height:100%;left:0;top:0;border:none !important;\" data-html=%3C%21DOCTYPE%20html%3E%0A%3Chead%3E%20%20%20%20%0A%20%20%20%20%3Cmeta%20http-equiv%3D%22content-type%22%20content%3D%22text/html%3B%20charset%3DUTF-8%22%20/%3E%0A%20%20%20%20%0A%20%20%20%20%20%20%20%20%3Cscript%3E%0A%20%20%20%20%20%20%20%20%20%20%20%20L_NO_TOUCH%20%3D%20false%3B%0A%20%20%20%20%20%20%20%20%20%20%20%20L_DISABLE_3D%20%3D%20false%3B%0A%20%20%20%20%20%20%20%20%3C/script%3E%0A%20%20%20%20%0A%20%20%20%20%3Cstyle%3Ehtml%2C%20body%20%7Bwidth%3A%20100%25%3Bheight%3A%20100%25%3Bmargin%3A%200%3Bpadding%3A%200%3B%7D%3C/style%3E%0A%20%20%20%20%3Cstyle%3E%23map%20%7Bposition%3Aabsolute%3Btop%3A0%3Bbottom%3A0%3Bright%3A0%3Bleft%3A0%3B%7D%3C/style%3E%0A%20%20%20%20%3Cscript%20src%3D%22https%3A//cdn.jsdelivr.net/npm/leaflet%401.6.0/dist/leaflet.js%22%3E%3C/script%3E%0A%20%20%20%20%3Cscript%20src%3D%22https%3A//code.jquery.com/jquery-1.12.4.min.js%22%3E%3C/script%3E%0A%20%20%20%20%3Cscript%20src%3D%22https%3A//maxcdn.bootstrapcdn.com/bootstrap/3.2.0/js/bootstrap.min.js%22%3E%3C/script%3E%0A%20%20%20%20%3Cscript%20src%3D%22https%3A//cdnjs.cloudflare.com/ajax/libs/Leaflet.awesome-markers/2.0.2/leaflet.awesome-markers.js%22%3E%3C/script%3E%0A%20%20%20%20%3Clink%20rel%3D%22stylesheet%22%20href%3D%22https%3A//cdn.jsdelivr.net/npm/leaflet%401.6.0/dist/leaflet.css%22/%3E%0A%20%20%20%20%3Clink%20rel%3D%22stylesheet%22%20href%3D%22https%3A//maxcdn.bootstrapcdn.com/bootstrap/3.2.0/css/bootstrap.min.css%22/%3E%0A%20%20%20%20%3Clink%20rel%3D%22stylesheet%22%20href%3D%22https%3A//maxcdn.bootstrapcdn.com/bootstrap/3.2.0/css/bootstrap-theme.min.css%22/%3E%0A%20%20%20%20%3Clink%20rel%3D%22stylesheet%22%20href%3D%22https%3A//maxcdn.bootstrapcdn.com/font-awesome/4.6.3/css/font-awesome.min.css%22/%3E%0A%20%20%20%20%3Clink%20rel%3D%22stylesheet%22%20href%3D%22https%3A//cdnjs.cloudflare.com/ajax/libs/Leaflet.awesome-markers/2.0.2/leaflet.awesome-markers.css%22/%3E%0A%20%20%20%20%3Clink%20rel%3D%22stylesheet%22%20href%3D%22https%3A//cdn.jsdelivr.net/gh/python-visualization/folium/folium/templates/leaflet.awesome.rotate.min.css%22/%3E%0A%20%20%20%20%0A%20%20%20%20%20%20%20%20%20%20%20%20%3Cmeta%20name%3D%22viewport%22%20content%3D%22width%3Ddevice-width%2C%0A%20%20%20%20%20%20%20%20%20%20%20%20%20%20%20%20initial-scale%3D1.0%2C%20maximum-scale%3D1.0%2C%20user-scalable%3Dno%22%20/%3E%0A%20%20%20%20%20%20%20%20%20%20%20%20%3Cstyle%3E%0A%20%20%20%20%20%20%20%20%20%20%20%20%20%20%20%20%23map_e341ed8910664ba8b598782c8fbd071d%20%7B%0A%20%20%20%20%20%20%20%20%20%20%20%20%20%20%20%20%20%20%20%20position%3A%20relative%3B%0A%20%20%20%20%20%20%20%20%20%20%20%20%20%20%20%20%20%20%20%20width%3A%20100.0%25%3B%0A%20%20%20%20%20%20%20%20%20%20%20%20%20%20%20%20%20%20%20%20height%3A%20100.0%25%3B%0A%20%20%20%20%20%20%20%20%20%20%20%20%20%20%20%20%20%20%20%20left%3A%200.0%25%3B%0A%20%20%20%20%20%20%20%20%20%20%20%20%20%20%20%20%20%20%20%20top%3A%200.0%25%3B%0A%20%20%20%20%20%20%20%20%20%20%20%20%20%20%20%20%7D%0A%20%20%20%20%20%20%20%20%20%20%20%20%3C/style%3E%0A%20%20%20%20%20%20%20%20%0A%20%20%20%20%3Cscript%20src%3D%22https%3A//cdn.jsdelivr.net/gh/python-visualization/folium%40master/folium/templates/leaflet_heat.min.js%22%3E%3C/script%3E%0A%3C/head%3E%0A%3Cbody%3E%20%20%20%20%0A%20%20%20%20%0A%20%20%20%20%20%20%20%20%20%20%20%20%3Cdiv%20class%3D%22folium-map%22%20id%3D%22map_e341ed8910664ba8b598782c8fbd071d%22%20%3E%3C/div%3E%0A%20%20%20%20%20%20%20%20%0A%3C/body%3E%0A%3Cscript%3E%20%20%20%20%0A%20%20%20%20%0A%20%20%20%20%20%20%20%20%20%20%20%20var%20map_e341ed8910664ba8b598782c8fbd071d%20%3D%20L.map%28%0A%20%20%20%20%20%20%20%20%20%20%20%20%20%20%20%20%22map_e341ed8910664ba8b598782c8fbd071d%22%2C%0A%20%20%20%20%20%20%20%20%20%20%20%20%20%20%20%20%7B%0A%20%20%20%20%20%20%20%20%20%20%20%20%20%20%20%20%20%20%20%20center%3A%20%5B48.0%2C%205.0%5D%2C%0A%20%20%20%20%20%20%20%20%20%20%20%20%20%20%20%20%20%20%20%20crs%3A%20L.CRS.EPSG3857%2C%0A%20%20%20%20%20%20%20%20%20%20%20%20%20%20%20%20%20%20%20%20zoom%3A%202%2C%0A%20%20%20%20%20%20%20%20%20%20%20%20%20%20%20%20%20%20%20%20zoomControl%3A%20true%2C%0A%20%20%20%20%20%20%20%20%20%20%20%20%20%20%20%20%20%20%20%20preferCanvas%3A%20false%2C%0A%20%20%20%20%20%20%20%20%20%20%20%20%20%20%20%20%7D%0A%20%20%20%20%20%20%20%20%20%20%20%20%29%3B%0A%0A%20%20%20%20%20%20%20%20%20%20%20%20%0A%0A%20%20%20%20%20%20%20%20%0A%20%20%20%20%0A%20%20%20%20%20%20%20%20%20%20%20%20var%20tile_layer_7093eb27cde24464a14cf270c0809b66%20%3D%20L.tileLayer%28%0A%20%20%20%20%20%20%20%20%20%20%20%20%20%20%20%20%22https%3A//cartodb-basemaps-%7Bs%7D.global.ssl.fastly.net/dark_all/%7Bz%7D/%7Bx%7D/%7By%7D.png%22%2C%0A%20%20%20%20%20%20%20%20%20%20%20%20%20%20%20%20%7B%22attribution%22%3A%20%22%5Cu0026copy%3B%20%5Cu003ca%20href%3D%5C%22http%3A//www.openstreetmap.org/copyright%5C%22%5Cu003eOpenStreetMap%5Cu003c/a%5Cu003e%20contributors%20%5Cu0026copy%3B%20%5Cu003ca%20href%3D%5C%22http%3A//cartodb.com/attributions%5C%22%5Cu003eCartoDB%5Cu003c/a%5Cu003e%2C%20CartoDB%20%5Cu003ca%20href%20%3D%5C%22http%3A//cartodb.com/attributions%5C%22%5Cu003eattributions%5Cu003c/a%5Cu003e%22%2C%20%22detectRetina%22%3A%20false%2C%20%22maxNativeZoom%22%3A%2018%2C%20%22maxZoom%22%3A%2018%2C%20%22minZoom%22%3A%200%2C%20%22noWrap%22%3A%20false%2C%20%22opacity%22%3A%201%2C%20%22subdomains%22%3A%20%22abc%22%2C%20%22tms%22%3A%20false%7D%0A%20%20%20%20%20%20%20%20%20%20%20%20%29.addTo%28map_e341ed8910664ba8b598782c8fbd071d%29%3B%0A%20%20%20%20%20%20%20%20%0A%20%20%20%20%0A%20%20%20%20%20%20%20%20%20%20%20%20var%20heat_map_b0e9202a8e2344e7b6bb934e63d38529%20%3D%20L.heatLayer%28%0A%20%20%20%20%20%20%20%20%20%20%20%20%20%20%20%20%5B%5B42.6384261%2C%2012.674297%5D%2C%20%5B41.8933203%2C%2012.4829321%5D%2C%20%5B42.6292367%2C%2013.2891755%5D%2C%20%5B42.694141%2C%2013.247683%5D%2C%20%5B44.4938203%2C%2011.3426327%5D%2C%20%5B40.8358846%2C%2014.2487679%5D%2C%20%5B42.965916%2C%2012.490236%5D%2C%20%5B41.630741%2C%20-71.6054974%5D%2C%20%5B42.6384261%2C%2012.674297%5D%2C%20%5B40.44721955%2C%20-74.2957734713836%5D%2C%20%5B42.6384261%2C%2012.674297%5D%2C%20%5B42.7924117%2C%2013.0929279%5D%2C%20%5B41.8933203%2C%2012.4829321%5D%2C%20%5B17.8705323%2C%20-76.3501593%5D%2C%20%5B39.7837304%2C%20-100.445882%5D%2C%20%5B-1.3397668%2C%20-79.3666965%5D%2C%20%5B-0.2201641%2C%20-78.5123274%5D%2C%20%5B44.6158717%2C%207.4870199%5D%2C%20%5B36.5748441%2C%20139.2394179%5D%2C%20%5B-31.7613365%2C%20-71.3187697%5D%2C%20%5B0.53872465%2C%20-79.88172107115048%5D%2C%20%5B44.9732859%2C%20-71.6756447%5D%2C%20%5B4.099917%2C%20-72.9088133%5D%2C%20%5B-6.8699697%2C%20-75.0458515%5D%2C%20%5B-1.0528066%2C%20-80.4534269%5D%2C%20%5B-2.1900703%2C%20-79.8868702%5D%2C%20%5B29.4246002%2C%20-98.4951405%5D%2C%20%5B52.2036208%2C%200.1316263%5D%2C%20%5B-0.7588025%2C%20-80.0612131%5D%2C%20%5B-29.6092502%2C%20-50.9245639%5D%2C%20%5B-1.3397668%2C%20-79.3666965%5D%2C%20%5B44.6158717%2C%207.4870199%5D%2C%20%5B-1.0528066%2C%20-80.4534269%5D%2C%20%5B18.4763289%2C%20-69.8877107%5D%2C%20%5B39.7837304%2C%20-100.445882%5D%2C%20%5B4.099917%2C%20-72.9088133%5D%2C%20%5B36.5748441%2C%20139.2394179%5D%2C%20%5B-0.2201641%2C%20-78.5123274%5D%2C%20%5B-41.5000831%2C%20172.8344077%5D%2C%20%5B-43.586562%2C%20171.21232939964904%5D%2C%20%5B-41.2887953%2C%20174.7772114%5D%2C%20%5B-42.2365604%2C%20173.60786325958316%5D%2C%20%5B-42.4884775%2C%20173.1586536%5D%2C%20%5B-42.772919%2C%20172.8493354%5D%2C%20%5B36.5748441%2C%20139.2394179%5D%2C%20%5B32.4820755%2C%20131.10090516153372%5D%2C%20%5B32.6450475%2C%20130.6341345%5D%2C%20%5B-6.93879325%2C%20112.15850608630872%5D%2C%20%5B-2.4833826%2C%20117.8902853%5D%2C%20%5B4.3685491%2C%2097.0253024%5D%2C%20%5B44.975795399999996%2C%20-79.37905173132546%5D%2C%20%5B39.7837304%2C%20-100.445882%5D%2C%20%5B5.5528455%2C%2095.3192908%5D%2C%20%5B7.9896195%2C%2037.0267395%5D%2C%20%5B-6.1753942%2C%20106.827183%5D%2C%20%5B23.9739374%2C%20120.9820179%5D%2C%20%5B22.9914751%2C%20120.2124235%5D%2C%20%5B22.9912348%2C%20120.184982%5D%2C%20%5B39.7837304%2C%20-100.445882%5D%2C%20%5B25.0375198%2C%20121.5636796%5D%2C%20%5B35.000074%2C%20104.999927%5D%2C%20%5B39.906217%2C%20116.3912757%5D%2C%20%5B38.1858758%2C%20-99.240825%5D%2C%20%5B36.3320197%2C%20-94.1185366%5D%2C%20%5B35.2048883%2C%20-92.4479108%5D%2C%20%5B34.9550817%2C%20-97.2684063%5D%2C%20%5B34.9550817%2C%20-97.2684063%5D%2C%20%5B41.7370229%2C%20-99.5873816%5D%2C%20%5B36.1979366%2C%20-76.0099227%5D%2C%20%5B44.9732859%2C%20-71.6756447%5D%2C%20%5B35.2225717%2C%20-97.4394816%5D%2C%20%5B36.7014631%2C%20-118.755997%5D%2C%20%5B41.6214071%2C%20-72.0663666%5D%2C%20%5B39.100105%2C%20-94.5781416%5D%2C%20%5B35.4729886%2C%20-97.5170536%5D%2C%20%5B35.2048883%2C%20-92.4479108%5D%2C%20%5B38.27312%2C%20-98.5821872%5D%2C%20%5B38.7604815%2C%20-92.5617875%5D%2C%20%5B31.2638905%2C%20-98.5456116%5D%2C%20%5B41.9216734%2C%20-93.3122705%5D%2C%20%5B40.0796606%2C%20-89.4337288%5D%2C%20%5B35.7730076%2C%20-86.2820081%5D%2C%20%5B33.2588817%2C%20-86.8295337%5D%2C%20%5B42.6384261%2C%2012.674297%5D%2C%20%5B41.8933203%2C%2012.4829321%5D%2C%20%5B40.358369249999996%2C%2017.699702199999997%5D%2C%20%5B42.6384261%2C%2012.674297%5D%2C%20%5B42.6292367%2C%2013.2891755%5D%2C%20%5B43.4677993%2C%2011.0432115%5D%2C%20%5B38.9597594%2C%2034.9249653%5D%2C%20%5B37.7790262%2C%20-122.419906%5D%2C%20%5B36.5748441%2C%20139.2394179%5D%2C%20%5B28.1083929%2C%2084.0917139%5D%2C%20%5B17.1750495%2C%2095.9999652%5D%2C%20%5B42.6292367%2C%2013.2891755%5D%2C%20%5B42.41473635%2C%2012.885888076510067%5D%2C%20%5B42.694141%2C%2013.247683%5D%2C%20%5B42.6384261%2C%2012.674297%5D%2C%20%5B23.9739374%2C%20120.9820179%5D%2C%20%5B22.9914751%2C%20120.2124235%5D%2C%20%5B39.7837304%2C%20-100.445882%5D%2C%20%5B25.0375198%2C%20121.5636796%5D%2C%20%5B42.6384261%2C%2012.674297%5D%2C%20%5B26.493888%2C%20127.865372%5D%2C%20%5B41.8933203%2C%2012.4829321%5D%2C%20%5B64.4459613%2C%20-149.680909%5D%2C%20%5B64.4459613%2C%20-149.680909%5D%2C%20%5B59.639059%2C%20-151.53168855491697%5D%2C%20%5B61.2163129%2C%20-149.894852%5D%2C%20%5B58.3019496%2C%20-134.419734%5D%2C%20%5B60.560266%2C%20-151.20714472351614%5D%2C%20%5B60.330143%2C%20-151.2366311908321%5D%2C%20%5B38.6575749%2C%20-83.4193546%5D%2C%20%5B49.5465156%2C%20-56.8544105%5D%2C%20%5B57.79%2C%20-152.4072222%5D%2C%20%5B64.4459613%2C%20-149.680909%5D%2C%20%5B39.7837304%2C%20-100.445882%5D%2C%20%5B61.2163129%2C%20-149.894852%5D%2C%20%5B60.560266%2C%20-151.20714472351614%5D%2C%20%5B59.639059%2C%20-151.53168855491697%5D%2C%20%5B34.9550817%2C%20-97.2684063%5D%2C%20%5B35.4729886%2C%20-97.5170536%5D%2C%20%5B41.9216734%2C%20-93.3122705%5D%2C%20%5B40.0796606%2C%20-89.4337288%5D%2C%20%5B31.2638905%2C%20-98.5456116%5D%2C%20%5B48.63057945%2C%209.417544549574389%5D%2C%20%5B38.1858758%2C%20-99.240825%5D%2C%20%5B34.9550817%2C%20-97.2684063%5D%2C%20%5B39.7837304%2C%20-100.445882%5D%2C%20%5B35.4729886%2C%20-97.5170536%5D%2C%20%5B39.100105%2C%20-94.5781416%5D%2C%20%5B38.7604815%2C%20-92.5617875%5D%2C%20%5B34.7465071%2C%20-92.2896267%5D%2C%20%5B35.2048883%2C%20-92.4479108%5D%2C%20%5B41.9216734%2C%20-93.3122705%5D%2C%20%5B40.0796606%2C%20-89.4337288%5D%2C%20%5B31.2638905%2C%20-98.5456116%5D%2C%20%5B38.1858758%2C%20-99.240825%5D%2C%20%5B34.9550817%2C%20-97.2684063%5D%2C%20%5B35.4729886%2C%20-97.5170536%5D%2C%20%5B35.2048883%2C%20-92.4479108%5D%2C%20%5B38.27312%2C%20-98.5821872%5D%2C%20%5B38.7604815%2C%20-92.5617875%5D%2C%20%5B38.1858758%2C%20-99.240825%5D%2C%20%5B4.3685491%2C%2097.0253024%5D%2C%20%5B44.975795399999996%2C%20-79.37905173132546%5D%2C%20%5B-2.4833826%2C%20117.8902853%5D%2C%20%5B39.7837304%2C%20-100.445882%5D%2C%20%5B5.5528455%2C%2095.3192908%5D%2C%20%5B-6.93879325%2C%20112.15850608630872%5D%2C%20%5B7.9896195%2C%2037.0267395%5D%2C%20%5B3.7356799%2C%2096.8369148%5D%2C%20%5B5.10477095%2C%2096.21166763608278%5D%2C%20%5B-6.4453801%2C%20106.1375586%5D%2C%20%5B5.2048872500000005%2C%2096.70238943745053%5D%2C%20%5B5.1143002%2C%2095.94128340121603%5D%2C%20%5B36.5748441%2C%20139.2394179%5D%2C%20%5B35.6828387%2C%20139.7594549%5D%2C%20%5B51.2705477%2C%2030.2195609%5D%2C%20%5B48.63057945%2C%209.417544549574389%5D%2C%20%5B39.7837304%2C%20-100.445882%5D%2C%20%5B-31.7613365%2C%20-71.3187697%5D%2C%20%5B-41.4718121%2C%20-72.939621%5D%2C%20%5B-34.9964963%2C%20-64.9672817%5D%2C%20%5B-42.300844%2C%20-73.105387%5D%2C%20%5B39.7837304%2C%20-100.445882%5D%2C%20%5B-39.8141262%2C%20-73.2459859%5D%2C%20%5B39.7837304%2C%20-100.445882%5D%2C%20%5B17.1750495%2C%2095.9999652%5D%2C%20%5B13.5066394%2C%20104.869423%5D%2C%20%5B13.7525438%2C%20100.4934734%5D%2C%20%5B22.5414185%2C%2088.35769124388872%5D%2C%20%5B23.5031022%2C%2090.00386523825051%5D%2C%20%5B20.2747958%2C%2094.7362245%5D%2C%20%5B36.5748441%2C%20139.2394179%5D%2C%20%5B30.1530501%2C%2078.3905625%5D%2C%20%5B17.1750495%2C%2095.9999652%5D%2C%20%5B16.7967129%2C%2096.1609916%5D%2C%20%5B17.1750495%2C%2095.9999652%5D%2C%20%5B39.7837304%2C%20-100.445882%5D%2C%20%5B14.8971921%2C%20100.83273%5D%2C%20%5B22.3511148%2C%2078.6677428%5D%2C%20%5B23.5031022%2C%2090.00386523825051%5D%2C%20%5B20.2747958%2C%2094.7362245%5D%2C%20%5B21.3343349%2C%2095.0944271%5D%2C%20%5B7.5554942%2C%2080.7137847%5D%2C%20%5B16.7967129%2C%2096.1609916%5D%2C%20%5B13.7525438%2C%20100.4934734%5D%2C%20%5B22.5414185%2C%2088.35769124388872%5D%2C%20%5B44.0611754%2C%2015.0163744%5D%2C%20%5B23.7861979%2C%2090.4026151%5D%2C%20%5B22.3364709%2C%2091.8260479%5D%2C%20%5B42.6384261%2C%2012.674297%5D%2C%20%5B24.7938788%2C%20-107.3403685%5D%2C%20%5B41.8933203%2C%2012.4829321%5D%2C%20%5B43.1357641%2C%2013.0683092%5D%2C%20%5B42.7924117%2C%2013.0929279%5D%2C%20%5B42.965916%2C%2012.490236%5D%2C%20%5B45.0962613%2C%2010.1808285%5D%2C%20%5B42.6292367%2C%2013.2891755%5D%2C%20%5B42.6384261%2C%2012.674297%5D%2C%20%5B39.7837304%2C%20-100.445882%5D%2C%20%5B42.7213129%2C%2012.7303053%5D%2C%20%5B41.8933203%2C%2012.4829321%5D%2C%20%5B51.5073219%2C%20-0.1276474%5D%2C%20%5B42.6384261%2C%2012.674297%5D%2C%20%5B42.965916%2C%2012.490236%5D%2C%20%5B42.9312321%2C%2013.087449%5D%2C%20%5B45.4767291%2C%209.1877673%5D%2C%20%5B42.542984399999995%2C%20-2.580537324097609%5D%2C%20%5B-2.4833826%2C%20117.8902853%5D%2C%20%5B39.7837304%2C%20-100.445882%5D%2C%20%5B-0.9247587%2C%20100.3632561%5D%2C%20%5B5.52811005%2C%20-87.05976165965734%5D%2C%20%5B-10.49124145%2C%20105.6173514897963%5D%2C%20%5B22.3511148%2C%2078.6677428%5D%2C%20%5B7.5554942%2C%2080.7137847%5D%2C%20%5B-6.349044%2C%20106.782124%5D%2C%20%5B-31.7613365%2C%20-71.3187697%5D%2C%20%5B39.7837304%2C%20-100.445882%5D%2C%20%5B-17.7414972%2C%20168.3150163%5D%2C%20%5B36.638392%2C%20127.6961188%5D%2C%20%5B35.8556705%2C%20129.2248811%5D%2C%20%5B37.5666791%2C%20126.9782914%5D%2C%20%5B36.9643355%2C%20126.9984173%5D%2C%20%5B36.5748441%2C%20139.2394179%5D%2C%20%5B35.2382%2C%20128.6925%5D%2C%20%5B40.3736611%2C%20127.0870417%5D%2C%20%5B35.5391697%2C%20129.3119136%5D%2C%20%5B42.694141%2C%2013.247683%5D%2C%20%5B42.6292367%2C%2013.2891755%5D%2C%20%5B41.8933203%2C%2012.4829321%5D%2C%20%5B42.6384261%2C%2012.674297%5D%2C%20%5B54.7023545%2C%20-3.2765753%5D%2C%20%5B28.6138954%2C%2077.2090057%5D%2C%20%5B22.3511148%2C%2078.6677428%5D%2C%20%5B22.3511148%2C%2078.6677428%5D%2C%20%5B13.0386303%2C%2080.2517685%5D%2C%20%5B35.6828387%2C%20139.7594549%5D%2C%20%5B36.5748441%2C%20139.2394179%5D%2C%20%5B39.7837304%2C%20-100.445882%5D%2C%20%5B36.5748441%2C%20139.2394179%5D%2C%20%5B-1.3397668%2C%20-79.3666965%5D%2C%20%5B8.559559%2C%20-81.1308434%5D%2C%20%5B4.099917%2C%20-72.9088133%5D%2C%20%5B-6.8699697%2C%20-75.0458515%5D%2C%20%5B-39.8141262%2C%20-73.2459859%5D%2C%20%5B30.3308401%2C%2071.247499%5D%2C%20%5B22.3511148%2C%2078.6677428%5D%2C%20%5B33.7680065%2C%2066.2385139%5D%2C%20%5B36.7090116%2C%2071.5767799%5D%2C%20%5B29.6330078%2C%20-97.98859404468138%5D%2C%20%5B34.0123846%2C%2071.5787458%5D%2C%20%5B34.5260109%2C%2069.1776838%5D%2C%20%5B28.6138954%2C%2077.2090057%5D%2C%20%5B33.6938118%2C%2073.0651511%5D%2C%20%5B39.7837304%2C%20-100.445882%5D%2C%20%5B-16.5255069%2C%20168.1069154%5D%2C%20%5B-21.3019905%2C%20165.4880773%5D%2C%20%5B-18.1239696%2C%20179.0122737%5D%2C%20%5B36.5748441%2C%20139.2394179%5D%2C%20%5B-31.7613365%2C%20-71.3187697%5D%2C%20%5B39.7837304%2C%20-100.445882%5D%2C%20%5B36.7014631%2C%20-118.755997%5D%2C%20%5B34.9550817%2C%20-97.2684063%5D%2C%20%5B38.27312%2C%20-98.5821872%5D%2C%20%5B31.2638905%2C%20-98.5456116%5D%2C%20%5B35.2048883%2C%20-92.4479108%5D%2C%20%5B38.7251776%2C%20-105.607716%5D%2C%20%5B34.5708167%2C%20-105.993007%5D%2C%20%5B40.2253569%2C%20-82.6881395%5D%2C%20%5B33.2588817%2C%20-86.8295337%5D%2C%20%5B48.63057945%2C%209.417544549574389%5D%2C%20%5B32.7762719%2C%20-96.7968559%5D%2C%20%5B32.753177%2C%20-97.3327459%5D%2C%20%5B32.8295183%2C%20-96.9442177%5D%2C%20%5B36.5748441%2C%20139.2394179%5D%2C%20%5B22.9912348%2C%20120.184982%5D%2C%20%5B23.9739374%2C%20120.9820179%5D%2C%20%5B23.9739374%2C%20120.9820179%5D%2C%20%5B28.1083929%2C%2084.0917139%5D%2C%20%5B44.9732859%2C%20-71.6756447%5D%2C%20%5B27.708317%2C%2085.3205817%5D%2C%20%5B-8.7053941%2C%20159.1070693851845%5D%2C%20%5B-16.5255069%2C%20168.1069154%5D%2C%20%5B-5.6816069%2C%20144.2489081%5D%2C%20%5B-24.7761086%2C%20134.755%5D%2C%20%5B-10.51987375%2C%20161.82304010622%5D%2C%20%5B-0.5262121%2C%20166.9343006%5D%2C%20%5B-21.3019905%2C%20165.4880773%5D%2C%20%5B19.593801499999998%2C%20-155.42837009716908%5D%2C%20%5B-41.5000831%2C%20172.8344077%5D%2C%20%5B51.2800275%2C%201.0802533%5D%2C%20%5B51.602728799999994%2C%20-2.931407280758417%5D%2C%20%5B-41.5000831%2C%20172.8344077%5D%2C%20%5B-24.7761086%2C%20134.755%5D%2C%20%5B-42.035067%2C%20146.6366887%5D%2C%20%5B31.9037814%2C%20-94.3952022%5D%2C%20%5B31.2638905%2C%20-98.5456116%5D%2C%20%5B30.2711286%2C%20-97.7436995%5D%2C%20%5B48.63057945%2C%209.417544549574389%5D%2C%20%5B34.9550817%2C%20-97.2684063%5D%2C%20%5B39.7837304%2C%20-100.445882%5D%2C%20%5B48.63057945%2C%209.417544549574389%5D%2C%20%5B27.7567667%2C%20-81.4639835%5D%2C%20%5B29.2108147%2C%20-81.0228331%5D%2C%20%5B36.7014631%2C%20-118.755997%5D%2C%20%5B29.8946952%2C%20-81.3145395%5D%2C%20%5B29.0533409%2C%20-81.1310761%5D%2C%20%5B30.4380832%2C%20-84.2809332%5D%2C%20%5B32.7876012%2C%20-79.9402728%5D%2C%20%5B33.6874388%2C%20-80.4363743%5D%2C%20%5B39.7392364%2C%20-104.9848623%5D%2C%20%5B38.7251776%2C%20-105.607716%5D%2C%20%5B28.469648%2C%20-16.2540884%5D%2C%20%5B54.5859836%2C%20-6.9591554%5D%2C%20%5B-1.3397668%2C%20-79.3666965%5D%2C%20%5B39.3260685%2C%20-4.8379791%5D%2C%20%5B43.1595664%2C%20-4.0878382%5D%2C%20%5B-1.3397668%2C%20-79.3666965%5D%2C%20%5B29.6330078%2C%20-97.98859404468138%5D%2C%20%5B-0.7755207%2C%20-80.25771864483667%5D%2C%20%5B51.5073219%2C%20-0.1276474%5D%2C%20%5B38.9953683%2C%2021.9877132%5D%2C%20%5B36.7014631%2C%20-118.755997%5D%2C%20%5B37.7790262%2C%20-122.419906%5D%2C%20%5B41.8933203%2C%2012.4829321%5D%2C%20%5B38.8950368%2C%20-77.0365427%5D%2C%20%5B38.8950368%2C%20-77.0365427%5D%2C%20%5B-18.9249604%2C%2046.4416422%5D%2C%20%5B38.8950368%2C%20-77.0365427%5D%2C%20%5B44.5473571%2C%20-89.584253%5D%2C%20%5B30.8703881%2C%20-92.007126%5D%2C%20%5B29.9759983%2C%20-90.0782127%5D%2C%20%5B37.75454%2C%20140.4592144%5D%2C%20%5B36.5748441%2C%20139.2394179%5D%2C%20%5B22.2793278%2C%20114.1628131%5D%2C%20%5B18.7691698%2C%20145.66843462874897%5D%2C%20%5B38.8950368%2C%20-77.0365427%5D%2C%20%5B38.8950368%2C%20-77.0365427%5D%2C%20%5B37.5385087%2C%20-77.43428%5D%2C%20%5B37.6584133%2C%20-106.9311267%5D%2C%20%5B41.90381485%2C%2012.453152716391763%5D%2C%20%5B37.1232245%2C%20-78.4927721%5D%2C%20%5B29.6330078%2C%20-97.98859404468138%5D%2C%20%5B61.0666922%2C%20-107.991707%5D%2C%20%5B28.1083929%2C%2084.0917139%5D%2C%20%5B27.708317%2C%2085.3205817%5D%2C%20%5B27.905912700000002%2C%2085.75630550966932%5D%2C%20%5B22.3511148%2C%2078.6677428%5D%2C%20%5B36.7014631%2C%20-118.755997%5D%2C%20%5B40.7127281%2C%20-74.0060152%5D%2C%20%5B35.6828387%2C%20139.7594549%5D%2C%20%5B36.5748441%2C%20139.2394179%5D%2C%20%5B37.75454%2C%20140.4592144%5D%2C%20%5B51.2705477%2C%2030.2195609%5D%2C%20%5B36.5748441%2C%20139.2394179%5D%2C%20%5B-16.9206657%2C%20145.7721854%5D%2C%20%5B-19.2569391%2C%20146.8239537%5D%2C%20%5B-24.7761086%2C%20134.755%5D%2C%20%5B-22.1646782%2C%20144.5844903%5D%2C%20%5B54.9738474%2C%20-1.6131572%5D%2C%20%5B42.6384261%2C%2012.674297%5D%2C%20%5B50.8465573%2C%204.351697%5D%2C%20%5B41.8933203%2C%2012.4829321%5D%2C%20%5B38.9953683%2C%2021.9877132%5D%2C%20%5B42.6384261%2C%2012.674297%5D%2C%20%5B41.828116249999994%2C%2012.515148850378047%5D%2C%20%5B36.7014631%2C%20-118.755997%5D%2C%20%5B40.7127281%2C%20-74.0060152%5D%2C%20%5B19.1399952%2C%20-72.3570972%5D%2C%20%5B18.77858115%2C%20-70.5427697709766%5D%2C%20%5B46.1635975%2C%205.5710285%5D%2C%20%5B-24.7761086%2C%20134.755%5D%2C%20%5B-25.344857%2C%20131.0325171%5D%2C%20%5B-25.2410108%2C%20130.9869405%5D%2C%20%5B-19.8516101%2C%20133.2303375%5D%2C%20%5B-36.5986096%2C%20144.6780052%5D%2C%20%5B-22.1646782%2C%20144.5844903%5D%2C%20%5B43.1298726%2C%20-0.2000508%5D%2C%20%5B-20.2694109%2C%20148.718164%5D%2C%20%5B-27.4689682%2C%20153.0234991%5D%2C%20%5B-37.87437%2C%20146.91145036930226%5D%2C%20%5B39.7837304%2C%20-100.445882%5D%2C%20%5B42.6384261%2C%2012.674297%5D%2C%20%5B42.6292367%2C%2013.2891755%5D%2C%20%5B42.694141%2C%2013.247683%5D%2C%20%5B51.5073219%2C%20-0.1276474%5D%2C%20%5B-1.3397668%2C%20-79.3666965%5D%2C%20%5B-0.9739097%2C%20-80.60208476758544%5D%2C%20%5B-0.2201641%2C%20-78.5123274%5D%5D%2C%0A%20%20%20%20%20%20%20%20%20%20%20%20%20%20%20%20%7B%22blur%22%3A%2015%2C%20%22maxZoom%22%3A%2018%2C%20%22minOpacity%22%3A%200.5%2C%20%22radius%22%3A%2025%7D%0A%20%20%20%20%20%20%20%20%20%20%20%20%29.addTo%28map_e341ed8910664ba8b598782c8fbd071d%29%3B%0A%20%20%20%20%20%20%20%20%0A%3C/script%3E onload=\"this.contentDocument.open();this.contentDocument.write(    decodeURIComponent(this.getAttribute('data-html')));this.contentDocument.close();\" allowfullscreen webkitallowfullscreen mozallowfullscreen></iframe></div></div>"
      ],
      "text/plain": [
       "<folium.folium.Map at 0x24a5b662a60>"
      ]
     },
     "execution_count": 73,
     "metadata": {},
     "output_type": "execute_result"
    }
   ],
   "source": [
    "folium_map = get_location_map_from_df(df_location,map_style=\"heatmap\")\n",
    "folium_map "
   ]
  },
  {
   "cell_type": "code",
   "execution_count": null,
   "metadata": {},
   "outputs": [
    {
     "name": "stdout",
     "output_type": "stream",
     "text": [
      "There are 404 locations\n"
     ]
    },
    {
     "name": "stderr",
     "output_type": "stream",
     "text": [
      "RateLimiter caught an error, retrying (0/2 tries). Called with (*('M9.5',), **{}).\n",
      "Traceback (most recent call last):\n",
      "  File \"C:\\Users\\SOR Lucas\\AppData\\Local\\Programs\\Python\\Python39\\lib\\site-packages\\urllib3\\connectionpool.py\", line 445, in _make_request\n",
      "    six.raise_from(e, None)\n",
      "  File \"<string>\", line 3, in raise_from\n",
      "  File \"C:\\Users\\SOR Lucas\\AppData\\Local\\Programs\\Python\\Python39\\lib\\site-packages\\urllib3\\connectionpool.py\", line 440, in _make_request\n",
      "    httplib_response = conn.getresponse()\n",
      "  File \"C:\\Users\\SOR Lucas\\AppData\\Local\\Programs\\Python\\Python39\\lib\\http\\client.py\", line 1371, in getresponse\n",
      "    response.begin()\n",
      "  File \"C:\\Users\\SOR Lucas\\AppData\\Local\\Programs\\Python\\Python39\\lib\\http\\client.py\", line 319, in begin\n",
      "    version, status, reason = self._read_status()\n",
      "  File \"C:\\Users\\SOR Lucas\\AppData\\Local\\Programs\\Python\\Python39\\lib\\http\\client.py\", line 280, in _read_status\n",
      "    line = str(self.fp.readline(_MAXLINE + 1), \"iso-8859-1\")\n",
      "  File \"C:\\Users\\SOR Lucas\\AppData\\Local\\Programs\\Python\\Python39\\lib\\socket.py\", line 704, in readinto\n",
      "    return self._sock.recv_into(b)\n",
      "  File \"C:\\Users\\SOR Lucas\\AppData\\Local\\Programs\\Python\\Python39\\lib\\ssl.py\", line 1241, in recv_into\n",
      "    return self.read(nbytes, buffer)\n",
      "  File \"C:\\Users\\SOR Lucas\\AppData\\Local\\Programs\\Python\\Python39\\lib\\ssl.py\", line 1099, in read\n",
      "    return self._sslobj.read(len, buffer)\n",
      "socket.timeout: The read operation timed out\n",
      "\n",
      "During handling of the above exception, another exception occurred:\n",
      "\n",
      "Traceback (most recent call last):\n",
      "  File \"C:\\Users\\SOR Lucas\\AppData\\Local\\Programs\\Python\\Python39\\lib\\site-packages\\urllib3\\connectionpool.py\", line 699, in urlopen\n",
      "    httplib_response = self._make_request(\n",
      "  File \"C:\\Users\\SOR Lucas\\AppData\\Local\\Programs\\Python\\Python39\\lib\\site-packages\\urllib3\\connectionpool.py\", line 447, in _make_request\n",
      "    self._raise_timeout(err=e, url=url, timeout_value=read_timeout)\n",
      "  File \"C:\\Users\\SOR Lucas\\AppData\\Local\\Programs\\Python\\Python39\\lib\\site-packages\\urllib3\\connectionpool.py\", line 336, in _raise_timeout\n",
      "    raise ReadTimeoutError(\n",
      "urllib3.exceptions.ReadTimeoutError: HTTPSConnectionPool(host='nominatim.openstreetmap.org', port=443): Read timed out. (read timeout=1)\n",
      "\n",
      "During handling of the above exception, another exception occurred:\n",
      "\n",
      "Traceback (most recent call last):\n",
      "  File \"C:\\Users\\SOR Lucas\\AppData\\Local\\Programs\\Python\\Python39\\lib\\site-packages\\requests\\adapters.py\", line 439, in send\n",
      "    resp = conn.urlopen(\n",
      "  File \"C:\\Users\\SOR Lucas\\AppData\\Local\\Programs\\Python\\Python39\\lib\\site-packages\\urllib3\\connectionpool.py\", line 783, in urlopen\n",
      "    return self.urlopen(\n",
      "  File \"C:\\Users\\SOR Lucas\\AppData\\Local\\Programs\\Python\\Python39\\lib\\site-packages\\urllib3\\connectionpool.py\", line 783, in urlopen\n",
      "    return self.urlopen(\n",
      "  File \"C:\\Users\\SOR Lucas\\AppData\\Local\\Programs\\Python\\Python39\\lib\\site-packages\\urllib3\\connectionpool.py\", line 755, in urlopen\n",
      "    retries = retries.increment(\n",
      "  File \"C:\\Users\\SOR Lucas\\AppData\\Local\\Programs\\Python\\Python39\\lib\\site-packages\\urllib3\\util\\retry.py\", line 574, in increment\n",
      "    raise MaxRetryError(_pool, url, error or ResponseError(cause))\n",
      "urllib3.exceptions.MaxRetryError: HTTPSConnectionPool(host='nominatim.openstreetmap.org', port=443): Max retries exceeded with url: /search?q=M9.5&format=json&limit=1 (Caused by ReadTimeoutError(\"HTTPSConnectionPool(host='nominatim.openstreetmap.org', port=443): Read timed out. (read timeout=1)\"))\n",
      "\n",
      "During handling of the above exception, another exception occurred:\n",
      "\n",
      "Traceback (most recent call last):\n",
      "  File \"C:\\Users\\SOR Lucas\\AppData\\Local\\Programs\\Python\\Python39\\lib\\site-packages\\geopy\\adapters.py\", line 448, in _request\n",
      "    resp = self.session.get(url, timeout=timeout, headers=headers)\n",
      "  File \"C:\\Users\\SOR Lucas\\AppData\\Local\\Programs\\Python\\Python39\\lib\\site-packages\\requests\\sessions.py\", line 555, in get\n",
      "    return self.request('GET', url, **kwargs)\n",
      "  File \"C:\\Users\\SOR Lucas\\AppData\\Local\\Programs\\Python\\Python39\\lib\\site-packages\\requests\\sessions.py\", line 542, in request\n",
      "    resp = self.send(prep, **send_kwargs)\n",
      "  File \"C:\\Users\\SOR Lucas\\AppData\\Local\\Programs\\Python\\Python39\\lib\\site-packages\\requests\\sessions.py\", line 655, in send\n",
      "    r = adapter.send(request, **kwargs)\n",
      "  File \"C:\\Users\\SOR Lucas\\AppData\\Local\\Programs\\Python\\Python39\\lib\\site-packages\\requests\\adapters.py\", line 516, in send\n",
      "    raise ConnectionError(e, request=request)\n",
      "requests.exceptions.ConnectionError: HTTPSConnectionPool(host='nominatim.openstreetmap.org', port=443): Max retries exceeded with url: /search?q=M9.5&format=json&limit=1 (Caused by ReadTimeoutError(\"HTTPSConnectionPool(host='nominatim.openstreetmap.org', port=443): Read timed out. (read timeout=1)\"))\n",
      "\n",
      "During handling of the above exception, another exception occurred:\n",
      "\n",
      "Traceback (most recent call last):\n",
      "  File \"C:\\Users\\SOR Lucas\\AppData\\Local\\Programs\\Python\\Python39\\lib\\site-packages\\geopy\\extra\\rate_limiter.py\", line 136, in _retries_gen\n",
      "    yield i  # Run the function.\n",
      "  File \"C:\\Users\\SOR Lucas\\AppData\\Local\\Programs\\Python\\Python39\\lib\\site-packages\\geopy\\extra\\rate_limiter.py\", line 274, in __call__\n",
      "    res = self.func(*args, **kwargs)\n",
      "  File \"C:\\Users\\SOR Lucas\\AppData\\Local\\Programs\\Python\\Python39\\lib\\site-packages\\geopy\\geocoders\\nominatim.py\", line 297, in geocode\n",
      "    return self._call_geocoder(url, callback, timeout=timeout)\n",
      "  File \"C:\\Users\\SOR Lucas\\AppData\\Local\\Programs\\Python\\Python39\\lib\\site-packages\\geopy\\geocoders\\base.py\", line 368, in _call_geocoder\n",
      "    result = self.adapter.get_json(url, timeout=timeout, headers=req_headers)\n",
      "  File \"C:\\Users\\SOR Lucas\\AppData\\Local\\Programs\\Python\\Python39\\lib\\site-packages\\geopy\\adapters.py\", line 438, in get_json\n",
      "    resp = self._request(url, timeout=timeout, headers=headers)\n",
      "  File \"C:\\Users\\SOR Lucas\\AppData\\Local\\Programs\\Python\\Python39\\lib\\site-packages\\geopy\\adapters.py\", line 460, in _request\n",
      "    raise GeocoderUnavailable(message)\n",
      "geopy.exc.GeocoderUnavailable: HTTPSConnectionPool(host='nominatim.openstreetmap.org', port=443): Max retries exceeded with url: /search?q=M9.5&format=json&limit=1 (Caused by ReadTimeoutError(\"HTTPSConnectionPool(host='nominatim.openstreetmap.org', port=443): Read timed out. (read timeout=1)\"))\n",
      "RateLimiter caught an error, retrying (1/2 tries). Called with (*('M9.5',), **{}).\n",
      "Traceback (most recent call last):\n",
      "  File \"C:\\Users\\SOR Lucas\\AppData\\Local\\Programs\\Python\\Python39\\lib\\site-packages\\urllib3\\connectionpool.py\", line 445, in _make_request\n",
      "    six.raise_from(e, None)\n",
      "  File \"<string>\", line 3, in raise_from\n",
      "  File \"C:\\Users\\SOR Lucas\\AppData\\Local\\Programs\\Python\\Python39\\lib\\site-packages\\urllib3\\connectionpool.py\", line 440, in _make_request\n",
      "    httplib_response = conn.getresponse()\n",
      "  File \"C:\\Users\\SOR Lucas\\AppData\\Local\\Programs\\Python\\Python39\\lib\\http\\client.py\", line 1371, in getresponse\n",
      "    response.begin()\n",
      "  File \"C:\\Users\\SOR Lucas\\AppData\\Local\\Programs\\Python\\Python39\\lib\\http\\client.py\", line 319, in begin\n",
      "    version, status, reason = self._read_status()\n",
      "  File \"C:\\Users\\SOR Lucas\\AppData\\Local\\Programs\\Python\\Python39\\lib\\http\\client.py\", line 280, in _read_status\n",
      "    line = str(self.fp.readline(_MAXLINE + 1), \"iso-8859-1\")\n",
      "  File \"C:\\Users\\SOR Lucas\\AppData\\Local\\Programs\\Python\\Python39\\lib\\socket.py\", line 704, in readinto\n",
      "    return self._sock.recv_into(b)\n",
      "  File \"C:\\Users\\SOR Lucas\\AppData\\Local\\Programs\\Python\\Python39\\lib\\ssl.py\", line 1241, in recv_into\n",
      "    return self.read(nbytes, buffer)\n",
      "  File \"C:\\Users\\SOR Lucas\\AppData\\Local\\Programs\\Python\\Python39\\lib\\ssl.py\", line 1099, in read\n",
      "    return self._sslobj.read(len, buffer)\n",
      "socket.timeout: The read operation timed out\n",
      "\n",
      "During handling of the above exception, another exception occurred:\n",
      "\n",
      "Traceback (most recent call last):\n",
      "  File \"C:\\Users\\SOR Lucas\\AppData\\Local\\Programs\\Python\\Python39\\lib\\site-packages\\urllib3\\connectionpool.py\", line 699, in urlopen\n",
      "    httplib_response = self._make_request(\n",
      "  File \"C:\\Users\\SOR Lucas\\AppData\\Local\\Programs\\Python\\Python39\\lib\\site-packages\\urllib3\\connectionpool.py\", line 447, in _make_request\n",
      "    self._raise_timeout(err=e, url=url, timeout_value=read_timeout)\n",
      "  File \"C:\\Users\\SOR Lucas\\AppData\\Local\\Programs\\Python\\Python39\\lib\\site-packages\\urllib3\\connectionpool.py\", line 336, in _raise_timeout\n",
      "    raise ReadTimeoutError(\n",
      "urllib3.exceptions.ReadTimeoutError: HTTPSConnectionPool(host='nominatim.openstreetmap.org', port=443): Read timed out. (read timeout=1)\n",
      "\n",
      "During handling of the above exception, another exception occurred:\n",
      "\n",
      "Traceback (most recent call last):\n",
      "  File \"C:\\Users\\SOR Lucas\\AppData\\Local\\Programs\\Python\\Python39\\lib\\site-packages\\requests\\adapters.py\", line 439, in send\n",
      "    resp = conn.urlopen(\n",
      "  File \"C:\\Users\\SOR Lucas\\AppData\\Local\\Programs\\Python\\Python39\\lib\\site-packages\\urllib3\\connectionpool.py\", line 783, in urlopen\n",
      "    return self.urlopen(\n",
      "  File \"C:\\Users\\SOR Lucas\\AppData\\Local\\Programs\\Python\\Python39\\lib\\site-packages\\urllib3\\connectionpool.py\", line 783, in urlopen\n",
      "    return self.urlopen(\n",
      "  File \"C:\\Users\\SOR Lucas\\AppData\\Local\\Programs\\Python\\Python39\\lib\\site-packages\\urllib3\\connectionpool.py\", line 755, in urlopen\n",
      "    retries = retries.increment(\n",
      "  File \"C:\\Users\\SOR Lucas\\AppData\\Local\\Programs\\Python\\Python39\\lib\\site-packages\\urllib3\\util\\retry.py\", line 574, in increment\n",
      "    raise MaxRetryError(_pool, url, error or ResponseError(cause))\n",
      "urllib3.exceptions.MaxRetryError: HTTPSConnectionPool(host='nominatim.openstreetmap.org', port=443): Max retries exceeded with url: /search?q=M9.5&format=json&limit=1 (Caused by ReadTimeoutError(\"HTTPSConnectionPool(host='nominatim.openstreetmap.org', port=443): Read timed out. (read timeout=1)\"))\n",
      "\n",
      "During handling of the above exception, another exception occurred:\n",
      "\n",
      "Traceback (most recent call last):\n",
      "  File \"C:\\Users\\SOR Lucas\\AppData\\Local\\Programs\\Python\\Python39\\lib\\site-packages\\geopy\\adapters.py\", line 448, in _request\n",
      "    resp = self.session.get(url, timeout=timeout, headers=headers)\n",
      "  File \"C:\\Users\\SOR Lucas\\AppData\\Local\\Programs\\Python\\Python39\\lib\\site-packages\\requests\\sessions.py\", line 555, in get\n",
      "    return self.request('GET', url, **kwargs)\n",
      "  File \"C:\\Users\\SOR Lucas\\AppData\\Local\\Programs\\Python\\Python39\\lib\\site-packages\\requests\\sessions.py\", line 542, in request\n",
      "    resp = self.send(prep, **send_kwargs)\n",
      "  File \"C:\\Users\\SOR Lucas\\AppData\\Local\\Programs\\Python\\Python39\\lib\\site-packages\\requests\\sessions.py\", line 655, in send\n",
      "    r = adapter.send(request, **kwargs)\n",
      "  File \"C:\\Users\\SOR Lucas\\AppData\\Local\\Programs\\Python\\Python39\\lib\\site-packages\\requests\\adapters.py\", line 516, in send\n",
      "    raise ConnectionError(e, request=request)\n",
      "requests.exceptions.ConnectionError: HTTPSConnectionPool(host='nominatim.openstreetmap.org', port=443): Max retries exceeded with url: /search?q=M9.5&format=json&limit=1 (Caused by ReadTimeoutError(\"HTTPSConnectionPool(host='nominatim.openstreetmap.org', port=443): Read timed out. (read timeout=1)\"))\n",
      "\n",
      "During handling of the above exception, another exception occurred:\n",
      "\n",
      "Traceback (most recent call last):\n",
      "  File \"C:\\Users\\SOR Lucas\\AppData\\Local\\Programs\\Python\\Python39\\lib\\site-packages\\geopy\\extra\\rate_limiter.py\", line 136, in _retries_gen\n",
      "    yield i  # Run the function.\n",
      "  File \"C:\\Users\\SOR Lucas\\AppData\\Local\\Programs\\Python\\Python39\\lib\\site-packages\\geopy\\extra\\rate_limiter.py\", line 274, in __call__\n",
      "    res = self.func(*args, **kwargs)\n",
      "  File \"C:\\Users\\SOR Lucas\\AppData\\Local\\Programs\\Python\\Python39\\lib\\site-packages\\geopy\\geocoders\\nominatim.py\", line 297, in geocode\n",
      "    return self._call_geocoder(url, callback, timeout=timeout)\n",
      "  File \"C:\\Users\\SOR Lucas\\AppData\\Local\\Programs\\Python\\Python39\\lib\\site-packages\\geopy\\geocoders\\base.py\", line 368, in _call_geocoder\n",
      "    result = self.adapter.get_json(url, timeout=timeout, headers=req_headers)\n",
      "  File \"C:\\Users\\SOR Lucas\\AppData\\Local\\Programs\\Python\\Python39\\lib\\site-packages\\geopy\\adapters.py\", line 438, in get_json\n",
      "    resp = self._request(url, timeout=timeout, headers=headers)\n",
      "  File \"C:\\Users\\SOR Lucas\\AppData\\Local\\Programs\\Python\\Python39\\lib\\site-packages\\geopy\\adapters.py\", line 460, in _request\n",
      "    raise GeocoderUnavailable(message)\n",
      "geopy.exc.GeocoderUnavailable: HTTPSConnectionPool(host='nominatim.openstreetmap.org', port=443): Max retries exceeded with url: /search?q=M9.5&format=json&limit=1 (Caused by ReadTimeoutError(\"HTTPSConnectionPool(host='nominatim.openstreetmap.org', port=443): Read timed out. (read timeout=1)\"))\n",
      "RateLimiter swallowed an error after 2 retries. Called with (*('M9.5',), **{}).\n",
      "Traceback (most recent call last):\n",
      "  File \"C:\\Users\\SOR Lucas\\AppData\\Local\\Programs\\Python\\Python39\\lib\\site-packages\\urllib3\\connectionpool.py\", line 445, in _make_request\n",
      "    six.raise_from(e, None)\n",
      "  File \"<string>\", line 3, in raise_from\n",
      "  File \"C:\\Users\\SOR Lucas\\AppData\\Local\\Programs\\Python\\Python39\\lib\\site-packages\\urllib3\\connectionpool.py\", line 440, in _make_request\n",
      "    httplib_response = conn.getresponse()\n",
      "  File \"C:\\Users\\SOR Lucas\\AppData\\Local\\Programs\\Python\\Python39\\lib\\http\\client.py\", line 1371, in getresponse\n",
      "    response.begin()\n",
      "  File \"C:\\Users\\SOR Lucas\\AppData\\Local\\Programs\\Python\\Python39\\lib\\http\\client.py\", line 319, in begin\n",
      "    version, status, reason = self._read_status()\n",
      "  File \"C:\\Users\\SOR Lucas\\AppData\\Local\\Programs\\Python\\Python39\\lib\\http\\client.py\", line 280, in _read_status\n",
      "    line = str(self.fp.readline(_MAXLINE + 1), \"iso-8859-1\")\n",
      "  File \"C:\\Users\\SOR Lucas\\AppData\\Local\\Programs\\Python\\Python39\\lib\\socket.py\", line 704, in readinto\n",
      "    return self._sock.recv_into(b)\n",
      "  File \"C:\\Users\\SOR Lucas\\AppData\\Local\\Programs\\Python\\Python39\\lib\\ssl.py\", line 1241, in recv_into\n",
      "    return self.read(nbytes, buffer)\n",
      "  File \"C:\\Users\\SOR Lucas\\AppData\\Local\\Programs\\Python\\Python39\\lib\\ssl.py\", line 1099, in read\n",
      "    return self._sslobj.read(len, buffer)\n",
      "socket.timeout: The read operation timed out\n",
      "\n",
      "During handling of the above exception, another exception occurred:\n",
      "\n",
      "Traceback (most recent call last):\n",
      "  File \"C:\\Users\\SOR Lucas\\AppData\\Local\\Programs\\Python\\Python39\\lib\\site-packages\\urllib3\\connectionpool.py\", line 699, in urlopen\n",
      "    httplib_response = self._make_request(\n",
      "  File \"C:\\Users\\SOR Lucas\\AppData\\Local\\Programs\\Python\\Python39\\lib\\site-packages\\urllib3\\connectionpool.py\", line 447, in _make_request\n",
      "    self._raise_timeout(err=e, url=url, timeout_value=read_timeout)\n",
      "  File \"C:\\Users\\SOR Lucas\\AppData\\Local\\Programs\\Python\\Python39\\lib\\site-packages\\urllib3\\connectionpool.py\", line 336, in _raise_timeout\n",
      "    raise ReadTimeoutError(\n",
      "urllib3.exceptions.ReadTimeoutError: HTTPSConnectionPool(host='nominatim.openstreetmap.org', port=443): Read timed out. (read timeout=1)\n",
      "\n",
      "During handling of the above exception, another exception occurred:\n",
      "\n",
      "Traceback (most recent call last):\n",
      "  File \"C:\\Users\\SOR Lucas\\AppData\\Local\\Programs\\Python\\Python39\\lib\\site-packages\\requests\\adapters.py\", line 439, in send\n",
      "    resp = conn.urlopen(\n",
      "  File \"C:\\Users\\SOR Lucas\\AppData\\Local\\Programs\\Python\\Python39\\lib\\site-packages\\urllib3\\connectionpool.py\", line 783, in urlopen\n",
      "    return self.urlopen(\n",
      "  File \"C:\\Users\\SOR Lucas\\AppData\\Local\\Programs\\Python\\Python39\\lib\\site-packages\\urllib3\\connectionpool.py\", line 783, in urlopen\n",
      "    return self.urlopen(\n",
      "  File \"C:\\Users\\SOR Lucas\\AppData\\Local\\Programs\\Python\\Python39\\lib\\site-packages\\urllib3\\connectionpool.py\", line 755, in urlopen\n",
      "    retries = retries.increment(\n",
      "  File \"C:\\Users\\SOR Lucas\\AppData\\Local\\Programs\\Python\\Python39\\lib\\site-packages\\urllib3\\util\\retry.py\", line 574, in increment\n",
      "    raise MaxRetryError(_pool, url, error or ResponseError(cause))\n",
      "urllib3.exceptions.MaxRetryError: HTTPSConnectionPool(host='nominatim.openstreetmap.org', port=443): Max retries exceeded with url: /search?q=M9.5&format=json&limit=1 (Caused by ReadTimeoutError(\"HTTPSConnectionPool(host='nominatim.openstreetmap.org', port=443): Read timed out. (read timeout=1)\"))\n",
      "\n",
      "During handling of the above exception, another exception occurred:\n",
      "\n",
      "Traceback (most recent call last):\n",
      "  File \"C:\\Users\\SOR Lucas\\AppData\\Local\\Programs\\Python\\Python39\\lib\\site-packages\\geopy\\adapters.py\", line 448, in _request\n",
      "    resp = self.session.get(url, timeout=timeout, headers=headers)\n",
      "  File \"C:\\Users\\SOR Lucas\\AppData\\Local\\Programs\\Python\\Python39\\lib\\site-packages\\requests\\sessions.py\", line 555, in get\n",
      "    return self.request('GET', url, **kwargs)\n",
      "  File \"C:\\Users\\SOR Lucas\\AppData\\Local\\Programs\\Python\\Python39\\lib\\site-packages\\requests\\sessions.py\", line 542, in request\n",
      "    resp = self.send(prep, **send_kwargs)\n",
      "  File \"C:\\Users\\SOR Lucas\\AppData\\Local\\Programs\\Python\\Python39\\lib\\site-packages\\requests\\sessions.py\", line 655, in send\n",
      "    r = adapter.send(request, **kwargs)\n",
      "  File \"C:\\Users\\SOR Lucas\\AppData\\Local\\Programs\\Python\\Python39\\lib\\site-packages\\requests\\adapters.py\", line 516, in send\n",
      "    raise ConnectionError(e, request=request)\n",
      "requests.exceptions.ConnectionError: HTTPSConnectionPool(host='nominatim.openstreetmap.org', port=443): Max retries exceeded with url: /search?q=M9.5&format=json&limit=1 (Caused by ReadTimeoutError(\"HTTPSConnectionPool(host='nominatim.openstreetmap.org', port=443): Read timed out. (read timeout=1)\"))\n",
      "\n",
      "During handling of the above exception, another exception occurred:\n",
      "\n",
      "Traceback (most recent call last):\n",
      "  File \"C:\\Users\\SOR Lucas\\AppData\\Local\\Programs\\Python\\Python39\\lib\\site-packages\\geopy\\extra\\rate_limiter.py\", line 274, in __call__\n",
      "    res = self.func(*args, **kwargs)\n",
      "  File \"C:\\Users\\SOR Lucas\\AppData\\Local\\Programs\\Python\\Python39\\lib\\site-packages\\geopy\\geocoders\\nominatim.py\", line 297, in geocode\n",
      "    return self._call_geocoder(url, callback, timeout=timeout)\n",
      "  File \"C:\\Users\\SOR Lucas\\AppData\\Local\\Programs\\Python\\Python39\\lib\\site-packages\\geopy\\geocoders\\base.py\", line 368, in _call_geocoder\n",
      "    result = self.adapter.get_json(url, timeout=timeout, headers=req_headers)\n",
      "  File \"C:\\Users\\SOR Lucas\\AppData\\Local\\Programs\\Python\\Python39\\lib\\site-packages\\geopy\\adapters.py\", line 438, in get_json\n",
      "    resp = self._request(url, timeout=timeout, headers=headers)\n",
      "  File \"C:\\Users\\SOR Lucas\\AppData\\Local\\Programs\\Python\\Python39\\lib\\site-packages\\geopy\\adapters.py\", line 460, in _request\n",
      "    raise GeocoderUnavailable(message)\n",
      "geopy.exc.GeocoderUnavailable: HTTPSConnectionPool(host='nominatim.openstreetmap.org', port=443): Max retries exceeded with url: /search?q=M9.5&format=json&limit=1 (Caused by ReadTimeoutError(\"HTTPSConnectionPool(host='nominatim.openstreetmap.org', port=443): Read timed out. (read timeout=1)\"))\n",
      "RateLimiter caught an error, retrying (0/2 tries). Called with (*('A.',), **{}).\n",
      "Traceback (most recent call last):\n",
      "  File \"C:\\Users\\SOR Lucas\\AppData\\Local\\Programs\\Python\\Python39\\lib\\site-packages\\urllib3\\connectionpool.py\", line 445, in _make_request\n",
      "    six.raise_from(e, None)\n",
      "  File \"<string>\", line 3, in raise_from\n",
      "  File \"C:\\Users\\SOR Lucas\\AppData\\Local\\Programs\\Python\\Python39\\lib\\site-packages\\urllib3\\connectionpool.py\", line 440, in _make_request\n",
      "    httplib_response = conn.getresponse()\n",
      "  File \"C:\\Users\\SOR Lucas\\AppData\\Local\\Programs\\Python\\Python39\\lib\\http\\client.py\", line 1371, in getresponse\n",
      "    response.begin()\n",
      "  File \"C:\\Users\\SOR Lucas\\AppData\\Local\\Programs\\Python\\Python39\\lib\\http\\client.py\", line 319, in begin\n",
      "    version, status, reason = self._read_status()\n",
      "  File \"C:\\Users\\SOR Lucas\\AppData\\Local\\Programs\\Python\\Python39\\lib\\http\\client.py\", line 280, in _read_status\n",
      "    line = str(self.fp.readline(_MAXLINE + 1), \"iso-8859-1\")\n",
      "  File \"C:\\Users\\SOR Lucas\\AppData\\Local\\Programs\\Python\\Python39\\lib\\socket.py\", line 704, in readinto\n",
      "    return self._sock.recv_into(b)\n",
      "  File \"C:\\Users\\SOR Lucas\\AppData\\Local\\Programs\\Python\\Python39\\lib\\ssl.py\", line 1241, in recv_into\n",
      "    return self.read(nbytes, buffer)\n",
      "  File \"C:\\Users\\SOR Lucas\\AppData\\Local\\Programs\\Python\\Python39\\lib\\ssl.py\", line 1099, in read\n",
      "    return self._sslobj.read(len, buffer)\n",
      "socket.timeout: The read operation timed out\n",
      "\n",
      "During handling of the above exception, another exception occurred:\n",
      "\n",
      "Traceback (most recent call last):\n",
      "  File \"C:\\Users\\SOR Lucas\\AppData\\Local\\Programs\\Python\\Python39\\lib\\site-packages\\urllib3\\connectionpool.py\", line 699, in urlopen\n",
      "    httplib_response = self._make_request(\n",
      "  File \"C:\\Users\\SOR Lucas\\AppData\\Local\\Programs\\Python\\Python39\\lib\\site-packages\\urllib3\\connectionpool.py\", line 447, in _make_request\n",
      "    self._raise_timeout(err=e, url=url, timeout_value=read_timeout)\n",
      "  File \"C:\\Users\\SOR Lucas\\AppData\\Local\\Programs\\Python\\Python39\\lib\\site-packages\\urllib3\\connectionpool.py\", line 336, in _raise_timeout\n",
      "    raise ReadTimeoutError(\n",
      "urllib3.exceptions.ReadTimeoutError: HTTPSConnectionPool(host='nominatim.openstreetmap.org', port=443): Read timed out. (read timeout=1)\n",
      "\n",
      "During handling of the above exception, another exception occurred:\n",
      "\n",
      "Traceback (most recent call last):\n",
      "  File \"C:\\Users\\SOR Lucas\\AppData\\Local\\Programs\\Python\\Python39\\lib\\site-packages\\requests\\adapters.py\", line 439, in send\n",
      "    resp = conn.urlopen(\n",
      "  File \"C:\\Users\\SOR Lucas\\AppData\\Local\\Programs\\Python\\Python39\\lib\\site-packages\\urllib3\\connectionpool.py\", line 783, in urlopen\n",
      "    return self.urlopen(\n",
      "  File \"C:\\Users\\SOR Lucas\\AppData\\Local\\Programs\\Python\\Python39\\lib\\site-packages\\urllib3\\connectionpool.py\", line 783, in urlopen\n",
      "    return self.urlopen(\n",
      "  File \"C:\\Users\\SOR Lucas\\AppData\\Local\\Programs\\Python\\Python39\\lib\\site-packages\\urllib3\\connectionpool.py\", line 755, in urlopen\n",
      "    retries = retries.increment(\n",
      "  File \"C:\\Users\\SOR Lucas\\AppData\\Local\\Programs\\Python\\Python39\\lib\\site-packages\\urllib3\\util\\retry.py\", line 574, in increment\n",
      "    raise MaxRetryError(_pool, url, error or ResponseError(cause))\n",
      "urllib3.exceptions.MaxRetryError: HTTPSConnectionPool(host='nominatim.openstreetmap.org', port=443): Max retries exceeded with url: /search?q=A.&format=json&limit=1 (Caused by ReadTimeoutError(\"HTTPSConnectionPool(host='nominatim.openstreetmap.org', port=443): Read timed out. (read timeout=1)\"))\n",
      "\n",
      "During handling of the above exception, another exception occurred:\n",
      "\n",
      "Traceback (most recent call last):\n",
      "  File \"C:\\Users\\SOR Lucas\\AppData\\Local\\Programs\\Python\\Python39\\lib\\site-packages\\geopy\\adapters.py\", line 448, in _request\n",
      "    resp = self.session.get(url, timeout=timeout, headers=headers)\n",
      "  File \"C:\\Users\\SOR Lucas\\AppData\\Local\\Programs\\Python\\Python39\\lib\\site-packages\\requests\\sessions.py\", line 555, in get\n",
      "    return self.request('GET', url, **kwargs)\n",
      "  File \"C:\\Users\\SOR Lucas\\AppData\\Local\\Programs\\Python\\Python39\\lib\\site-packages\\requests\\sessions.py\", line 542, in request\n",
      "    resp = self.send(prep, **send_kwargs)\n",
      "  File \"C:\\Users\\SOR Lucas\\AppData\\Local\\Programs\\Python\\Python39\\lib\\site-packages\\requests\\sessions.py\", line 655, in send\n",
      "    r = adapter.send(request, **kwargs)\n",
      "  File \"C:\\Users\\SOR Lucas\\AppData\\Local\\Programs\\Python\\Python39\\lib\\site-packages\\requests\\adapters.py\", line 516, in send\n",
      "    raise ConnectionError(e, request=request)\n",
      "requests.exceptions.ConnectionError: HTTPSConnectionPool(host='nominatim.openstreetmap.org', port=443): Max retries exceeded with url: /search?q=A.&format=json&limit=1 (Caused by ReadTimeoutError(\"HTTPSConnectionPool(host='nominatim.openstreetmap.org', port=443): Read timed out. (read timeout=1)\"))\n",
      "\n",
      "During handling of the above exception, another exception occurred:\n",
      "\n",
      "Traceback (most recent call last):\n",
      "  File \"C:\\Users\\SOR Lucas\\AppData\\Local\\Programs\\Python\\Python39\\lib\\site-packages\\geopy\\extra\\rate_limiter.py\", line 136, in _retries_gen\n",
      "    yield i  # Run the function.\n",
      "  File \"C:\\Users\\SOR Lucas\\AppData\\Local\\Programs\\Python\\Python39\\lib\\site-packages\\geopy\\extra\\rate_limiter.py\", line 274, in __call__\n",
      "    res = self.func(*args, **kwargs)\n",
      "  File \"C:\\Users\\SOR Lucas\\AppData\\Local\\Programs\\Python\\Python39\\lib\\site-packages\\geopy\\geocoders\\nominatim.py\", line 297, in geocode\n",
      "    return self._call_geocoder(url, callback, timeout=timeout)\n",
      "  File \"C:\\Users\\SOR Lucas\\AppData\\Local\\Programs\\Python\\Python39\\lib\\site-packages\\geopy\\geocoders\\base.py\", line 368, in _call_geocoder\n",
      "    result = self.adapter.get_json(url, timeout=timeout, headers=req_headers)\n",
      "  File \"C:\\Users\\SOR Lucas\\AppData\\Local\\Programs\\Python\\Python39\\lib\\site-packages\\geopy\\adapters.py\", line 438, in get_json\n",
      "    resp = self._request(url, timeout=timeout, headers=headers)\n",
      "  File \"C:\\Users\\SOR Lucas\\AppData\\Local\\Programs\\Python\\Python39\\lib\\site-packages\\geopy\\adapters.py\", line 460, in _request\n",
      "    raise GeocoderUnavailable(message)\n",
      "geopy.exc.GeocoderUnavailable: HTTPSConnectionPool(host='nominatim.openstreetmap.org', port=443): Max retries exceeded with url: /search?q=A.&format=json&limit=1 (Caused by ReadTimeoutError(\"HTTPSConnectionPool(host='nominatim.openstreetmap.org', port=443): Read timed out. (read timeout=1)\"))\n",
      "RateLimiter caught an error, retrying (1/2 tries). Called with (*('A.',), **{}).\n",
      "Traceback (most recent call last):\n",
      "  File \"C:\\Users\\SOR Lucas\\AppData\\Local\\Programs\\Python\\Python39\\lib\\site-packages\\urllib3\\connectionpool.py\", line 445, in _make_request\n",
      "    six.raise_from(e, None)\n",
      "  File \"<string>\", line 3, in raise_from\n",
      "  File \"C:\\Users\\SOR Lucas\\AppData\\Local\\Programs\\Python\\Python39\\lib\\site-packages\\urllib3\\connectionpool.py\", line 440, in _make_request\n",
      "    httplib_response = conn.getresponse()\n",
      "  File \"C:\\Users\\SOR Lucas\\AppData\\Local\\Programs\\Python\\Python39\\lib\\http\\client.py\", line 1371, in getresponse\n",
      "    response.begin()\n",
      "  File \"C:\\Users\\SOR Lucas\\AppData\\Local\\Programs\\Python\\Python39\\lib\\http\\client.py\", line 319, in begin\n",
      "    version, status, reason = self._read_status()\n",
      "  File \"C:\\Users\\SOR Lucas\\AppData\\Local\\Programs\\Python\\Python39\\lib\\http\\client.py\", line 280, in _read_status\n",
      "    line = str(self.fp.readline(_MAXLINE + 1), \"iso-8859-1\")\n",
      "  File \"C:\\Users\\SOR Lucas\\AppData\\Local\\Programs\\Python\\Python39\\lib\\socket.py\", line 704, in readinto\n",
      "    return self._sock.recv_into(b)\n",
      "  File \"C:\\Users\\SOR Lucas\\AppData\\Local\\Programs\\Python\\Python39\\lib\\ssl.py\", line 1241, in recv_into\n",
      "    return self.read(nbytes, buffer)\n",
      "  File \"C:\\Users\\SOR Lucas\\AppData\\Local\\Programs\\Python\\Python39\\lib\\ssl.py\", line 1099, in read\n",
      "    return self._sslobj.read(len, buffer)\n",
      "socket.timeout: The read operation timed out\n",
      "\n",
      "During handling of the above exception, another exception occurred:\n",
      "\n",
      "Traceback (most recent call last):\n",
      "  File \"C:\\Users\\SOR Lucas\\AppData\\Local\\Programs\\Python\\Python39\\lib\\site-packages\\urllib3\\connectionpool.py\", line 699, in urlopen\n",
      "    httplib_response = self._make_request(\n",
      "  File \"C:\\Users\\SOR Lucas\\AppData\\Local\\Programs\\Python\\Python39\\lib\\site-packages\\urllib3\\connectionpool.py\", line 447, in _make_request\n",
      "    self._raise_timeout(err=e, url=url, timeout_value=read_timeout)\n",
      "  File \"C:\\Users\\SOR Lucas\\AppData\\Local\\Programs\\Python\\Python39\\lib\\site-packages\\urllib3\\connectionpool.py\", line 336, in _raise_timeout\n",
      "    raise ReadTimeoutError(\n",
      "urllib3.exceptions.ReadTimeoutError: HTTPSConnectionPool(host='nominatim.openstreetmap.org', port=443): Read timed out. (read timeout=1)\n",
      "\n",
      "During handling of the above exception, another exception occurred:\n",
      "\n",
      "Traceback (most recent call last):\n",
      "  File \"C:\\Users\\SOR Lucas\\AppData\\Local\\Programs\\Python\\Python39\\lib\\site-packages\\requests\\adapters.py\", line 439, in send\n",
      "    resp = conn.urlopen(\n",
      "  File \"C:\\Users\\SOR Lucas\\AppData\\Local\\Programs\\Python\\Python39\\lib\\site-packages\\urllib3\\connectionpool.py\", line 783, in urlopen\n",
      "    return self.urlopen(\n",
      "  File \"C:\\Users\\SOR Lucas\\AppData\\Local\\Programs\\Python\\Python39\\lib\\site-packages\\urllib3\\connectionpool.py\", line 783, in urlopen\n",
      "    return self.urlopen(\n",
      "  File \"C:\\Users\\SOR Lucas\\AppData\\Local\\Programs\\Python\\Python39\\lib\\site-packages\\urllib3\\connectionpool.py\", line 755, in urlopen\n",
      "    retries = retries.increment(\n",
      "  File \"C:\\Users\\SOR Lucas\\AppData\\Local\\Programs\\Python\\Python39\\lib\\site-packages\\urllib3\\util\\retry.py\", line 574, in increment\n",
      "    raise MaxRetryError(_pool, url, error or ResponseError(cause))\n",
      "urllib3.exceptions.MaxRetryError: HTTPSConnectionPool(host='nominatim.openstreetmap.org', port=443): Max retries exceeded with url: /search?q=A.&format=json&limit=1 (Caused by ReadTimeoutError(\"HTTPSConnectionPool(host='nominatim.openstreetmap.org', port=443): Read timed out. (read timeout=1)\"))\n",
      "\n",
      "During handling of the above exception, another exception occurred:\n",
      "\n",
      "Traceback (most recent call last):\n",
      "  File \"C:\\Users\\SOR Lucas\\AppData\\Local\\Programs\\Python\\Python39\\lib\\site-packages\\geopy\\adapters.py\", line 448, in _request\n",
      "    resp = self.session.get(url, timeout=timeout, headers=headers)\n",
      "  File \"C:\\Users\\SOR Lucas\\AppData\\Local\\Programs\\Python\\Python39\\lib\\site-packages\\requests\\sessions.py\", line 555, in get\n",
      "    return self.request('GET', url, **kwargs)\n",
      "  File \"C:\\Users\\SOR Lucas\\AppData\\Local\\Programs\\Python\\Python39\\lib\\site-packages\\requests\\sessions.py\", line 542, in request\n",
      "    resp = self.send(prep, **send_kwargs)\n",
      "  File \"C:\\Users\\SOR Lucas\\AppData\\Local\\Programs\\Python\\Python39\\lib\\site-packages\\requests\\sessions.py\", line 655, in send\n",
      "    r = adapter.send(request, **kwargs)\n",
      "  File \"C:\\Users\\SOR Lucas\\AppData\\Local\\Programs\\Python\\Python39\\lib\\site-packages\\requests\\adapters.py\", line 516, in send\n",
      "    raise ConnectionError(e, request=request)\n",
      "requests.exceptions.ConnectionError: HTTPSConnectionPool(host='nominatim.openstreetmap.org', port=443): Max retries exceeded with url: /search?q=A.&format=json&limit=1 (Caused by ReadTimeoutError(\"HTTPSConnectionPool(host='nominatim.openstreetmap.org', port=443): Read timed out. (read timeout=1)\"))\n",
      "\n",
      "During handling of the above exception, another exception occurred:\n",
      "\n",
      "Traceback (most recent call last):\n",
      "  File \"C:\\Users\\SOR Lucas\\AppData\\Local\\Programs\\Python\\Python39\\lib\\site-packages\\geopy\\extra\\rate_limiter.py\", line 136, in _retries_gen\n",
      "    yield i  # Run the function.\n",
      "  File \"C:\\Users\\SOR Lucas\\AppData\\Local\\Programs\\Python\\Python39\\lib\\site-packages\\geopy\\extra\\rate_limiter.py\", line 274, in __call__\n",
      "    res = self.func(*args, **kwargs)\n",
      "  File \"C:\\Users\\SOR Lucas\\AppData\\Local\\Programs\\Python\\Python39\\lib\\site-packages\\geopy\\geocoders\\nominatim.py\", line 297, in geocode\n",
      "    return self._call_geocoder(url, callback, timeout=timeout)\n",
      "  File \"C:\\Users\\SOR Lucas\\AppData\\Local\\Programs\\Python\\Python39\\lib\\site-packages\\geopy\\geocoders\\base.py\", line 368, in _call_geocoder\n",
      "    result = self.adapter.get_json(url, timeout=timeout, headers=req_headers)\n",
      "  File \"C:\\Users\\SOR Lucas\\AppData\\Local\\Programs\\Python\\Python39\\lib\\site-packages\\geopy\\adapters.py\", line 438, in get_json\n",
      "    resp = self._request(url, timeout=timeout, headers=headers)\n",
      "  File \"C:\\Users\\SOR Lucas\\AppData\\Local\\Programs\\Python\\Python39\\lib\\site-packages\\geopy\\adapters.py\", line 460, in _request\n",
      "    raise GeocoderUnavailable(message)\n",
      "geopy.exc.GeocoderUnavailable: HTTPSConnectionPool(host='nominatim.openstreetmap.org', port=443): Max retries exceeded with url: /search?q=A.&format=json&limit=1 (Caused by ReadTimeoutError(\"HTTPSConnectionPool(host='nominatim.openstreetmap.org', port=443): Read timed out. (read timeout=1)\"))\n",
      "RateLimiter swallowed an error after 2 retries. Called with (*('A.',), **{}).\n",
      "Traceback (most recent call last):\n",
      "  File \"C:\\Users\\SOR Lucas\\AppData\\Local\\Programs\\Python\\Python39\\lib\\site-packages\\urllib3\\connectionpool.py\", line 445, in _make_request\n",
      "    six.raise_from(e, None)\n",
      "  File \"<string>\", line 3, in raise_from\n",
      "  File \"C:\\Users\\SOR Lucas\\AppData\\Local\\Programs\\Python\\Python39\\lib\\site-packages\\urllib3\\connectionpool.py\", line 440, in _make_request\n",
      "    httplib_response = conn.getresponse()\n",
      "  File \"C:\\Users\\SOR Lucas\\AppData\\Local\\Programs\\Python\\Python39\\lib\\http\\client.py\", line 1371, in getresponse\n",
      "    response.begin()\n",
      "  File \"C:\\Users\\SOR Lucas\\AppData\\Local\\Programs\\Python\\Python39\\lib\\http\\client.py\", line 319, in begin\n",
      "    version, status, reason = self._read_status()\n",
      "  File \"C:\\Users\\SOR Lucas\\AppData\\Local\\Programs\\Python\\Python39\\lib\\http\\client.py\", line 280, in _read_status\n",
      "    line = str(self.fp.readline(_MAXLINE + 1), \"iso-8859-1\")\n",
      "  File \"C:\\Users\\SOR Lucas\\AppData\\Local\\Programs\\Python\\Python39\\lib\\socket.py\", line 704, in readinto\n",
      "    return self._sock.recv_into(b)\n",
      "  File \"C:\\Users\\SOR Lucas\\AppData\\Local\\Programs\\Python\\Python39\\lib\\ssl.py\", line 1241, in recv_into\n",
      "    return self.read(nbytes, buffer)\n",
      "  File \"C:\\Users\\SOR Lucas\\AppData\\Local\\Programs\\Python\\Python39\\lib\\ssl.py\", line 1099, in read\n",
      "    return self._sslobj.read(len, buffer)\n",
      "socket.timeout: The read operation timed out\n",
      "\n",
      "During handling of the above exception, another exception occurred:\n",
      "\n",
      "Traceback (most recent call last):\n",
      "  File \"C:\\Users\\SOR Lucas\\AppData\\Local\\Programs\\Python\\Python39\\lib\\site-packages\\urllib3\\connectionpool.py\", line 699, in urlopen\n",
      "    httplib_response = self._make_request(\n",
      "  File \"C:\\Users\\SOR Lucas\\AppData\\Local\\Programs\\Python\\Python39\\lib\\site-packages\\urllib3\\connectionpool.py\", line 447, in _make_request\n",
      "    self._raise_timeout(err=e, url=url, timeout_value=read_timeout)\n",
      "  File \"C:\\Users\\SOR Lucas\\AppData\\Local\\Programs\\Python\\Python39\\lib\\site-packages\\urllib3\\connectionpool.py\", line 336, in _raise_timeout\n",
      "    raise ReadTimeoutError(\n",
      "urllib3.exceptions.ReadTimeoutError: HTTPSConnectionPool(host='nominatim.openstreetmap.org', port=443): Read timed out. (read timeout=1)\n",
      "\n",
      "During handling of the above exception, another exception occurred:\n",
      "\n",
      "Traceback (most recent call last):\n",
      "  File \"C:\\Users\\SOR Lucas\\AppData\\Local\\Programs\\Python\\Python39\\lib\\site-packages\\requests\\adapters.py\", line 439, in send\n",
      "    resp = conn.urlopen(\n",
      "  File \"C:\\Users\\SOR Lucas\\AppData\\Local\\Programs\\Python\\Python39\\lib\\site-packages\\urllib3\\connectionpool.py\", line 783, in urlopen\n",
      "    return self.urlopen(\n",
      "  File \"C:\\Users\\SOR Lucas\\AppData\\Local\\Programs\\Python\\Python39\\lib\\site-packages\\urllib3\\connectionpool.py\", line 783, in urlopen\n",
      "    return self.urlopen(\n",
      "  File \"C:\\Users\\SOR Lucas\\AppData\\Local\\Programs\\Python\\Python39\\lib\\site-packages\\urllib3\\connectionpool.py\", line 755, in urlopen\n",
      "    retries = retries.increment(\n",
      "  File \"C:\\Users\\SOR Lucas\\AppData\\Local\\Programs\\Python\\Python39\\lib\\site-packages\\urllib3\\util\\retry.py\", line 574, in increment\n",
      "    raise MaxRetryError(_pool, url, error or ResponseError(cause))\n",
      "urllib3.exceptions.MaxRetryError: HTTPSConnectionPool(host='nominatim.openstreetmap.org', port=443): Max retries exceeded with url: /search?q=A.&format=json&limit=1 (Caused by ReadTimeoutError(\"HTTPSConnectionPool(host='nominatim.openstreetmap.org', port=443): Read timed out. (read timeout=1)\"))\n",
      "\n",
      "During handling of the above exception, another exception occurred:\n",
      "\n",
      "Traceback (most recent call last):\n",
      "  File \"C:\\Users\\SOR Lucas\\AppData\\Local\\Programs\\Python\\Python39\\lib\\site-packages\\geopy\\adapters.py\", line 448, in _request\n",
      "    resp = self.session.get(url, timeout=timeout, headers=headers)\n",
      "  File \"C:\\Users\\SOR Lucas\\AppData\\Local\\Programs\\Python\\Python39\\lib\\site-packages\\requests\\sessions.py\", line 555, in get\n",
      "    return self.request('GET', url, **kwargs)\n",
      "  File \"C:\\Users\\SOR Lucas\\AppData\\Local\\Programs\\Python\\Python39\\lib\\site-packages\\requests\\sessions.py\", line 542, in request\n",
      "    resp = self.send(prep, **send_kwargs)\n",
      "  File \"C:\\Users\\SOR Lucas\\AppData\\Local\\Programs\\Python\\Python39\\lib\\site-packages\\requests\\sessions.py\", line 655, in send\n",
      "    r = adapter.send(request, **kwargs)\n",
      "  File \"C:\\Users\\SOR Lucas\\AppData\\Local\\Programs\\Python\\Python39\\lib\\site-packages\\requests\\adapters.py\", line 516, in send\n",
      "    raise ConnectionError(e, request=request)\n",
      "requests.exceptions.ConnectionError: HTTPSConnectionPool(host='nominatim.openstreetmap.org', port=443): Max retries exceeded with url: /search?q=A.&format=json&limit=1 (Caused by ReadTimeoutError(\"HTTPSConnectionPool(host='nominatim.openstreetmap.org', port=443): Read timed out. (read timeout=1)\"))\n",
      "\n",
      "During handling of the above exception, another exception occurred:\n",
      "\n",
      "Traceback (most recent call last):\n",
      "  File \"C:\\Users\\SOR Lucas\\AppData\\Local\\Programs\\Python\\Python39\\lib\\site-packages\\geopy\\extra\\rate_limiter.py\", line 274, in __call__\n",
      "    res = self.func(*args, **kwargs)\n",
      "  File \"C:\\Users\\SOR Lucas\\AppData\\Local\\Programs\\Python\\Python39\\lib\\site-packages\\geopy\\geocoders\\nominatim.py\", line 297, in geocode\n",
      "    return self._call_geocoder(url, callback, timeout=timeout)\n",
      "  File \"C:\\Users\\SOR Lucas\\AppData\\Local\\Programs\\Python\\Python39\\lib\\site-packages\\geopy\\geocoders\\base.py\", line 368, in _call_geocoder\n",
      "    result = self.adapter.get_json(url, timeout=timeout, headers=req_headers)\n",
      "  File \"C:\\Users\\SOR Lucas\\AppData\\Local\\Programs\\Python\\Python39\\lib\\site-packages\\geopy\\adapters.py\", line 438, in get_json\n",
      "    resp = self._request(url, timeout=timeout, headers=headers)\n",
      "  File \"C:\\Users\\SOR Lucas\\AppData\\Local\\Programs\\Python\\Python39\\lib\\site-packages\\geopy\\adapters.py\", line 460, in _request\n",
      "    raise GeocoderUnavailable(message)\n",
      "geopy.exc.GeocoderUnavailable: HTTPSConnectionPool(host='nominatim.openstreetmap.org', port=443): Max retries exceeded with url: /search?q=A.&format=json&limit=1 (Caused by ReadTimeoutError(\"HTTPSConnectionPool(host='nominatim.openstreetmap.org', port=443): Read timed out. (read timeout=1)\"))\n"
     ]
    },
    {
     "data": {
      "text/html": [
       "<div style=\"width:100%;\"><div style=\"position:relative;width:100%;height:0;padding-bottom:60%;\"><span style=\"color:#565656\">Make this Notebook Trusted to load map: File -> Trust Notebook</span><iframe src=\"about:blank\" style=\"position:absolute;width:100%;height:100%;left:0;top:0;border:none !important;\" data-html=%3C%21DOCTYPE%20html%3E%0A%3Chead%3E%20%20%20%20%0A%20%20%20%20%3Cmeta%20http-equiv%3D%22content-type%22%20content%3D%22text/html%3B%20charset%3DUTF-8%22%20/%3E%0A%20%20%20%20%0A%20%20%20%20%20%20%20%20%3Cscript%3E%0A%20%20%20%20%20%20%20%20%20%20%20%20L_NO_TOUCH%20%3D%20false%3B%0A%20%20%20%20%20%20%20%20%20%20%20%20L_DISABLE_3D%20%3D%20false%3B%0A%20%20%20%20%20%20%20%20%3C/script%3E%0A%20%20%20%20%0A%20%20%20%20%3Cstyle%3Ehtml%2C%20body%20%7Bwidth%3A%20100%25%3Bheight%3A%20100%25%3Bmargin%3A%200%3Bpadding%3A%200%3B%7D%3C/style%3E%0A%20%20%20%20%3Cstyle%3E%23map%20%7Bposition%3Aabsolute%3Btop%3A0%3Bbottom%3A0%3Bright%3A0%3Bleft%3A0%3B%7D%3C/style%3E%0A%20%20%20%20%3Cscript%20src%3D%22https%3A//cdn.jsdelivr.net/npm/leaflet%401.6.0/dist/leaflet.js%22%3E%3C/script%3E%0A%20%20%20%20%3Cscript%20src%3D%22https%3A//code.jquery.com/jquery-1.12.4.min.js%22%3E%3C/script%3E%0A%20%20%20%20%3Cscript%20src%3D%22https%3A//maxcdn.bootstrapcdn.com/bootstrap/3.2.0/js/bootstrap.min.js%22%3E%3C/script%3E%0A%20%20%20%20%3Cscript%20src%3D%22https%3A//cdnjs.cloudflare.com/ajax/libs/Leaflet.awesome-markers/2.0.2/leaflet.awesome-markers.js%22%3E%3C/script%3E%0A%20%20%20%20%3Clink%20rel%3D%22stylesheet%22%20href%3D%22https%3A//cdn.jsdelivr.net/npm/leaflet%401.6.0/dist/leaflet.css%22/%3E%0A%20%20%20%20%3Clink%20rel%3D%22stylesheet%22%20href%3D%22https%3A//maxcdn.bootstrapcdn.com/bootstrap/3.2.0/css/bootstrap.min.css%22/%3E%0A%20%20%20%20%3Clink%20rel%3D%22stylesheet%22%20href%3D%22https%3A//maxcdn.bootstrapcdn.com/bootstrap/3.2.0/css/bootstrap-theme.min.css%22/%3E%0A%20%20%20%20%3Clink%20rel%3D%22stylesheet%22%20href%3D%22https%3A//maxcdn.bootstrapcdn.com/font-awesome/4.6.3/css/font-awesome.min.css%22/%3E%0A%20%20%20%20%3Clink%20rel%3D%22stylesheet%22%20href%3D%22https%3A//cdnjs.cloudflare.com/ajax/libs/Leaflet.awesome-markers/2.0.2/leaflet.awesome-markers.css%22/%3E%0A%20%20%20%20%3Clink%20rel%3D%22stylesheet%22%20href%3D%22https%3A//cdn.jsdelivr.net/gh/python-visualization/folium/folium/templates/leaflet.awesome.rotate.min.css%22/%3E%0A%20%20%20%20%0A%20%20%20%20%20%20%20%20%20%20%20%20%3Cmeta%20name%3D%22viewport%22%20content%3D%22width%3Ddevice-width%2C%0A%20%20%20%20%20%20%20%20%20%20%20%20%20%20%20%20initial-scale%3D1.0%2C%20maximum-scale%3D1.0%2C%20user-scalable%3Dno%22%20/%3E%0A%20%20%20%20%20%20%20%20%20%20%20%20%3Cstyle%3E%0A%20%20%20%20%20%20%20%20%20%20%20%20%20%20%20%20%23map_c4072694aa204b82bceaa285daa4563c%20%7B%0A%20%20%20%20%20%20%20%20%20%20%20%20%20%20%20%20%20%20%20%20position%3A%20relative%3B%0A%20%20%20%20%20%20%20%20%20%20%20%20%20%20%20%20%20%20%20%20width%3A%20100.0%25%3B%0A%20%20%20%20%20%20%20%20%20%20%20%20%20%20%20%20%20%20%20%20height%3A%20100.0%25%3B%0A%20%20%20%20%20%20%20%20%20%20%20%20%20%20%20%20%20%20%20%20left%3A%200.0%25%3B%0A%20%20%20%20%20%20%20%20%20%20%20%20%20%20%20%20%20%20%20%20top%3A%200.0%25%3B%0A%20%20%20%20%20%20%20%20%20%20%20%20%20%20%20%20%7D%0A%20%20%20%20%20%20%20%20%20%20%20%20%3C/style%3E%0A%20%20%20%20%20%20%20%20%0A%20%20%20%20%3Cscript%20src%3D%22https%3A//cdnjs.cloudflare.com/ajax/libs/leaflet.markercluster/1.1.0/leaflet.markercluster.js%22%3E%3C/script%3E%0A%20%20%20%20%3Clink%20rel%3D%22stylesheet%22%20href%3D%22https%3A//cdnjs.cloudflare.com/ajax/libs/leaflet.markercluster/1.1.0/MarkerCluster.css%22/%3E%0A%20%20%20%20%3Clink%20rel%3D%22stylesheet%22%20href%3D%22https%3A//cdnjs.cloudflare.com/ajax/libs/leaflet.markercluster/1.1.0/MarkerCluster.Default.css%22/%3E%0A%3C/head%3E%0A%3Cbody%3E%20%20%20%20%0A%20%20%20%20%0A%20%20%20%20%20%20%20%20%20%20%20%20%3Cdiv%20class%3D%22folium-map%22%20id%3D%22map_c4072694aa204b82bceaa285daa4563c%22%20%3E%3C/div%3E%0A%20%20%20%20%20%20%20%20%0A%3C/body%3E%0A%3Cscript%3E%20%20%20%20%0A%20%20%20%20%0A%20%20%20%20%20%20%20%20%20%20%20%20var%20map_c4072694aa204b82bceaa285daa4563c%20%3D%20L.map%28%0A%20%20%20%20%20%20%20%20%20%20%20%20%20%20%20%20%22map_c4072694aa204b82bceaa285daa4563c%22%2C%0A%20%20%20%20%20%20%20%20%20%20%20%20%20%20%20%20%7B%0A%20%20%20%20%20%20%20%20%20%20%20%20%20%20%20%20%20%20%20%20center%3A%20%5B59.338315%2C%2018.08996%5D%2C%0A%20%20%20%20%20%20%20%20%20%20%20%20%20%20%20%20%20%20%20%20crs%3A%20L.CRS.EPSG3857%2C%0A%20%20%20%20%20%20%20%20%20%20%20%20%20%20%20%20%20%20%20%20zoom%3A%202%2C%0A%20%20%20%20%20%20%20%20%20%20%20%20%20%20%20%20%20%20%20%20zoomControl%3A%20true%2C%0A%20%20%20%20%20%20%20%20%20%20%20%20%20%20%20%20%20%20%20%20preferCanvas%3A%20false%2C%0A%20%20%20%20%20%20%20%20%20%20%20%20%20%20%20%20%7D%0A%20%20%20%20%20%20%20%20%20%20%20%20%29%3B%0A%0A%20%20%20%20%20%20%20%20%20%20%20%20%0A%0A%20%20%20%20%20%20%20%20%0A%20%20%20%20%0A%20%20%20%20%20%20%20%20%20%20%20%20var%20tile_layer_f4a22bdbdafc4aa498cfd9342caab921%20%3D%20L.tileLayer%28%0A%20%20%20%20%20%20%20%20%20%20%20%20%20%20%20%20%22https%3A//cartodb-basemaps-%7Bs%7D.global.ssl.fastly.net/dark_all/%7Bz%7D/%7Bx%7D/%7By%7D.png%22%2C%0A%20%20%20%20%20%20%20%20%20%20%20%20%20%20%20%20%7B%22attribution%22%3A%20%22%5Cu0026copy%3B%20%5Cu003ca%20href%3D%5C%22http%3A//www.openstreetmap.org/copyright%5C%22%5Cu003eOpenStreetMap%5Cu003c/a%5Cu003e%20contributors%20%5Cu0026copy%3B%20%5Cu003ca%20href%3D%5C%22http%3A//cartodb.com/attributions%5C%22%5Cu003eCartoDB%5Cu003c/a%5Cu003e%2C%20CartoDB%20%5Cu003ca%20href%20%3D%5C%22http%3A//cartodb.com/attributions%5C%22%5Cu003eattributions%5Cu003c/a%5Cu003e%22%2C%20%22detectRetina%22%3A%20false%2C%20%22maxNativeZoom%22%3A%2018%2C%20%22maxZoom%22%3A%2018%2C%20%22minZoom%22%3A%200%2C%20%22noWrap%22%3A%20false%2C%20%22opacity%22%3A%201%2C%20%22subdomains%22%3A%20%22abc%22%2C%20%22tms%22%3A%20false%7D%0A%20%20%20%20%20%20%20%20%20%20%20%20%29.addTo%28map_c4072694aa204b82bceaa285daa4563c%29%3B%0A%20%20%20%20%20%20%20%20%0A%20%20%20%20%0A%20%20%20%20%20%20%20%20%20%20%20%20var%20fast_marker_cluster_c685ec1fc9c04368a881dbe90f9b72c2%20%3D%20%28function%28%29%7B%0A%20%20%20%20%20%20%20%20%20%20%20%20%20%20%20%20%0A%20%20%20%20%20%20%20%20%20%20%20%20%20%20%20%20var%20callback%20%3D%20function%20%28row%29%20%7B%0A%20%20%20%20%20%20%20%20%20%20%20%20%20%20%20%20%20%20%20%20var%20icon%20%3D%20L.AwesomeMarkers.icon%28%29%3B%0A%20%20%20%20%20%20%20%20%20%20%20%20%20%20%20%20%20%20%20%20var%20marker%20%3D%20L.marker%28new%20L.LatLng%28row%5B0%5D%2C%20row%5B1%5D%29%29%3B%0A%20%20%20%20%20%20%20%20%20%20%20%20%20%20%20%20%20%20%20%20marker.setIcon%28icon%29%3B%0A%20%20%20%20%20%20%20%20%20%20%20%20%20%20%20%20%20%20%20%20return%20marker%3B%0A%20%20%20%20%20%20%20%20%20%20%20%20%20%20%20%20%7D%3B%0A%0A%20%20%20%20%20%20%20%20%20%20%20%20%20%20%20%20var%20data%20%3D%20%5B%5B42.6384261%2C%2012.674297%5D%2C%20%5B41.8933203%2C%2012.4829321%5D%2C%20%5B42.6292367%2C%2013.2891755%5D%2C%20%5B42.694141%2C%2013.247683%5D%2C%20%5B44.4938203%2C%2011.3426327%5D%2C%20%5B40.8358846%2C%2014.2487679%5D%2C%20%5B42.965916%2C%2012.490236%5D%2C%20%5B41.630741%2C%20-71.6054974%5D%2C%20%5B42.6384261%2C%2012.674297%5D%2C%20%5B40.44721955%2C%20-74.2957734713836%5D%2C%20%5B42.6384261%2C%2012.674297%5D%2C%20%5B42.7924117%2C%2013.0929279%5D%2C%20%5B41.8933203%2C%2012.4829321%5D%2C%20%5B17.8705323%2C%20-76.3501593%5D%2C%20%5B39.7837304%2C%20-100.445882%5D%2C%20%5B-1.3397668%2C%20-79.3666965%5D%2C%20%5B-0.2201641%2C%20-78.5123274%5D%2C%20%5B44.6158717%2C%207.4870199%5D%2C%20%5B36.5748441%2C%20139.2394179%5D%2C%20%5B-31.7613365%2C%20-71.3187697%5D%2C%20%5B0.53872465%2C%20-79.88172107115048%5D%2C%20%5B44.9732859%2C%20-71.6756447%5D%2C%20%5B4.099917%2C%20-72.9088133%5D%2C%20%5B-6.8699697%2C%20-75.0458515%5D%2C%20%5B-1.0528066%2C%20-80.4534269%5D%2C%20%5B-2.1900703%2C%20-79.8868702%5D%2C%20%5B29.4246002%2C%20-98.4951405%5D%2C%20%5B52.2036208%2C%200.1316263%5D%2C%20%5B-0.7588025%2C%20-80.0612131%5D%2C%20%5B-29.6092502%2C%20-50.9245639%5D%2C%20%5B-1.3397668%2C%20-79.3666965%5D%2C%20%5B44.6158717%2C%207.4870199%5D%2C%20%5B-1.0528066%2C%20-80.4534269%5D%2C%20%5B18.4763289%2C%20-69.8877107%5D%2C%20%5B39.7837304%2C%20-100.445882%5D%2C%20%5B4.099917%2C%20-72.9088133%5D%2C%20%5B36.5748441%2C%20139.2394179%5D%2C%20%5B-0.2201641%2C%20-78.5123274%5D%2C%20%5B-41.5000831%2C%20172.8344077%5D%2C%20%5B-43.586562%2C%20171.21232939964904%5D%2C%20%5B-41.2887953%2C%20174.7772114%5D%2C%20%5B-42.2365604%2C%20173.60786325958316%5D%2C%20%5B-42.4884775%2C%20173.1586536%5D%2C%20%5B-42.772919%2C%20172.8493354%5D%2C%20%5B36.5748441%2C%20139.2394179%5D%2C%20%5B32.4820755%2C%20131.10090516153372%5D%2C%20%5B32.6450475%2C%20130.6341345%5D%2C%20%5B-6.93879325%2C%20112.15850608630872%5D%2C%20%5B-2.4833826%2C%20117.8902853%5D%2C%20%5B4.3685491%2C%2097.0253024%5D%2C%20%5B44.975795399999996%2C%20-79.37905173132546%5D%2C%20%5B39.7837304%2C%20-100.445882%5D%2C%20%5B5.5528455%2C%2095.3192908%5D%2C%20%5B7.9896195%2C%2037.0267395%5D%2C%20%5B-6.1753942%2C%20106.827183%5D%2C%20%5B23.9739374%2C%20120.9820179%5D%2C%20%5B22.9914751%2C%20120.2124235%5D%2C%20%5B22.9912348%2C%20120.184982%5D%2C%20%5B39.7837304%2C%20-100.445882%5D%2C%20%5B25.0375198%2C%20121.5636796%5D%2C%20%5B35.000074%2C%20104.999927%5D%2C%20%5B39.906217%2C%20116.3912757%5D%2C%20%5B38.1858758%2C%20-99.240825%5D%2C%20%5B36.3320197%2C%20-94.1185366%5D%2C%20%5B35.2048883%2C%20-92.4479108%5D%2C%20%5B34.9550817%2C%20-97.2684063%5D%2C%20%5B34.9550817%2C%20-97.2684063%5D%2C%20%5B41.7370229%2C%20-99.5873816%5D%2C%20%5B36.1979366%2C%20-76.0099227%5D%2C%20%5B44.9732859%2C%20-71.6756447%5D%2C%20%5B35.2225717%2C%20-97.4394816%5D%2C%20%5B36.7014631%2C%20-118.755997%5D%2C%20%5B41.6214071%2C%20-72.0663666%5D%2C%20%5B39.100105%2C%20-94.5781416%5D%2C%20%5B35.4729886%2C%20-97.5170536%5D%2C%20%5B35.2048883%2C%20-92.4479108%5D%2C%20%5B38.27312%2C%20-98.5821872%5D%2C%20%5B38.7604815%2C%20-92.5617875%5D%2C%20%5B31.2638905%2C%20-98.5456116%5D%2C%20%5B41.9216734%2C%20-93.3122705%5D%2C%20%5B40.0796606%2C%20-89.4337288%5D%2C%20%5B35.7730076%2C%20-86.2820081%5D%2C%20%5B33.2588817%2C%20-86.8295337%5D%2C%20%5B42.6384261%2C%2012.674297%5D%2C%20%5B41.8933203%2C%2012.4829321%5D%2C%20%5B40.358369249999996%2C%2017.699702199999997%5D%2C%20%5B42.6384261%2C%2012.674297%5D%2C%20%5B42.6292367%2C%2013.2891755%5D%2C%20%5B43.4677993%2C%2011.0432115%5D%2C%20%5B38.9597594%2C%2034.9249653%5D%2C%20%5B37.7790262%2C%20-122.419906%5D%2C%20%5B36.5748441%2C%20139.2394179%5D%2C%20%5B28.1083929%2C%2084.0917139%5D%2C%20%5B17.1750495%2C%2095.9999652%5D%2C%20%5B42.6292367%2C%2013.2891755%5D%2C%20%5B42.41473635%2C%2012.885888076510067%5D%2C%20%5B42.694141%2C%2013.247683%5D%2C%20%5B42.6384261%2C%2012.674297%5D%2C%20%5B23.9739374%2C%20120.9820179%5D%2C%20%5B22.9914751%2C%20120.2124235%5D%2C%20%5B39.7837304%2C%20-100.445882%5D%2C%20%5B25.0375198%2C%20121.5636796%5D%2C%20%5B42.6384261%2C%2012.674297%5D%2C%20%5B26.493888%2C%20127.865372%5D%2C%20%5B41.8933203%2C%2012.4829321%5D%2C%20%5B64.4459613%2C%20-149.680909%5D%2C%20%5B64.4459613%2C%20-149.680909%5D%2C%20%5B59.639059%2C%20-151.53168855491697%5D%2C%20%5B61.2163129%2C%20-149.894852%5D%2C%20%5B58.3019496%2C%20-134.419734%5D%2C%20%5B60.560266%2C%20-151.20714472351614%5D%2C%20%5B60.330143%2C%20-151.2366311908321%5D%2C%20%5B38.6575749%2C%20-83.4193546%5D%2C%20%5B49.5465156%2C%20-56.8544105%5D%2C%20%5B57.79%2C%20-152.4072222%5D%2C%20%5B64.4459613%2C%20-149.680909%5D%2C%20%5B39.7837304%2C%20-100.445882%5D%2C%20%5B61.2163129%2C%20-149.894852%5D%2C%20%5B60.560266%2C%20-151.20714472351614%5D%2C%20%5B59.639059%2C%20-151.53168855491697%5D%2C%20%5B34.9550817%2C%20-97.2684063%5D%2C%20%5B35.4729886%2C%20-97.5170536%5D%2C%20%5B41.9216734%2C%20-93.3122705%5D%2C%20%5B40.0796606%2C%20-89.4337288%5D%2C%20%5B31.2638905%2C%20-98.5456116%5D%2C%20%5B48.63057945%2C%209.417544549574389%5D%2C%20%5B38.1858758%2C%20-99.240825%5D%2C%20%5B34.9550817%2C%20-97.2684063%5D%2C%20%5B39.7837304%2C%20-100.445882%5D%2C%20%5B35.4729886%2C%20-97.5170536%5D%2C%20%5B39.100105%2C%20-94.5781416%5D%2C%20%5B38.7604815%2C%20-92.5617875%5D%2C%20%5B34.7465071%2C%20-92.2896267%5D%2C%20%5B35.2048883%2C%20-92.4479108%5D%2C%20%5B41.9216734%2C%20-93.3122705%5D%2C%20%5B40.0796606%2C%20-89.4337288%5D%2C%20%5B31.2638905%2C%20-98.5456116%5D%2C%20%5B38.1858758%2C%20-99.240825%5D%2C%20%5B34.9550817%2C%20-97.2684063%5D%2C%20%5B35.4729886%2C%20-97.5170536%5D%2C%20%5B35.2048883%2C%20-92.4479108%5D%2C%20%5B38.27312%2C%20-98.5821872%5D%2C%20%5B38.7604815%2C%20-92.5617875%5D%2C%20%5B38.1858758%2C%20-99.240825%5D%2C%20%5B4.3685491%2C%2097.0253024%5D%2C%20%5B44.975795399999996%2C%20-79.37905173132546%5D%2C%20%5B-2.4833826%2C%20117.8902853%5D%2C%20%5B39.7837304%2C%20-100.445882%5D%2C%20%5B5.5528455%2C%2095.3192908%5D%2C%20%5B-6.93879325%2C%20112.15850608630872%5D%2C%20%5B7.9896195%2C%2037.0267395%5D%2C%20%5B3.7356799%2C%2096.8369148%5D%2C%20%5B5.10477095%2C%2096.21166763608278%5D%2C%20%5B-6.4453801%2C%20106.1375586%5D%2C%20%5B5.2048872500000005%2C%2096.70238943745053%5D%2C%20%5B5.1143002%2C%2095.94128340121603%5D%2C%20%5B36.5748441%2C%20139.2394179%5D%2C%20%5B35.6828387%2C%20139.7594549%5D%2C%20%5B51.2705477%2C%2030.2195609%5D%2C%20%5B48.63057945%2C%209.417544549574389%5D%2C%20%5B39.7837304%2C%20-100.445882%5D%2C%20%5B-31.7613365%2C%20-71.3187697%5D%2C%20%5B-41.4718121%2C%20-72.939621%5D%2C%20%5B-34.9964963%2C%20-64.9672817%5D%2C%20%5B-42.300844%2C%20-73.105387%5D%2C%20%5B39.7837304%2C%20-100.445882%5D%2C%20%5B-39.8141262%2C%20-73.2459859%5D%2C%20%5B39.7837304%2C%20-100.445882%5D%2C%20%5B17.1750495%2C%2095.9999652%5D%2C%20%5B13.5066394%2C%20104.869423%5D%2C%20%5B13.7525438%2C%20100.4934734%5D%2C%20%5B22.5414185%2C%2088.35769124388872%5D%2C%20%5B23.5031022%2C%2090.00386523825051%5D%2C%20%5B20.2747958%2C%2094.7362245%5D%2C%20%5B36.5748441%2C%20139.2394179%5D%2C%20%5B30.1530501%2C%2078.3905625%5D%2C%20%5B17.1750495%2C%2095.9999652%5D%2C%20%5B16.7967129%2C%2096.1609916%5D%2C%20%5B17.1750495%2C%2095.9999652%5D%2C%20%5B39.7837304%2C%20-100.445882%5D%2C%20%5B14.8971921%2C%20100.83273%5D%2C%20%5B22.3511148%2C%2078.6677428%5D%2C%20%5B23.5031022%2C%2090.00386523825051%5D%2C%20%5B20.2747958%2C%2094.7362245%5D%2C%20%5B21.3343349%2C%2095.0944271%5D%2C%20%5B7.5554942%2C%2080.7137847%5D%2C%20%5B16.7967129%2C%2096.1609916%5D%2C%20%5B13.7525438%2C%20100.4934734%5D%2C%20%5B22.5414185%2C%2088.35769124388872%5D%2C%20%5B44.0611754%2C%2015.0163744%5D%2C%20%5B23.7861979%2C%2090.4026151%5D%2C%20%5B22.3364709%2C%2091.8260479%5D%2C%20%5B42.6384261%2C%2012.674297%5D%2C%20%5B24.7938788%2C%20-107.3403685%5D%2C%20%5B41.8933203%2C%2012.4829321%5D%2C%20%5B43.1357641%2C%2013.0683092%5D%2C%20%5B42.7924117%2C%2013.0929279%5D%2C%20%5B42.965916%2C%2012.490236%5D%2C%20%5B45.0962613%2C%2010.1808285%5D%2C%20%5B42.6292367%2C%2013.2891755%5D%2C%20%5B42.6384261%2C%2012.674297%5D%2C%20%5B39.7837304%2C%20-100.445882%5D%2C%20%5B42.7213129%2C%2012.7303053%5D%2C%20%5B41.8933203%2C%2012.4829321%5D%2C%20%5B51.5073219%2C%20-0.1276474%5D%2C%20%5B42.6384261%2C%2012.674297%5D%2C%20%5B42.965916%2C%2012.490236%5D%2C%20%5B42.9312321%2C%2013.087449%5D%2C%20%5B45.4767291%2C%209.1877673%5D%2C%20%5B42.542984399999995%2C%20-2.580537324097609%5D%2C%20%5B-2.4833826%2C%20117.8902853%5D%2C%20%5B39.7837304%2C%20-100.445882%5D%2C%20%5B-0.9247587%2C%20100.3632561%5D%2C%20%5B5.52811005%2C%20-87.05976165965734%5D%2C%20%5B-10.49124145%2C%20105.6173514897963%5D%2C%20%5B22.3511148%2C%2078.6677428%5D%2C%20%5B7.5554942%2C%2080.7137847%5D%2C%20%5B-6.349044%2C%20106.782124%5D%2C%20%5B-31.7613365%2C%20-71.3187697%5D%2C%20%5B39.7837304%2C%20-100.445882%5D%2C%20%5B-17.7414972%2C%20168.3150163%5D%2C%20%5B36.638392%2C%20127.6961188%5D%2C%20%5B35.8556705%2C%20129.2248811%5D%2C%20%5B37.5666791%2C%20126.9782914%5D%2C%20%5B36.9643355%2C%20126.9984173%5D%2C%20%5B36.5748441%2C%20139.2394179%5D%2C%20%5B35.2382%2C%20128.6925%5D%2C%20%5B40.3736611%2C%20127.0870417%5D%2C%20%5B35.5391697%2C%20129.3119136%5D%2C%20%5B42.694141%2C%2013.247683%5D%2C%20%5B42.6292367%2C%2013.2891755%5D%2C%20%5B41.8933203%2C%2012.4829321%5D%2C%20%5B42.6384261%2C%2012.674297%5D%2C%20%5B54.7023545%2C%20-3.2765753%5D%2C%20%5B28.6138954%2C%2077.2090057%5D%2C%20%5B22.3511148%2C%2078.6677428%5D%2C%20%5B22.3511148%2C%2078.6677428%5D%2C%20%5B13.0386303%2C%2080.2517685%5D%2C%20%5B35.6828387%2C%20139.7594549%5D%2C%20%5B36.5748441%2C%20139.2394179%5D%2C%20%5B39.7837304%2C%20-100.445882%5D%2C%20%5B36.5748441%2C%20139.2394179%5D%2C%20%5B-1.3397668%2C%20-79.3666965%5D%2C%20%5B8.559559%2C%20-81.1308434%5D%2C%20%5B4.099917%2C%20-72.9088133%5D%2C%20%5B-6.8699697%2C%20-75.0458515%5D%2C%20%5B-39.8141262%2C%20-73.2459859%5D%2C%20%5B30.3308401%2C%2071.247499%5D%2C%20%5B22.3511148%2C%2078.6677428%5D%2C%20%5B33.7680065%2C%2066.2385139%5D%2C%20%5B36.7090116%2C%2071.5767799%5D%2C%20%5B29.6330078%2C%20-97.98859404468138%5D%2C%20%5B34.0123846%2C%2071.5787458%5D%2C%20%5B34.5260109%2C%2069.1776838%5D%2C%20%5B28.6138954%2C%2077.2090057%5D%2C%20%5B33.6938118%2C%2073.0651511%5D%2C%20%5B39.7837304%2C%20-100.445882%5D%2C%20%5B-16.5255069%2C%20168.1069154%5D%2C%20%5B-21.3019905%2C%20165.4880773%5D%2C%20%5B-18.1239696%2C%20179.0122737%5D%2C%20%5B36.5748441%2C%20139.2394179%5D%2C%20%5B-31.7613365%2C%20-71.3187697%5D%2C%20%5B39.7837304%2C%20-100.445882%5D%2C%20%5B36.7014631%2C%20-118.755997%5D%2C%20%5B34.9550817%2C%20-97.2684063%5D%2C%20%5B38.27312%2C%20-98.5821872%5D%2C%20%5B31.2638905%2C%20-98.5456116%5D%2C%20%5B35.2048883%2C%20-92.4479108%5D%2C%20%5B38.7251776%2C%20-105.607716%5D%2C%20%5B34.5708167%2C%20-105.993007%5D%2C%20%5B40.2253569%2C%20-82.6881395%5D%2C%20%5B33.2588817%2C%20-86.8295337%5D%2C%20%5B48.63057945%2C%209.417544549574389%5D%2C%20%5B32.7762719%2C%20-96.7968559%5D%2C%20%5B32.753177%2C%20-97.3327459%5D%2C%20%5B32.8295183%2C%20-96.9442177%5D%2C%20%5B36.5748441%2C%20139.2394179%5D%2C%20%5B22.9912348%2C%20120.184982%5D%2C%20%5B23.9739374%2C%20120.9820179%5D%2C%20%5B23.9739374%2C%20120.9820179%5D%2C%20%5B28.1083929%2C%2084.0917139%5D%2C%20%5B44.9732859%2C%20-71.6756447%5D%2C%20%5B27.708317%2C%2085.3205817%5D%2C%20%5B-8.7053941%2C%20159.1070693851845%5D%2C%20%5B-16.5255069%2C%20168.1069154%5D%2C%20%5B-5.6816069%2C%20144.2489081%5D%2C%20%5B-24.7761086%2C%20134.755%5D%2C%20%5B-10.51987375%2C%20161.82304010622%5D%2C%20%5B-0.5262121%2C%20166.9343006%5D%2C%20%5B-21.3019905%2C%20165.4880773%5D%2C%20%5B19.593801499999998%2C%20-155.42837009716908%5D%2C%20%5B-41.5000831%2C%20172.8344077%5D%2C%20%5B51.2800275%2C%201.0802533%5D%2C%20%5B51.602728799999994%2C%20-2.931407280758417%5D%2C%20%5B-41.5000831%2C%20172.8344077%5D%2C%20%5B-24.7761086%2C%20134.755%5D%2C%20%5B-42.035067%2C%20146.6366887%5D%2C%20%5B31.9037814%2C%20-94.3952022%5D%2C%20%5B31.2638905%2C%20-98.5456116%5D%2C%20%5B30.2711286%2C%20-97.7436995%5D%2C%20%5B48.63057945%2C%209.417544549574389%5D%2C%20%5B34.9550817%2C%20-97.2684063%5D%2C%20%5B39.7837304%2C%20-100.445882%5D%2C%20%5B48.63057945%2C%209.417544549574389%5D%2C%20%5B27.7567667%2C%20-81.4639835%5D%2C%20%5B29.2108147%2C%20-81.0228331%5D%2C%20%5B36.7014631%2C%20-118.755997%5D%2C%20%5B29.8946952%2C%20-81.3145395%5D%2C%20%5B29.0533409%2C%20-81.1310761%5D%2C%20%5B30.4380832%2C%20-84.2809332%5D%2C%20%5B32.7876012%2C%20-79.9402728%5D%2C%20%5B33.6874388%2C%20-80.4363743%5D%2C%20%5B39.7392364%2C%20-104.9848623%5D%2C%20%5B38.7251776%2C%20-105.607716%5D%2C%20%5B28.469648%2C%20-16.2540884%5D%2C%20%5B54.5859836%2C%20-6.9591554%5D%2C%20%5B-1.3397668%2C%20-79.3666965%5D%2C%20%5B39.3260685%2C%20-4.8379791%5D%2C%20%5B43.1595664%2C%20-4.0878382%5D%2C%20%5B-1.3397668%2C%20-79.3666965%5D%2C%20%5B29.6330078%2C%20-97.98859404468138%5D%2C%20%5B-0.7755207%2C%20-80.25771864483667%5D%2C%20%5B51.5073219%2C%20-0.1276474%5D%2C%20%5B38.9953683%2C%2021.9877132%5D%2C%20%5B36.7014631%2C%20-118.755997%5D%2C%20%5B37.7790262%2C%20-122.419906%5D%2C%20%5B41.8933203%2C%2012.4829321%5D%2C%20%5B38.8950368%2C%20-77.0365427%5D%2C%20%5B38.8950368%2C%20-77.0365427%5D%2C%20%5B-18.9249604%2C%2046.4416422%5D%2C%20%5B38.8950368%2C%20-77.0365427%5D%2C%20%5B44.5473571%2C%20-89.584253%5D%2C%20%5B30.8703881%2C%20-92.007126%5D%2C%20%5B29.9759983%2C%20-90.0782127%5D%2C%20%5B37.75454%2C%20140.4592144%5D%2C%20%5B36.5748441%2C%20139.2394179%5D%2C%20%5B22.2793278%2C%20114.1628131%5D%2C%20%5B18.7691698%2C%20145.66843462874897%5D%2C%20%5B38.8950368%2C%20-77.0365427%5D%2C%20%5B38.8950368%2C%20-77.0365427%5D%2C%20%5B37.5385087%2C%20-77.43428%5D%2C%20%5B37.6584133%2C%20-106.9311267%5D%2C%20%5B41.90381485%2C%2012.453152716391763%5D%2C%20%5B37.1232245%2C%20-78.4927721%5D%2C%20%5B29.6330078%2C%20-97.98859404468138%5D%2C%20%5B61.0666922%2C%20-107.991707%5D%2C%20%5B28.1083929%2C%2084.0917139%5D%2C%20%5B27.708317%2C%2085.3205817%5D%2C%20%5B27.905912700000002%2C%2085.75630550966932%5D%2C%20%5B22.3511148%2C%2078.6677428%5D%2C%20%5B36.7014631%2C%20-118.755997%5D%2C%20%5B40.7127281%2C%20-74.0060152%5D%2C%20%5B35.6828387%2C%20139.7594549%5D%2C%20%5B36.5748441%2C%20139.2394179%5D%2C%20%5B37.75454%2C%20140.4592144%5D%2C%20%5B51.2705477%2C%2030.2195609%5D%2C%20%5B36.5748441%2C%20139.2394179%5D%2C%20%5B-16.9206657%2C%20145.7721854%5D%2C%20%5B-19.2569391%2C%20146.8239537%5D%2C%20%5B-24.7761086%2C%20134.755%5D%2C%20%5B-22.1646782%2C%20144.5844903%5D%2C%20%5B54.9738474%2C%20-1.6131572%5D%2C%20%5B42.6384261%2C%2012.674297%5D%2C%20%5B50.8465573%2C%204.351697%5D%2C%20%5B41.8933203%2C%2012.4829321%5D%2C%20%5B38.9953683%2C%2021.9877132%5D%2C%20%5B42.6384261%2C%2012.674297%5D%2C%20%5B41.828116249999994%2C%2012.515148850378047%5D%2C%20%5B36.7014631%2C%20-118.755997%5D%2C%20%5B40.7127281%2C%20-74.0060152%5D%2C%20%5B19.1399952%2C%20-72.3570972%5D%2C%20%5B18.77858115%2C%20-70.5427697709766%5D%2C%20%5B46.1635975%2C%205.5710285%5D%2C%20%5B-24.7761086%2C%20134.755%5D%2C%20%5B-25.344857%2C%20131.0325171%5D%2C%20%5B-25.2410108%2C%20130.9869405%5D%2C%20%5B-19.8516101%2C%20133.2303375%5D%2C%20%5B-36.5986096%2C%20144.6780052%5D%2C%20%5B-22.1646782%2C%20144.5844903%5D%2C%20%5B43.1298726%2C%20-0.2000508%5D%2C%20%5B-20.2694109%2C%20148.718164%5D%2C%20%5B-27.4689682%2C%20153.0234991%5D%2C%20%5B-37.87437%2C%20146.91145036930226%5D%2C%20%5B39.7837304%2C%20-100.445882%5D%2C%20%5B42.6384261%2C%2012.674297%5D%2C%20%5B42.6292367%2C%2013.2891755%5D%2C%20%5B42.694141%2C%2013.247683%5D%2C%20%5B51.5073219%2C%20-0.1276474%5D%2C%20%5B-1.3397668%2C%20-79.3666965%5D%2C%20%5B-0.9739097%2C%20-80.60208476758544%5D%2C%20%5B-0.2201641%2C%20-78.5123274%5D%5D%3B%0A%20%20%20%20%20%20%20%20%20%20%20%20%20%20%20%20var%20cluster%20%3D%20L.markerClusterGroup%28%7B%7D%29%3B%0A%0A%20%20%20%20%20%20%20%20%20%20%20%20%20%20%20%20for%20%28var%20i%20%3D%200%3B%20i%20%3C%20data.length%3B%20i%2B%2B%29%20%7B%0A%20%20%20%20%20%20%20%20%20%20%20%20%20%20%20%20%20%20%20%20var%20row%20%3D%20data%5Bi%5D%3B%0A%20%20%20%20%20%20%20%20%20%20%20%20%20%20%20%20%20%20%20%20var%20marker%20%3D%20callback%28row%29%3B%0A%20%20%20%20%20%20%20%20%20%20%20%20%20%20%20%20%20%20%20%20marker.addTo%28cluster%29%3B%0A%20%20%20%20%20%20%20%20%20%20%20%20%20%20%20%20%7D%0A%0A%20%20%20%20%20%20%20%20%20%20%20%20%20%20%20%20cluster.addTo%28map_c4072694aa204b82bceaa285daa4563c%29%3B%0A%20%20%20%20%20%20%20%20%20%20%20%20%20%20%20%20return%20cluster%3B%0A%20%20%20%20%20%20%20%20%20%20%20%20%7D%29%28%29%3B%0A%20%20%20%20%20%20%20%20%0A%20%20%20%20%0A%20%20%20%20%20%20%20%20%20%20%20%20var%20layer_control_5c5ceb0e2b91417fbb282f5b477fa2c6%20%3D%20%7B%0A%20%20%20%20%20%20%20%20%20%20%20%20%20%20%20%20base_layers%20%3A%20%7B%0A%20%20%20%20%20%20%20%20%20%20%20%20%20%20%20%20%20%20%20%20%22cartodbdark_matter%22%20%3A%20tile_layer_f4a22bdbdafc4aa498cfd9342caab921%2C%0A%20%20%20%20%20%20%20%20%20%20%20%20%20%20%20%20%7D%2C%0A%20%20%20%20%20%20%20%20%20%20%20%20%20%20%20%20overlays%20%3A%20%20%7B%0A%20%20%20%20%20%20%20%20%20%20%20%20%20%20%20%20%20%20%20%20%22macro_element_c685ec1fc9c04368a881dbe90f9b72c2%22%20%3A%20fast_marker_cluster_c685ec1fc9c04368a881dbe90f9b72c2%2C%0A%20%20%20%20%20%20%20%20%20%20%20%20%20%20%20%20%7D%2C%0A%20%20%20%20%20%20%20%20%20%20%20%20%7D%3B%0A%20%20%20%20%20%20%20%20%20%20%20%20L.control.layers%28%0A%20%20%20%20%20%20%20%20%20%20%20%20%20%20%20%20layer_control_5c5ceb0e2b91417fbb282f5b477fa2c6.base_layers%2C%0A%20%20%20%20%20%20%20%20%20%20%20%20%20%20%20%20layer_control_5c5ceb0e2b91417fbb282f5b477fa2c6.overlays%2C%0A%20%20%20%20%20%20%20%20%20%20%20%20%20%20%20%20%7B%22autoZIndex%22%3A%20true%2C%20%22collapsed%22%3A%20true%2C%20%22position%22%3A%20%22topright%22%7D%0A%20%20%20%20%20%20%20%20%20%20%20%20%29.addTo%28map_c4072694aa204b82bceaa285daa4563c%29%3B%0A%20%20%20%20%20%20%20%20%0A%3C/script%3E onload=\"this.contentDocument.open();this.contentDocument.write(    decodeURIComponent(this.getAttribute('data-html')));this.contentDocument.close();\" allowfullscreen webkitallowfullscreen mozallowfullscreen></iframe></div></div>"
      ],
      "text/plain": [
       "<folium.folium.Map at 0x24a5d1dd640>"
      ]
     },
     "execution_count": 74,
     "metadata": {},
     "output_type": "execute_result"
    }
   ],
   "source": [
    "folium_map = get_location_map_from_df(df_location)\n",
    "folium_map"
   ]
  }
 ],
 "metadata": {
  "interpreter": {
   "hash": "877e635d77654b4bbaf40ac73f166c6702f150ac966450346b4e10ac33844dc6"
  },
  "kernelspec": {
   "display_name": "Python 3.9.7 64-bit",
   "language": "python",
   "name": "python3"
  },
  "language_info": {
   "codemirror_mode": {
    "name": "ipython",
    "version": 3
   },
   "file_extension": ".py",
   "mimetype": "text/x-python",
   "name": "python",
   "nbconvert_exporter": "python",
   "pygments_lexer": "ipython3",
   "version": "3.9.7"
  },
  "orig_nbformat": 4
 },
 "nbformat": 4,
 "nbformat_minor": 2
}
