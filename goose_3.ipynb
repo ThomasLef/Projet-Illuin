{
 "cells": [
  {
   "cell_type": "markdown",
   "id": "bfd12453-0f43-4c99-be9a-caa8b651559b",
   "metadata": {},
   "source": [
    "# Benchmark scraping - Goose 3"
   ]
  },
  {
   "cell_type": "code",
   "execution_count": 33,
   "id": "30d9d3df-b7a6-43ef-bb97-0c20ffb540e0",
   "metadata": {},
   "outputs": [],
   "source": [
    "#Imports\n",
    "from goose3 import Goose\n",
    "from goose3.configuration import Configuration\n",
    "from xml.etree import ElementTree"
   ]
  },
  {
   "cell_type": "code",
   "execution_count": 56,
   "id": "def673fa-c934-4360-b477-0bb11525b6ef",
   "metadata": {},
   "outputs": [
    {
     "data": {
      "text/plain": [
       "'https://en.wikipedia.org/wiki/Wildfires_in_2020'"
      ]
     },
     "execution_count": 56,
     "metadata": {},
     "output_type": "execute_result"
    }
   ],
   "source": [
    "#Sources de données \n",
    "\n",
    "'https://www.nbcnews.com/western-wildfires'\n",
    "'https://www.nifc.gov/fire-information/nfn'\n",
    "'https://wildfiretoday.com/recent-fires/'\n",
    "'https://www.hcn.org/issues/53.11/south-wildfire-hmong-americans-in-northern-california-fight-wildfire-and-distrust'\n",
    "'https://www.reddit.com/r/wildfires/'\n",
    "'https://en.wikipedia.org/wiki/Wildfires_in_2020'"
   ]
  },
  {
   "cell_type": "markdown",
   "id": "79dafd87-ee3b-47cc-8346-96c91b51d5df",
   "metadata": {},
   "source": [
    "## NBC Article"
   ]
  },
  {
   "cell_type": "code",
   "execution_count": 2,
   "id": "074fc924-345f-478f-b1d5-48028fc327d0",
   "metadata": {},
   "outputs": [
    {
     "name": "stdout",
     "output_type": "stream",
     "text": [
      "The Alisal Fire continued to wreak havoc on California's Central Coast, ballooning to more than 13,000 acres by Tuesday night with 5 percent containment, according to Santa Barbara County fire officials.\n",
      "\n",
      "Authorities had already shut down a major thoroughfare and ordered mandatory evacuations as powerful winds swept across the state and fueled the rapidly growing fire that erupted Monday afternoon in the Los Padres National Forest.\n",
      "\n",
      "U.S. Highway 101, which stretches from California through Washington state, remained closed Tuesday near Santa Barbara. High winds fueled the fire overnight, helping it to jump all four lanes of the highway and spread to Tajiguas Beach.\n",
      "\n",
      "Approximately 100 structures were threatened, federal officials said, which includes ranches and homes. Around 600 firefighting personnel were working to contain the blaze Tuesday, the U.S. Forest Service said.\n",
      "\n",
      "\"The fire is burning in dense chaparral and is being pushed by strong winds and growing at a rapid rate of speed,\" said a Los Padres National Forest incident report. Smoke was visible throughout southern Santa Barbara County.\n",
      "\n",
      "Dramatic video captured by NBC affiliate KSBY of San Luis Obispo showed towering flames burning toward U.S. Highway 101. Parks, beaches and campgrounds were evacuated as the fire quickly spread.\n",
      "\n",
      "As of Tuesday morning, evacuation orders were in effect for the Refugio Canyon and were expanded to include El Capitan State Beach and the El Capitan campground. More evacuation warnings were issued Tuesday afternoon, and officials warned people to be prepared to leave.\n",
      "\n",
      "The fire ignited Monday as a large swath of the state was under a red flag warning, indicating increased fire risk. A cause of the fire was unknown Tuesday afternoon.\n",
      "\n",
      "Power companies across the state shut off electricity in an effort to prevent new blazes from starting.\n",
      "\n",
      "Pacific Gas & Electric said that all its customers should get power restored by Tuesday night, but it said more winds that could arrive early Thursday could cause pre-emptive shutoffs to around 29,000 customers. The utility company said that could affect \"small, targeted portions of 19 counties\" and four tribes.\n",
      "\n",
      "Nearly 2.5 million acres have burned in California in 2021, making it one of the most explosive years on record, according to the California Department of Forestry and Fire Protection.\n",
      "\n",
      "Experts have attributed the state’s increasingly volatile wildfire seasons to climate change and decades of fire suppression policies that allowed the state’s wildlands to become dangerously overgrown.\n"
     ]
    }
   ],
   "source": [
    "g = Goose()\n",
    "article = g.extract(url='https://www.nbcnews.com/news/us-news/wildfire-closes-major-california-highway-prompts-evacuations-n1281298')\n",
    "print(article.cleaned_text)\n",
    "g.close()"
   ]
  },
  {
   "cell_type": "code",
   "execution_count": 8,
   "id": "6de8910b-242b-469b-a739-f0b59ef27460",
   "metadata": {},
   "outputs": [
    {
     "name": "stdout",
     "output_type": "stream",
     "text": [
      "Wed Oct 13 2021 01:52:00 GMT+0000 (UTC)\n"
     ]
    }
   ],
   "source": [
    "print(article.publish_date)"
   ]
  },
  {
   "cell_type": "code",
   "execution_count": 9,
   "id": "8595093c-3044-4494-9650-7add61702e12",
   "metadata": {},
   "outputs": [
    {
     "name": "stdout",
     "output_type": "stream",
     "text": [
      "\n"
     ]
    }
   ],
   "source": [
    "print(article.meta_keywords)"
   ]
  },
  {
   "cell_type": "code",
   "execution_count": 17,
   "id": "58422b06-5842-4a25-8670-95b1cbecdeb5",
   "metadata": {},
   "outputs": [
    {
     "name": "stdout",
     "output_type": "stream",
     "text": [
      "The effects of the wildfires in the West were seen and felt in much of the nation.\n"
     ]
    }
   ],
   "source": [
    "g = Goose()\n",
    "article = g.extract(url='https://www.nbcnews.com/western-wildfires')\n",
    "print(article.cleaned_text)\n",
    "g.close()"
   ]
  },
  {
   "cell_type": "code",
   "execution_count": 18,
   "id": "944227e6-3750-4a36-88e2-2dad740ecf96",
   "metadata": {},
   "outputs": [
    {
     "name": "stdout",
     "output_type": "stream",
     "text": [
      "['https://www.nbcnews.com/news/us-news/map-watch-july-s-wildfire-smoke-travel-across-country-n1275343']\n"
     ]
    }
   ],
   "source": [
    "print(article.links) #N'affiche pas vraiment tous les liens"
   ]
  },
  {
   "cell_type": "raw",
   "id": "0b6a6f4e-9134-4336-84e5-b49966f5a29d",
   "metadata": {},
   "source": [
    "Synthèse : Affiche très bien l'article quand on a l'url recherché, mais a du mal à trouver les liens des articles sur la page d'accueil"
   ]
  },
  {
   "cell_type": "markdown",
   "id": "7c3a1e8d-b387-48d6-8cf2-e9aa4d5f3cd2",
   "metadata": {},
   "source": [
    "## National Fire New (NIFC)"
   ]
  },
  {
   "cell_type": "code",
   "execution_count": 21,
   "id": "2cdb114a-1c4a-46a8-8d96-c77a4285d8d2",
   "metadata": {},
   "outputs": [
    {
     "name": "stdout",
     "output_type": "stream",
     "text": [
      "as of October 21, 2021 at 5 p.m. MDT (on a scale from 1 to 5) Current hours for the National Fire Information Center are\n",
      "\n",
      " (MST) 8:00 am - 4:30pm, Monday - Friday\n",
      "\n",
      " 208-387-5050 This report will be updated Monday - Friday.\n",
      "\n",
      " Please check the IMSR for more information.\n",
      "\n",
      "Wildfire activity was light this week, with three large fires burning in California and one in Montana. Two large fires were contained in Texas. Stay informed of current and predicted environmental conditions such as weather and drying vegetation. The November, December, and January wildland fire outlook by Predictive Services at the National Interagency Coordination Center are now available.\n",
      "\n",
      "Elevated to possibly locally critical fire weather conditions are forecast in portions of central/eastern Montana and on portions of the central/southern High Plains today through this weekend. Additionally, dry and breezy conditions on the High Plains remain possible at times next week. Much of the eastern US outside of Florida is expected to remain dry into next week, with rain chances returning to portions of the central and eastern US mid to late next week. Much of Florida is likely to receive moderate to heavy rainfall today. A wet pattern will continue for much of the Pacific Northwest and into northern California, the Northern Rockies, and the northern Great Basin. Mountain snow and valley rain are expected as multiple rounds of precipitation move into the region. However, much of the High Plains and Southwest are likely to remain dry.\n"
     ]
    }
   ],
   "source": [
    "g = Goose()\n",
    "article = g.extract(url='https://www.nifc.gov/fire-information/nfn')\n",
    "print(article.cleaned_text)\n",
    "g.close()"
   ]
  },
  {
   "cell_type": "code",
   "execution_count": 22,
   "id": "fd28dad6-351c-482e-bee1-4d381cd83e77",
   "metadata": {},
   "outputs": [
    {
     "data": {
      "text/plain": [
       "['/fire-information#current-level',\n",
       " 'https://www.nifc.gov/nicc/sitreprt.pdf',\n",
       " 'https://www.predictiveservices.nifc.gov/outlooks/outlooks.htm',\n",
       " '#California',\n",
       " '#Montana',\n",
       " 'https://inciweb.nwcg.gov/incident/7862/',\n",
       " '/nfn_data/2730/edit?destination=/fire-information/nfn',\n",
       " '/taxonomy/term/1025/edit?destination=/fire-information/nfn',\n",
       " 'https://inciweb.nwcg.gov/incident/7838/',\n",
       " '/nfn_data/2678/edit?destination=/fire-information/nfn',\n",
       " '/taxonomy/term/978/edit?destination=/fire-information/nfn',\n",
       " 'https://inciweb.nwcg.gov/incident/7841/',\n",
       " '/nfn_data/2669/edit?destination=/fire-information/nfn',\n",
       " '/taxonomy/term/1381/edit?destination=/fire-information/nfn',\n",
       " 'https://inciweb.nwcg.gov/incident/7859/',\n",
       " '/nfn_data/2721/edit?destination=/fire-information/nfn',\n",
       " '/taxonomy/term/3272/edit?destination=/fire-information/nfn',\n",
       " 'https://inciweb.nwcg.gov/incident/7880/',\n",
       " '/nfn_data/2755/edit?destination=/fire-information/nfn',\n",
       " '/taxonomy/term/4783/edit?destination=/fire-information/nfn',\n",
       " 'https://inciweb.nwcg.gov/incident/7882/',\n",
       " '/nfn_data/2760/edit?destination=/fire-information/nfn',\n",
       " '/taxonomy/term/4783/edit?destination=/fire-information/nfn']"
      ]
     },
     "execution_count": 22,
     "metadata": {},
     "output_type": "execute_result"
    }
   ],
   "source": [
    "article.links"
   ]
  },
  {
   "cell_type": "code",
   "execution_count": 31,
   "id": "a552f4a8-ae19-47e2-a620-470cf92b303a",
   "metadata": {},
   "outputs": [
    {
     "data": {
      "text/plain": [
       "[<Element article at 0x19a38da1d60>]"
      ]
     },
     "execution_count": 31,
     "metadata": {},
     "output_type": "execute_result"
    }
   ],
   "source": [
    "article.doc"
   ]
  },
  {
   "cell_type": "code",
   "execution_count": 32,
   "id": "bb82789d-869f-4cfb-aecb-b2825f1caf55",
   "metadata": {},
   "outputs": [
    {
     "name": "stdout",
     "output_type": "stream",
     "text": [
      "b'<?xml version=\\'1.0\\' encoding=\\'utf8\\'?>\\n<article data-history-node-id=\"301\" role=\"article\" about=\"/fire-information/nfn\" class=\"node node--type-nfn node--view-mode-full clearfix\" gravityScore=\"72\" gravityNodes=\"10\">\\n  <header>\\n    \\n        \\n      </header>\\n  <div class=\"node__content clearfix\" gravityScore=\"99\" gravityNodes=\"10\"><div class=\"clearfix text-formatted field field--name-field-header field--type-text-long field--label-hidden field__item\" gravityScore=\"92\" gravityNodes=\"3\"> \\n<p>as of October 21, 2021 at 5 p.m.\\xc2\\xa0MDT (on a scale from 1 to 5)</p>\\n<p>Current hours for the National Fire Information Center are\\\\n\\n(MST) 8:00 am - 4:30pm, Monday - Friday\\\\n\\n208-387-5050</p>\\n<p>This report will be updated Monday - Friday.\\\\n\\nPlease check the IMSR for more information.</p>\\n</div>\\n      \\n            <div class=\"clearfix text-formatted field field--name-field-narrative field--type-text-long field--label-hidden field__item\" gravityScore=\"40\" gravityNodes=\"2\"> \\n\\n<p>Wildfire activity was light this week, with three large fires burning in California and one in Montana. Two large fires were contained in Texas.</p>\\n\\n<p>Stay informed of current and predicted environmental conditions such as weather and drying vegetation.\\xc2\\xa0The November, December, and January wildland fire outlook\\xc2\\xa0by Predictive Services at the National Interagency Coordination Center are now available.</p>\\n\\n</div>\\n      \\n  <div class=\"clearfix text-formatted field field--name-field-weather field--type-text-long field--label-above\" gravityScore=\"27\" gravityNodes=\"1\"> \\n              <div class=\"field__item\" gravityScore=\"38\" gravityNodes=\"1\"><div id=\"weather\" gravityScore=\"64\" gravityNodes=\"1\"><p>Elevated to possibly locally critical fire weather conditions are forecast in portions of central/eastern Montana and on portions of the central/southern High Plains today through this weekend. Additionally, dry and breezy conditions on the High Plains remain possible at times next week. Much of the eastern US outside of Florida is expected to remain dry into next week, with rain chances returning to portions of the central and eastern US mid to late next week. Much of Florida is likely to receive moderate to heavy rainfall today. A wet pattern will continue for much of the Pacific Northwest and into northern California, the Northern Rockies, and the northern Great Basin. Mountain snow and valley rain are expected as multiple rounds of precipitation move into the region. However, much of the High Plains and Southwest are likely to remain dry.\\xc2\\xa0</p>\\n</div>\\n</div>\\n          </div>\\n\\n   \\n\\n   \\n\\n   \\n\\n  </div>\\n</article>\\n\\n    '\n"
     ]
    }
   ],
   "source": [
    "print(ElementTree.tostring(article.doc[0], encoding='utf8', method='xml'))"
   ]
  },
  {
   "cell_type": "code",
   "execution_count": 26,
   "id": "ba177149-abb6-41bf-820e-a0351957946e",
   "metadata": {},
   "outputs": [
    {
     "data": {
      "text/plain": [
       "{}"
      ]
     },
     "execution_count": 26,
     "metadata": {},
     "output_type": "execute_result"
    }
   ],
   "source": [
    "article.opengraph"
   ]
  },
  {
   "cell_type": "raw",
   "id": "401f6c85-8b31-40d3-bda9-4407aaee6eed",
   "metadata": {},
   "source": [
    "Synthèse : Pas adapté pour retrouver les données d'un tableau "
   ]
  },
  {
   "cell_type": "markdown",
   "id": "b475d9f8-f53e-493e-b11c-4dc159d01928",
   "metadata": {},
   "source": [
    "## Wildfire today"
   ]
  },
  {
   "cell_type": "code",
   "execution_count": 35,
   "id": "fcb346cc-1779-4af4-95cb-875b55057a7b",
   "metadata": {},
   "outputs": [
    {
     "name": "stdout",
     "output_type": "stream",
     "text": [
      "Giant sequoia trees can live for up to 3,000 years, but in 2020, 10 to 14 percent of all giant sequoias in the Sierra Nevada that were at least four feet diameter were killed in the Castle Fire in the Sequoia National Forest. When post-fire surveys of the 2021 fires are complete that number will probably increase substantially. It will be many months before detailed surveys are complete, but the sequoia mortality can be estimated from how severely the fire burned.\n",
      "\n",
      "The lightning-caused 97,528-acre Windy Fire just south of the Castle Fire (see map above) burned into eleven giant sequoia groves in September and October, 2021. The Forest Service is working to determine the impacts of the fire in the groves managed by the Forest Service. The agency said on November 2 that initial assessments based on observations by resource advisors and burn severity analysis indicate the fire killed hundreds of giant sequoias. Many more were heavily torched and may or may not survive.\n",
      "\n",
      "A report released June 25, 2021 about the 2020 Castle Fire found that areas which burned with high intensity killed many giant sequoias. The data showed 97.3 percent mortality of the trees in high fire severity areas, and 55.1 percent in moderate severity locations.\n",
      "\n",
      "Preliminary fire severity data is now available for a portion of one of the two 2021 fires that burned through groves of giant sequoias, in this case, Giant Sequoia National Monument in the Windy Fire.\n",
      "\n",
      "Using the fire severity data for the portion of the Windy Fire in Giant Sequoia National Monument, if there was only one giant sequoia per acre before the fire, approximately 1,142 were likely killed. However, there were probably far more than one per acre.\n",
      "\n",
      "While numerous fires were burning in 2021 in California there was a shortage of firefighters due to unfilled positions in the US Forest Service, COVID-19 restrictions keeping some on the sidelines, and competition for resources among the fires. The limited numbers that were available worked on suppressing the spread of the fires, and on the Windy and KNP Complex they also took actions to protect the huge sequoias as personnel were available.\n",
      "\n",
      "In some areas, they constructed firelines surrounding a grove or individual groups of trees, set up sprinkler systems, and removed ladder fuels from around individual trees in advance of the fire. After the fire burned through, additional efforts were made to further reduce the fire’s impact on giant sequoia trees by extinguishing hot spots in and around the trees, again, as personnel were available.\n",
      "\n",
      "The US Forest Service said that from initial observations, it was apparent that giant sequoia trees treated before the Windy Fire swept through were more likely to survive. Those with duff and woody debris scraped away from their trunks, especially near burn marks, were less susceptible in most cases. In the Starvation Complex grove, four out of six giant sequoia trees treated before the fire reached them, survived. An estimated 116 trees not accessible before the fire, were killed. Similar conditions were found in the Long Meadow Grove, where more than a decade of fuels reduction efforts helped save the giant sequoia trees along the Trail of 100 Giants.\n",
      "\n",
      "“Within the high severity burned areas, most of the giant sequoias were burned and killed,” said Forest Ecosystem Manager Gretchen Fitzgerald. “In moderate severity areas, some giant sequoias may survive while those in low severity burned areas are likely to survive the Windy Fire.”\n",
      "\n",
      "The Sequoia National Forest will be partnering with researchers and local experts to monitor the groves and determine the impacts of the Windy and Castle Fires over the next year.\n",
      "\n",
      "“Recent fires highlight the need for restoration in the giant sequoia groves,” stated Forest Supervisor Teresa Benson. “By reducing fuels through prescribed burning and other density-reduction treatments, the likelihood of future large, high-severity fires can be reduced. The Giant Sequoia National Monument Management Plan requires protection, preservation, and restoration of giant sequoias through management activities. We will continue to work with our partners, Tule River Indian Reservation, National Park Service, Save the Redwoods League, and CAL FIRE on best management practices to protect and restore our giant sequoia groves.”\n"
     ]
    }
   ],
   "source": [
    "g = Goose()\n",
    "article = g.extract(url='https://wildfiretoday.com/recent-fires/')\n",
    "print(article.cleaned_text)\n",
    "g.close()"
   ]
  },
  {
   "cell_type": "code",
   "execution_count": 37,
   "id": "3b8ba151-6b2b-4a97-a2ad-f7319066f957",
   "metadata": {},
   "outputs": [
    {
     "data": {
      "text/plain": [
       "'Recent Fires'"
      ]
     },
     "execution_count": 37,
     "metadata": {},
     "output_type": "execute_result"
    }
   ],
   "source": [
    "article.title"
   ]
  },
  {
   "cell_type": "code",
   "execution_count": 38,
   "id": "cc308536-3376-4a8c-8d4d-b5d618c35e6e",
   "metadata": {},
   "outputs": [
    {
     "data": {
      "text/plain": [
       "['https://www.nps.gov/articles/000/preliminary-estimates-of-sequoia-mortality-in-the-2020-castle-fire.htm',\n",
       " 'https://wildfiretoday.com/contact-us/',\n",
       " 'https://wildfiretoday.com/2009/02/13/comments-we-love-comments-but-here-are-the-rules/',\n",
       " 'https://twitter.com/share']"
      ]
     },
     "execution_count": 38,
     "metadata": {},
     "output_type": "execute_result"
    }
   ],
   "source": [
    "article.links"
   ]
  },
  {
   "cell_type": "code",
   "execution_count": 39,
   "id": "80f2ec3c-f002-4e7e-b7e6-e1a79141726e",
   "metadata": {},
   "outputs": [
    {
     "name": "stdout",
     "output_type": "stream",
     "text": [
      "The report released Friday about the burnover of three firefighters on the Bridger Foothills Fire is jaw-dropping — and not only because there were three firefighters with only two fire shelters to protect them as the flames swept over. It is a well written and thorough report but lists few lessons to be learned, leaving it up to us to read between the lines.\n",
      "\n",
      "The incident occurred about three miles northeast of Bozeman, Montana on September 5, 2020 when there were 115 active large wildfires burning in the United States which at that time had consumed 3,000,000 acres. Over 22,550 wildland firefighters and forestry technicians were committed across the nation. The August Complex of fires in Northern California had burned 305,000 acres which would be less than one third of its total size when it finally slowed down in the Fall after blackening over one million acres. In August and September there was a serious shortage of personnel to staff the fires. Few if any areas had an adequate number of firefighting resources to initial attack new fires or contain those that had been growing for weeks.\n",
      "\n",
      "The initial attack on the Bridger Foothills Fire on September 4 included four smokejumpers, “several engines,” plus helicopters and air tankers. According to statistics on the national Situation Report at the end of the day on September 5, the second day of the fire, there were a total of 99 personnel on the fire. Five structures had been confirmed as destroyed and it was on its way to ultimately burning 28 homes and growing to 8,224 acres.\n",
      "\n",
      "The 37-page report can’t be fairly summarized in a few paragraphs here. I suggest you check it out yourself, then leave a comment below with your impressions.\n",
      "\n",
      "But briefly, three members of a Montana state helitack crew attacked the fire on September 4, spent the night on the fire, then during the afternoon of the next day were overrun by the fire in the meadow that served as their helispot. They attempted to set an “escape fire”, as used on the Mann Gulch Fire in 1949, to burn off the grass and sage before the fire reached them, but the grass was too green to easily ignite. As the fire approached them two men deployed their aluminized and insulated fire shelters designed to reflect radiant heat, but the third had failed to replace the shelter in his pack he had removed days earlier to lighten his load while on physical training hikes. Two of the men, both large individuals, crammed into one shelter that was made to accommodate one person. The three of them only suffered fairly minor injuries and walked away to a point where they could be transported to a hospital.\n",
      "\n",
      "Looking back with 20/20 hindsight, there were many things that contributed to the entrapment. If only one of them had occurred, the three helitack crewmen probably would not have been burned over. But the cumulative effect of numerous issues led to this near-fatal event.\n",
      "\n",
      "Firefighters are familiar with the Swiss Cheese Model of Accident Causation.\n",
      "\n",
      "The New York Times published on December 5 a version of the model adapted for the current pandemic:\n",
      "\n",
      "Many of our readers could study the report and substitute events that happened on the Bridger Foothills Fire for the layers in the Swiss Cheese Model.\n",
      "\n",
      "Let us know in a comment below what you’re thinking. I’ll get it started with a few:\n",
      "• Very few firefighting resources initially attacked the fire.\n",
      "• Communication issues were mentioned many times in the report. Almost every very serious incident within an incident has communication problems.\n",
      "• Air tankers dropped retardant on the west side of the fire but not the east side that day. A person who was on the fire told Wildfire Today that if retardant had been applied to secure the east side it may have prevented the blowup. With the national fire situation at the time, air tankers may not have been available to continue dropping retardant that afternoon. (Would it have made a difference if the air tanker base 73 air miles away at West Yellowstone had not recently been closed and converted to a call when needed base?)\n",
      "• At times there was confusion about the location of the three entrapped firefighters. If a safety officer or Division Supervisor had known the exact location of the firefighters and the real time location of the fire, it may have made a difference — there might have been enough time to extract them by helicopter before the smoke and the flaming front made it impossible. THIS RECURRING ISSUE COULD BE SOLVED WITH OFF THE SHELF LOCATION TRACKING SYSTEMS for personnel and the fire! Federal and state wildfire organizations need to make this an urgent priority! This is a life-safety issue and the tools should have been deployed years ago by the federal and state agencies. Funding is not an acceptable excuse. Neither is apathy. Dig deep to find the motivation and the money.\n",
      "\n",
      "Below is the section of the report that describes the deployment itself, but does not include what led up to it. The names have been changed.\n",
      "\n",
      "The Deployment\n",
      "\n",
      " “What do you mean you don’t have your shelter?”\n",
      "\n",
      "Charlie frantically worked to light off the sage with his fusee. Hands shaking, the sage was lighting better than the grass had before. But it didn’t matter – there was no more time to burn – the fire was coming up fast on him and his crew from both the south and the east.\n",
      "\n",
      "Charlie turned around to his crewmembers and noticed that one of them, Sam, was already in his shelter. The spot fire that had cut-off their last possible escape route was now well established on the slope below them, and the trees were crowning out with flame lengths of over 100 feet. The wind was blowing so hard that his helmet went flying off his head. Next thing Charlie realized, he was back at the small oval that they had cleared of ground fuels, looking down on his other crewmember Casey, who was laying in the fetal position with his chaps slung over his back and gear bags piled up around him.\n",
      "\n",
      "“Get in your f**king shelter!” Charlie screamed to Casey.\n",
      "\n",
      "“I don’t have it – share with me!” Casey shouted back.\n",
      "\n",
      "“What do you mean you don’t have your shelter?! Did it blow away?!”\n",
      "\n",
      "It hadn’t blown away, although that would have been easy in the “hurricane-like” winds that were whipping across the hillside in all directions. Casey had taken it out of his pack a few weeks earlier for PT hikes, and never put it back in.\n",
      "\n",
      "But ultimately, why the shelter wasn’t on the hill did not matter. At this moment, Charlie realized how dire of a situation they were in. Casey was roughly 6’2” and weighed in at around 225 lbs, and Charlie was around 6’ and 190 lbs. And if they were both going to survive this flame front, they would have to squeeze into his one shelter as best as they could.\n",
      "\n",
      "They could both feel the heat now, and the fire was “cooking.” Charlie ripped out his shelter and struggled to open it. Unlike Sam’s shelter, which Sam later described as “shaking out just like a practice shelter, [or] better,” opening Charlie’s shelter felt like trying to open a ball of tin foil. With Charlie and Casey each pulling at it, they fought to get it open, and valuable moments were lost as they furiously tried to shake it out. The moment they opened the shelter, Casey and Charlie locked eyes, then glanced up at the flames towering above them before they dropped to the ground. The updraft winds at that point were so strong, they had to fight to reach the dirt.\n",
      "\n",
      "The last-minute nature of their deployment meant that neither Casey nor Charlie were completely in the shelter. Casey had dropped to get his head facing to the north and lined up with the hole he had dug and filled with water, with his legs largely sticking out of the shelter. Charlie was facing nearly the opposite direction, in a crouching position. In this arrangement, neither firefighter could get a seal on the shelter, and embers were blowing in just as fast as Charlie could sweep them out. Casey screamed over the radio that they had deployed, a transmission that was copied by air attack. Charlie then took the radio and remembers transmitting that there were three of them who had deployed, with only two shelters. Air attack, who confirmed that three people had deployed, did not recall hearing that there were only two shelters.\n",
      "\n",
      "Charlie later described how, in their initial arrangement, “I couldn’t take it anymore, I couldn’t get air, and it felt like I was in a microwave.” In this moment of desperation, Charlie stood up, thinking nothing could be worse than being crammed into the shelter, in the heat, without any way to breathe. Charlie immediately realized how much worse it could get with the fire burning all around and was forced to dive back into the shelter. This time, Charlie was shoulder to shoulder with Casey, which allowed them to get a slightly better seal.\n",
      "\n",
      "The experience, however, was still far from comfortable. Unable to breathe and battling through the extreme heat, Charlie “was certain we were gonna die. [I thought] every second was our last second.” Casey described the sensation of trying to breathe as like “if anyone has ever been cleaning around you and it’s extremely potent – it’s like that but it’s on fire.” To try to alleviate the heat, he began splashing plastic water bottles on himself and Charlie, squeezing 4-5 bottles out along their backs.\n",
      "\n",
      "Sam was equally certain that they were not going to survive. “100%, I thought we were dead. No doubt … I couldn’t breathe.” To try to get a breath, he wet down his shirt and started digging a hole into the ground. Although opening the shelter had been easy, Sam struggled in the wind to create a strong seal. For the fifteen or so minutes that Sam remained in the shelter, he was absolutely terrified for his life.\n",
      "\n",
      "Casey and Charlie emerged from their shared shelter around 8 minutes after they first got in, after the initial flame front had passed. Their surroundings, however, still resembled a hellscape. Casey’s line gear, which he had been unable to throw very far away from the deployment site, was on fire and burning Charlie’s leg, so Charlie kicked it farther away. Outside of the circle, the cans of bug spray and sunscreen in the bag exploded. Combined with the combustion from the remaining fusees, the explosions caused the gear to burn down to nothing.\n",
      "\n",
      "Even without the flames, the heat, smoke, and winds were still so intense that Charlie and Casey reentered the shelter, where they remained for another eight or so minutes, getting continuously hammered by the wind. Eventually, while getting oxygen was still nearly impossible, it became clear that they were going to be miserable whether they were in the shelter or out. Knowing that everything was nuked around them, and the worst of the heat had passed, they emerged from the shelter again. But the beating afflicted by the fire was still far from over.\n"
     ]
    }
   ],
   "source": [
    "g = Goose()\n",
    "article = g.extract(url='https://wildfiretoday.com/tag/report/')\n",
    "print(article.cleaned_text)\n",
    "g.close()"
   ]
  },
  {
   "cell_type": "code",
   "execution_count": 40,
   "id": "2c0509f7-a31f-49ee-aad6-980837bd1dff",
   "metadata": {},
   "outputs": [
    {
     "data": {
      "text/plain": [
       "['https://wildfiretoday.com/wp-content/uploads/2020/12/From-the-Facilitated-Learning-Analysis.jpg',\n",
       " 'https://wildfiretoday.com/documents/Bridger_Foothills_Fire_burnover_FLA.pdf',\n",
       " 'https://www.predictiveservices.nifc.gov/IMSR/2020/20200905IMSR.pdf',\n",
       " 'https://wildfiretoday.com/documents/Bridger_Foothills_Fire_burnover_FLA.pdf',\n",
       " 'https://wildfiretoday.com/documents/AnalysisDodgeEscapeFireon1949MannGulchFireSurvivalZone.pdf',\n",
       " 'https://wildfiretoday.com/wp-content/uploads/2013/12/Swiss-Cheese-model.jpg',\n",
       " 'https://wildfiretoday.com/wp-content/uploads/2020/12/From-New-York-Times.jpg',\n",
       " 'https://wildfiretoday.com/tag/bridger-foothills-fire/',\n",
       " 'https://wildfiretoday.com/wp-content/uploads/2020/12/Post-deployment.jpg',\n",
       " 'https://wildfiretoday.com/wp-content/uploads/2020/12/Notes-on-fire-shelter-use.jpg',\n",
       " 'https://twitter.com/share']"
      ]
     },
     "execution_count": 40,
     "metadata": {},
     "output_type": "execute_result"
    }
   ],
   "source": [
    "article.links"
   ]
  },
  {
   "cell_type": "raw",
   "id": "b87ca9d9-11e2-4128-8992-8b2250b5e4c4",
   "metadata": {},
   "source": [
    "Synthèse : Efficace pour extraire le texte d'un article précis mais non adapté pour identifier les liens des articles depuis la page d'accueil"
   ]
  },
  {
   "cell_type": "markdown",
   "id": "75b7a793-79ef-4d4a-ad1d-d922f88981a0",
   "metadata": {},
   "source": [
    "## High Country news"
   ]
  },
  {
   "cell_type": "code",
   "execution_count": 57,
   "id": "b2fd08d7-11d4-4e53-8b05-73a1cb9053ee",
   "metadata": {},
   "outputs": [
    {
     "name": "stdout",
     "output_type": "stream",
     "text": [
      "In late June, lightning struck the western slope of Mount Shasta, a volcano in Northern California, igniting the Lava Fire. Four days later, gusting winds sent flames billowing towards the unincorporated community of Shasta Vista, where over 3,000 residents, predominantly Hmong Americans, live. One resident, Neng Thong, who bought property there a year earlier, joined with 30 others to form a firefighting force. The community saw no choice; people no longer trusted the county or state to protect them. A seven-year crackdown on cannabis farming had eroded what little trust existed between the Hmong American community and county leaders. Thong believed the county would simply use the fire as an opportunity to clear the area. Others thought the county would implicitly approve the destruction of their property. Recently, vigilantes who’d fulminated against the subdivision on the sheriff’s Facebook page openly mentioned arson, with one user wondering whether it would be legal to start a fire. Sheriff Jeremiah LaRue, in a recent interview, brushed off the exchange, saying that the vitriol is “just kind of the way Facebook is.”\n",
      "\n",
      "“They announced that they’re going to burn our town down,” Thong told me a month later, showing me a screenshot of the comment. “We wanted to save our property. If we hadn’t stayed, the entire area would’ve burned.”\n",
      "\n",
      "On the day of the fire, flames hurtled downhill as the group assembled water trucks along the edge of the subdivision, forming an ad hoc defense. Ill-equipped and putting their lives on the line, they planned to communicate via cellphone and dispatch trucks to vulnerable areas. “We did not believe they were going to come and rescue us or put out the fire,” said Zeng Lee, who ran a water truck as he fought the fire alongside Thong. “That’s why I decided to stay.”\n",
      "\n",
      "Sheriff LaRue, aware of the residents’ distrust, worried that they wouldn’t evacuate. He sent officers to spread a mandatory evacuation order. Sgt. Cory Persing confronted Thong that Monday, stepping out of his patrol car as dust and smoke whipped by, according to video footage obtained by High Country News. “This is a mandatory evacuation,” Persing said. “Is there anything in there worth dying for?”\n",
      "\n",
      "“We know,” Thong said as Persing approached. There were flames on the horizon, and others had already left with their water trucks, fearing arrest. “When the wind shifts on us and it comes through here,” Persing said, “you’re not going to be able to survive it.” Thong held his phone to his chest, filming.\n",
      "\n",
      "For four long days, Thong and Lee fought the fire with roughly a dozen others. They couldn’t protect everything; according to the Siskiyou Community Development department, nearly 10% of the subdivision burned. According to eyewitnesses interviewed by HCN as well as affidavits filed in court, firefighters from the California Department of Forestry and Fire Protection, or Cal Fire, were slow to respond. LaRue maintains that engines tried to enter the subdivision but were delayed because Shasta Vista residents blocked the roads with their cars. Later, Thong and the others learned that one resident, Soobleej Kaub Hawj, was shot and killed by four law enforcement officers as he tried to evacuate. According to the Siskiyou County Sheriff’s Office, Hawj brandished a gun while trying to bypass a roadblock.\n",
      "\n",
      "Thong and the others didn’t believe that Persing was there to help them; they thought he was there to prevent them from protecting their property. “We did not block the road,” Thong told me, retracing his steps that day. “We have never done anything to them. Nothing at all.” At press time, despite numerous interview requests and a public records request, HCN had yet to receive any comment from Cal Fire.\n",
      "\n",
      "All this tension speaks to a dynamic that goes back years. With few friends in public office and a sense that county officials and community members regard them as organized criminals, the Hmong Americans harbor a deep suspicion of the sheriff’s office and the Siskiyou County Board of Supervisors.\n",
      "\n",
      "AROUND 2015, Hmong Americans started moving to Siskiyou County, according to a 2019 study by researchers Margiana Petersen-Rockney and Michael Polson for the Cannabis Research Center at the University of California, Berkeley. In the 1960s, the Hmong were recruited to fight during the CIA’s “Secret War” in Laos; the vanguard of many Mien, Cambodian, Laotian, Chinese and other ethnic Americans and migrants, many of the early Shasta Vista arrivals were older refugees who originally immigrated to the U.S. in the late 1970s, following the Vietnam War. As they aged, some retired from cities to the countryside. The Shasta Vista subdivision seemed ideal: cheap, contiguous plots available for close-knit friends and family, where they could plant subsistence gardens, raise animals and grow cannabis.\n",
      "\n",
      "Some started farming at a commercial scale and became the immediate focus of local politics: To the majority-white county, cannabis, and its cultivators, signified a visible, rapid economic and demographic shift, Petersen-Rockney said. 2017 estimates from the U.S. Department of Agriculture and the Siskiyou Sheriff’s Office show twice as many cannabis farmers as non-cannabis farmer. Now, thousands of greenhouses dot the valley.\n",
      "\n",
      "Early on, the sheriff’s office tied the cannabis “problem” — according to former Sheriff Jon Lopey — to the subdivision, denouncing it as a threat to “our quality of life and the health and safety of our children and grandchildren.” Others voiced their concern at town halls, and this spring a county supervisor called the industry a “virus.” LaRue, over the phone, condemned the crime and profit-seeking, noting he’d heard the farms described using terms like invasion, virus or cancer. “For me,” he said, “this issue is mainly about greed.”\n",
      "\n",
      "The Siskiyou County Board of Supervisors, which is responsible for local cannabis regulation, began criminalizing commercial activity in 2015. In 2017, it declared a state of emergency and passed a moratorium on commercial cannabis activities, both medical and recreational. Nearly all the Shasta Vista farmers found themselves in immediate non-compliance.\n",
      "\n",
      "Since farming cannabis commercially remains a criminal act, unregulated infrastructure proliferates. Generators have caused carbon monoxide poisoning, and unlined septic systems threaten public health. “It's very detrimental environmentally,” Rick Dean, director of Siskiyou County’s Community Development Department, told me over the phone in July.\n",
      "\n",
      "Nearby ranchers supplied water to the growers until the county banned such transactions in May — a policy that was contested in a civil rights lawsuit and recently blocked. According to the sheriff’s office, delivering goods and services to the area, including water, was considered “aiding and abetting” illegal activity.\n",
      "\n",
      "Shasta Vista residents feel like they’re being forced out. Thong, for example, sees himself as pursuing an American ideal. “In the old days, everybody bought lands for a couple dollars,” he told me. Many landowners invested in livestock, Thong said, so why would the county think his family was only there to grow cannabis? “We are poor, so we have to start somewhere,” he said. “It’s land, you know.”\n",
      "\n",
      "Compliance with the ordinance has been an issue; in an interview this summer, Dean said that just 5% of the Shasta Vista lots were obeying it. “When we have such a large scale of people ignoring basic laws, we need to figure out how to enforce it somehow.”\n",
      "\n",
      "That’s how the sheriff’s office became involved, resulting in what Petersen-Rockney, the cannabis researcher, calls a blurring of civic violations and criminal law. “The county created these conditions. From the beginning, no one could comply,” she said. In 2016, the sheriff’s office formed an interagency task force specifically for cannabis, and within a month of its creation, it issued 25 abatement notices and filed 20 criminal charges. Later, the emergency declaration enabled the county to enlist state agencies and expanded the sheriff’s capacity to police the area.\n",
      "\n",
      "The Hmong American families shouldered the impact of the heavy police presence. Many say they were pulled over in traffic stops — the result, they felt, of racial profiling. The conflict continues to create political polarization. Recently, LaRue recruited “volunteers” from a so-called “Patriots’ group” to bulldoze cannabis farms. Congressman Doug LaMalfa, R-Calif., before driving a tractor into a greenhouse, proclaimed, “I love the smell of diesel power in the afternoon. It smells like victory,” a direct reference to the 1979 Vietnam War movie Apocalypse Now. State of Jefferson Outdoors, a hunting outfitting company, later sold T-shirts emblazoned with a tractor and the slogan: “Bulldozers and Badges … Support our Sheriff.”\n",
      "\n",
      "Today, the conflict remains in a damaging feedback loop: The more the ordinance is enforced, the bigger the problem appears, even though little is being done to address noncompliance, environmental concerns and public health. Hekia Bodwitch, a postdoctoral researcher in environmental policy and community development at UC Berkeley, said the situation was counterproductive. “Actually, bringing people into compliance and making compliance easier for people will probably have better outcomes.”\n",
      "\n",
      "Za Xiao Moua, an elder who has advocated for Hmong American veterans in the United States for years, bought property in Shasta Vista in 2017. His family runs a small farm with goats, ducks and a single cow outside the subdivision. Moua echoes the frustration with the current impasse. “We are not here to do anything to damage the community,” he said. “We wish we can get engaged in the community and better understand each other — make this a better place to live. We need the entire community to understand who we are. We are good people. We can enjoy our freedom here.”\n",
      "\n",
      "Theo Whitcomb is an editorial intern at High Country News. We welcome reader letters. Email him at [email protected] or submit a letter to the editor. See our letters to the editor policy.\n"
     ]
    }
   ],
   "source": [
    "g = Goose({'strict' : False, 'pretty_lists' : False})\n",
    "article = g.extract(url='https://www.hcn.org/issues/53.11/south-wildfire-hmong-americans-in-northern-california-fight-wildfire-and-distrust')\n",
    "print(article.cleaned_text)\n",
    "g.close()"
   ]
  },
  {
   "cell_type": "code",
   "execution_count": 58,
   "id": "6a482b89-79f3-4870-a6ea-ba6e3daefee2",
   "metadata": {},
   "outputs": [
    {
     "name": "stdout",
     "output_type": "stream",
     "text": [
      "A bid to benefit agribusiness has stalled again, leaving the Hoopa Valley Tribe hopeful that the next contract follows the law.\n"
     ]
    }
   ],
   "source": [
    "g = Goose({'strict' : False, 'pretty_lists' : False})\n",
    "article = g.extract(url='https://www.hcn.org/search?SearchableText=wildfire')\n",
    "print(article.cleaned_text)\n",
    "g.close()"
   ]
  },
  {
   "cell_type": "code",
   "execution_count": 59,
   "id": "9d0d4a9f-85fd-424b-ae47-8371bdbab54a",
   "metadata": {},
   "outputs": [
    {
     "data": {
      "text/plain": [
       "[]"
      ]
     },
     "execution_count": 59,
     "metadata": {},
     "output_type": "execute_result"
    }
   ],
   "source": [
    "article.links"
   ]
  },
  {
   "cell_type": "raw",
   "id": "a299f149-8c12-47df-ae8b-8f2f524bae8d",
   "metadata": {},
   "source": [
    "Même constat que NBC "
   ]
  },
  {
   "cell_type": "markdown",
   "id": "c2fb42fc-871e-4a8d-b59e-4e9096cc25d1",
   "metadata": {},
   "source": [
    "## Reddit wildfire"
   ]
  },
  {
   "cell_type": "code",
   "execution_count": 53,
   "id": "0aaba833-c869-442c-b84d-629a7d7e57e1",
   "metadata": {},
   "outputs": [
    {
     "name": "stdout",
     "output_type": "stream",
     "text": [
      "Hmong Americans in Northern California fight wildfire — and distrust: Wary of local authorities, a community forms an ad-hoc firefighting force to defend its property.\n"
     ]
    }
   ],
   "source": [
    "g = Goose({'strict' : False, 'pretty_lists' : False})\n",
    "article = g.extract(url='https://www.reddit.com/r/wildfires/')\n",
    "print(article.cleaned_text)\n",
    "g.close()"
   ]
  },
  {
   "cell_type": "code",
   "execution_count": 44,
   "id": "a02e4095-4759-412b-8c2f-64c10fed087c",
   "metadata": {},
   "outputs": [
    {
     "data": {
      "text/plain": [
       "[]"
      ]
     },
     "execution_count": 44,
     "metadata": {},
     "output_type": "execute_result"
    }
   ],
   "source": [
    "article.links"
   ]
  },
  {
   "cell_type": "markdown",
   "id": "69c28b99-f6ee-4a9c-82cb-82a2f1ee17a4",
   "metadata": {},
   "source": [
    "Synthèse : Non adapté pour reddit"
   ]
  },
  {
   "cell_type": "markdown",
   "id": "3138bb33-d575-4f75-ab8e-1ce0117fc953",
   "metadata": {},
   "source": [
    "## Wikipedia"
   ]
  },
  {
   "cell_type": "code",
   "execution_count": 54,
   "id": "09b21bc6-00a9-4cdf-973d-c2721df9cd8e",
   "metadata": {},
   "outputs": [
    {
     "name": "stdout",
     "output_type": "stream",
     "text": [
      "Fires are releasing record levels of carbon dioxide, partly because they are burning ancient peatlands that have been a carbon sink. A study published last month shows that northern peatlands could eventually shift from being a net sink for carbon to a net source of carbon, further accelerating climate change.\n",
      "\n",
      " The unprecedented Arctic wildfires of 2019 and 2020 show that transformational shifts are already under way, says Thomas Smith, an environmental geographer at the London School of Economics and Political Science. \"Alarming is the right term.\"[2]\n"
     ]
    }
   ],
   "source": [
    "g = Goose({'strict' : False, 'pretty_lists' : False})\n",
    "article = g.extract(url='https://en.wikipedia.org/wiki/Wildfires_in_2020')\n",
    "print(article.cleaned_text)\n",
    "g.close()"
   ]
  },
  {
   "cell_type": "code",
   "execution_count": 55,
   "id": "8f70c64a-b09d-42f7-8aa7-fa596bd4065b",
   "metadata": {},
   "outputs": [
    {
     "data": {
      "text/plain": [
       "['/wiki/Carbon_sink', '#cite_note-nature-2']"
      ]
     },
     "execution_count": 55,
     "metadata": {},
     "output_type": "execute_result"
    }
   ],
   "source": [
    "article.links"
   ]
  },
  {
   "cell_type": "code",
   "execution_count": null,
   "id": "7e958269-a37f-47c2-b1ab-49d5c11123c9",
   "metadata": {},
   "outputs": [],
   "source": [
    "Synthèse : Non adapté pour wikipedia"
   ]
  }
 ],
 "metadata": {
  "kernelspec": {
   "display_name": "Python 3",
   "language": "python",
   "name": "python3"
  },
  "language_info": {
   "codemirror_mode": {
    "name": "ipython",
    "version": 3
   },
   "file_extension": ".py",
   "mimetype": "text/x-python",
   "name": "python",
   "nbconvert_exporter": "python",
   "pygments_lexer": "ipython3",
   "version": "3.8.8"
  }
 },
 "nbformat": 4,
 "nbformat_minor": 5
}
