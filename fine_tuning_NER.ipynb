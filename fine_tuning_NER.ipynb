{
 "cells": [
  {
   "cell_type": "code",
   "execution_count": 1,
   "metadata": {},
   "outputs": [],
   "source": [
    "import spacy\n",
    "import random\n",
    "from spacy.util import minibatch, compounding\n",
    "from spacy.training.example import Example\n",
    "from JSON_converter import extraction_json"
   ]
  },
  {
   "cell_type": "code",
   "execution_count": 2,
   "metadata": {},
   "outputs": [],
   "source": [
    "#Loading the model\n",
    "nlp=spacy.load('en_core_web_sm')\n",
    "\n",
    "\n",
    "#Getting the existing pipeline component\n",
    "ner=nlp.get_pipe(\"ner\")"
   ]
  },
  {
   "cell_type": "code",
   "execution_count": 3,
   "metadata": {},
   "outputs": [
    {
     "name": "stdout",
     "output_type": "stream",
     "text": [
      "('COLLEGE STATION Texas A&M Forest Service issued a press release that it readies firefighting resources in anticipation of an increase in wildfire activity caused by pre-frontal conditions approaching the state. The fire environment will include elevated to critical fire weather, with above normal temperatures and wind speeds near 20 mph, aligned with freeze-cured grasses across the landscape, the press release stated. This combination will support increased wildfire activity. Forecast fire danger will be high to very high for portions of the Rolling Plains and Cross Timbers regions, specifically for areas around Plainview, Wichita Falls, Weatherford, Lampasas and San Angelo. For current conditions and wildfire outlook, visit the Texas Fire Potential Outlook at https://bit.ly/3kemhbG. State and local firefighters, including Texas A&M Forest Service and Texas Intrastate Fire Mutual Aid System, responded to 97 wildfires since Friday morning for an estimated 7,460 acres burned. Strong north winds and dry vegetation contributed to increased activity over the weekend, which included the 1,696-acre Mill Creek Fire in Shackelford County, the 787-acre Martin Fire in Young County and the 177-acre Carbon Camp Fire in Hutchinson County. In anticipation of increased fire danger on Tuesday, Texas A&M Forest Service has additional agency personnel and equipment, including 11 dozers and four engines, across areas of concern. “Any time the forecast indicates that there is potential for wildfire activity, we mobilize resources to strategic locations to provide assistance to local fire departments and cooperators,” Wes Moorehead, Texas A&M Forest Service Fire Chief, stated in the press release. Texas A&M Forest Service and Texas Division of Emergency Management worked together to mobilize two strike teams via TIFMAS to provide wildfire incident support prior to this weekend’s increased activity. “We greatly appreciate our state, federal and local partners that continue to diligently work together to protect Texas’ citizens and natural resources from wildfire,” Moorehead stated in the press release. Two large airtankers, three single engine air tankers, two air attack platforms and one aerial supervision module remain in state to assist with wildfire response efforts. Texas A&M Forest Service encourages the public to avoid outdoor activities that may cause a spark while dry and windy conditions are present.', {'entities': [[921, 931, 'a'], [1098, 1109, 'i'], [1120, 1125, 'a'], [1128, 1146, 'l'], [1152, 1161, 'i'], [1168, 1173, 'a'], [1176, 1189, 'l'], [1197, 1206, 'i'], [1218, 1223, 'a'], [1226, 1243, 'l'], [969, 987, 'i']]})\n"
     ]
    },
    {
     "ename": "NameError",
     "evalue": "name 'TRAIN_DATA' is not defined",
     "output_type": "error",
     "traceback": [
      "\u001b[0;31m---------------------------------------------------------------------------\u001b[0m",
      "\u001b[0;31mNameError\u001b[0m                                 Traceback (most recent call last)",
      "\u001b[1;32m/home/thomas/Documents/CS/Projet-Illuin/fine_tuning_NER.ipynb Cell 3'\u001b[0m in \u001b[0;36m<cell line: 4>\u001b[0;34m()\u001b[0m\n\u001b[1;32m      <a href='vscode-notebook-cell:/home/thomas/Documents/CS/Projet-Illuin/fine_tuning_NER.ipynb#ch0000002?line=0'>1</a>\u001b[0m \u001b[39m# training data\u001b[39;00m\n\u001b[1;32m      <a href='vscode-notebook-cell:/home/thomas/Documents/CS/Projet-Illuin/fine_tuning_NER.ipynb#ch0000002?line=1'>2</a>\u001b[0m \u001b[39m#TO REPLACE WITH THE JSON PROCESSING FUNCTION\u001b[39;00m\n\u001b[1;32m      <a href='vscode-notebook-cell:/home/thomas/Documents/CS/Projet-Illuin/fine_tuning_NER.ipynb#ch0000002?line=2'>3</a>\u001b[0m \u001b[39mprint\u001b[39m(extraction_json()[\u001b[39m0\u001b[39m])\n\u001b[0;32m----> <a href='vscode-notebook-cell:/home/thomas/Documents/CS/Projet-Illuin/fine_tuning_NER.ipynb#ch0000002?line=3'>4</a>\u001b[0m \u001b[39mprint\u001b[39m(TRAIN_DATA()[\u001b[39m0\u001b[39m])\n",
      "\u001b[0;31mNameError\u001b[0m: name 'TRAIN_DATA' is not defined"
     ]
    }
   ],
   "source": [
    "# training data\n",
    "#TO REPLACE WITH THE JSON PROCESSING FUNCTION\n",
    "TRAIN_DATA = extraction_json()"
   ]
  },
  {
   "cell_type": "code",
   "execution_count": null,
   "metadata": {},
   "outputs": [
    {
     "ename": "TypeError",
     "evalue": "'NoneType' object is not iterable",
     "output_type": "error",
     "traceback": [
      "\u001b[0;31m---------------------------------------------------------------------------\u001b[0m",
      "\u001b[0;31mTypeError\u001b[0m                                 Traceback (most recent call last)",
      "\u001b[1;32m/home/thomas/Documents/CS/Projet-Illuin/fine_tuning_NER.ipynb Cell 4'\u001b[0m in \u001b[0;36m<cell line: 3>\u001b[0;34m()\u001b[0m\n\u001b[1;32m      <a href='vscode-notebook-cell:/home/thomas/Documents/CS/Projet-Illuin/fine_tuning_NER.ipynb#ch0000003?line=0'>1</a>\u001b[0m \u001b[39m# Adding labels to the NER\u001b[39;00m\n\u001b[0;32m----> <a href='vscode-notebook-cell:/home/thomas/Documents/CS/Projet-Illuin/fine_tuning_NER.ipynb#ch0000003?line=2'>3</a>\u001b[0m \u001b[39mfor\u001b[39;00m _, annotations \u001b[39min\u001b[39;00m TRAIN_DATA:\n\u001b[1;32m      <a href='vscode-notebook-cell:/home/thomas/Documents/CS/Projet-Illuin/fine_tuning_NER.ipynb#ch0000003?line=3'>4</a>\u001b[0m   \u001b[39mfor\u001b[39;00m ent \u001b[39min\u001b[39;00m annotations\u001b[39m.\u001b[39mget(\u001b[39m\"\u001b[39m\u001b[39mentities\u001b[39m\u001b[39m\"\u001b[39m):\n\u001b[1;32m      <a href='vscode-notebook-cell:/home/thomas/Documents/CS/Projet-Illuin/fine_tuning_NER.ipynb#ch0000003?line=4'>5</a>\u001b[0m     ner\u001b[39m.\u001b[39madd_label(ent[\u001b[39m2\u001b[39m])\n",
      "\u001b[0;31mTypeError\u001b[0m: 'NoneType' object is not iterable"
     ]
    }
   ],
   "source": [
    "# Adding labels to the NER\n",
    "\n",
    "for _, annotations in TRAIN_DATA:\n",
    "  for ent in annotations.get(\"entities\"):\n",
    "    ner.add_label(ent[2])"
   ]
  },
  {
   "cell_type": "code",
   "execution_count": null,
   "metadata": {},
   "outputs": [],
   "source": [
    "# Disable pipeline components that we don't need to modify\n",
    "pipe_exceptions = [\"ner\", \"trf_wordpiecer\", \"trf_tok2vec\"]\n",
    "unaffected_pipes = [pipe for pipe in nlp.pipe_names if pipe not in pipe_exceptions]"
   ]
  },
  {
   "cell_type": "code",
   "execution_count": null,
   "metadata": {},
   "outputs": [
    {
     "name": "stderr",
     "output_type": "stream",
     "text": [
      "C:\\Users\\SOR Lucas\\AppData\\Local\\Programs\\Python\\Python39\\lib\\site-packages\\spacy\\training\\iob_utils.py:141: UserWarning: [W030] Some entities could not be aligned in the text \"I got my truck fixed\" with entities \"[(16, 21, 'PRODUCT')]\". Use `spacy.training.offsets_to_biluo_tags(nlp.make_doc(text), entities)` to check the alignment. Misaligned entities ('-') will be ignored during training.\n",
      "  warnings.warn(\n",
      "C:\\Users\\SOR Lucas\\AppData\\Local\\Programs\\Python\\Python39\\lib\\site-packages\\spacy\\training\\iob_utils.py:141: UserWarning: [W030] Some entities could not be aligned in the text \"I reached Chennai yesterday.\" with entities \"[(19, 28, 'GPE')]\". Use `spacy.training.offsets_to_biluo_tags(nlp.make_doc(text), entities)` to check the alignment. Misaligned entities ('-') will be ignored during training.\n",
      "  warnings.warn(\n",
      "C:\\Users\\SOR Lucas\\AppData\\Local\\Programs\\Python\\Python39\\lib\\site-packages\\spacy\\training\\iob_utils.py:141: UserWarning: [W030] Some entities could not be aligned in the text \"I rented a camera\" with entities \"[(12, 18, 'PRODUCT')]\". Use `spacy.training.offsets_to_biluo_tags(nlp.make_doc(text), entities)` to check the alignment. Misaligned entities ('-') will be ignored during training.\n",
      "  warnings.warn(\n",
      "C:\\Users\\SOR Lucas\\AppData\\Local\\Programs\\Python\\Python39\\lib\\site-packages\\spacy\\training\\iob_utils.py:141: UserWarning: [W030] Some entities could not be aligned in the text \"I bought a old table\" with entities \"[(16, 21, 'PRODUCT')]\". Use `spacy.training.offsets_to_biluo_tags(nlp.make_doc(text), entities)` to check the alignment. Misaligned entities ('-') will be ignored during training.\n",
      "  warnings.warn(\n",
      "C:\\Users\\SOR Lucas\\AppData\\Local\\Programs\\Python\\Python39\\lib\\site-packages\\spacy\\training\\iob_utils.py:141: UserWarning: [W030] Some entities could not be aligned in the text \"I recently ordered from Swiggy\" with entities \"[(24, 29, 'ORG')]\". Use `spacy.training.offsets_to_biluo_tags(nlp.make_doc(text), entities)` to check the alignment. Misaligned entities ('-') will be ignored during training.\n",
      "  warnings.warn(\n",
      "C:\\Users\\SOR Lucas\\AppData\\Local\\Programs\\Python\\Python39\\lib\\site-packages\\spacy\\training\\iob_utils.py:141: UserWarning: [W030] Some entities could not be aligned in the text \"I rented a tent for our trip\" with entities \"[(12, 16, 'PRODUCT')]\". Use `spacy.training.offsets_to_biluo_tags(nlp.make_doc(text), entities)` to check the alignment. Misaligned entities ('-') will be ignored during training.\n",
      "  warnings.warn(\n",
      "C:\\Users\\SOR Lucas\\AppData\\Local\\Programs\\Python\\Python39\\lib\\site-packages\\spacy\\training\\iob_utils.py:141: UserWarning: [W030] Some entities could not be aligned in the text \"I bought a new Washer\" with entities \"[(16, 22, 'PRODUCT')]\". Use `spacy.training.offsets_to_biluo_tags(nlp.make_doc(text), entities)` to check the alignment. Misaligned entities ('-') will be ignored during training.\n",
      "  warnings.warn(\n",
      "C:\\Users\\SOR Lucas\\AppData\\Local\\Programs\\Python\\Python39\\lib\\site-packages\\spacy\\training\\iob_utils.py:141: UserWarning: [W030] Some entities could not be aligned in the text \"I got my clock fixed\" with entities \"[(16, 21, 'PRODUCT')]\". Use `spacy.training.offsets_to_biluo_tags(nlp.make_doc(text), entities)` to check the alignment. Misaligned entities ('-') will be ignored during training.\n",
      "  warnings.warn(\n",
      "C:\\Users\\SOR Lucas\\AppData\\Local\\Programs\\Python\\Python39\\lib\\site-packages\\spacy\\training\\iob_utils.py:141: UserWarning: [W030] Some entities could not be aligned in the text \"I repaired my computer\" with entities \"[(15, 23, 'PRODUCT')]\". Use `spacy.training.offsets_to_biluo_tags(nlp.make_doc(text), entities)` to check the alignment. Misaligned entities ('-') will be ignored during training.\n",
      "  warnings.warn(\n",
      "C:\\Users\\SOR Lucas\\AppData\\Local\\Programs\\Python\\Python39\\lib\\site-packages\\spacy\\training\\iob_utils.py:141: UserWarning: [W030] Some entities could not be aligned in the text \"I bought a fancy dress\" with entities \"[(18, 23, 'PRODUCT')]\". Use `spacy.training.offsets_to_biluo_tags(nlp.make_doc(text), entities)` to check the alignment. Misaligned entities ('-') will be ignored during training.\n",
      "  warnings.warn(\n",
      "C:\\Users\\SOR Lucas\\AppData\\Local\\Programs\\Python\\Python39\\lib\\site-packages\\spacy\\training\\iob_utils.py:141: UserWarning: [W030] Some entities could not be aligned in the text \"I rented a screwdriver from our neighbour\" with entities \"[(12, 22, 'PRODUCT')]\". Use `spacy.training.offsets_to_biluo_tags(nlp.make_doc(text), entities)` to check the alignment. Misaligned entities ('-') will be ignored during training.\n",
      "  warnings.warn(\n",
      "C:\\Users\\SOR Lucas\\AppData\\Local\\Programs\\Python\\Python39\\lib\\site-packages\\spacy\\training\\iob_utils.py:141: UserWarning: [W030] Some entities could not be aligned in the text \"I recently ordered a book from Amazon\" with entities \"[(24, 32, 'ORG')]\". Use `spacy.training.offsets_to_biluo_tags(nlp.make_doc(text), entities)` to check the alignment. Misaligned entities ('-') will be ignored during training.\n",
      "  warnings.warn(\n"
     ]
    }
   ],
   "source": [
    "# TRAINING THE MODEL\n",
    "with nlp.disable_pipes(*unaffected_pipes):\n",
    "\n",
    "  # Training for 30 iterations\n",
    "  for iteration in range(30):\n",
    "\n",
    "    # shuufling examples  before every iteration\n",
    "    random.shuffle(TRAIN_DATA)\n",
    "    losses = {}\n",
    "    # batch up the examples using spaCy's minibatch\n",
    "    batches = minibatch(TRAIN_DATA, size=compounding(4.0, 32.0, 1.001))\n",
    "    for batch in batches:\n",
    "            texts, annotations = zip(*batch)\n",
    "            \n",
    "            example = []\n",
    "            # Update the model with iterating each text\n",
    "            for i in range(len(texts)):\n",
    "                doc = nlp.make_doc(texts[i])\n",
    "                example.append(Example.from_dict(doc, annotations[i]))\n",
    "            \n",
    "            # Update the model\n",
    "            nlp.update(example, drop=0.5, losses=losses)"
   ]
  },
  {
   "cell_type": "code",
   "execution_count": null,
   "metadata": {},
   "outputs": [
    {
     "name": "stdout",
     "output_type": "stream",
     "text": [
      "Entities [('Alto', 'PRODUCT')]\n"
     ]
    }
   ],
   "source": [
    "# Testing the model\n",
    "doc = nlp(\"Despite snow on the ground and freezing temperatures, Alberta's wildfire season officially started on Tuesday and the government is preparing for the season by hiring hundreds of staff including firefighters, weather specialists and fire behaviour analysts. Alberta Wildfire says the percentage of man-made fires in the province has dropped, even with the increase in outdoor activity the past two summers due to COVID-19. In 2020, 88 per cent of fires were caused by humans. That dropped to 62 per cent in 2021. 'We need to maintain that vigilance and improve upon the gains that we made last year so we can minimize the risk of wildfire,' said wildfire information officer Derrick Forsythe. Alberta Wildfire Information Officer, Derrick Forsythe, encourages people to remain vigilant when using campfires or off highway vehicles. (CBC/Google)\")\n",
    "print(\"Entities\", [(ent.text, ent.label_) for ent in doc.ents])"
   ]
  },
  {
   "cell_type": "code",
   "execution_count": null,
   "metadata": {},
   "outputs": [
    {
     "name": "stdout",
     "output_type": "stream",
     "text": [
      "Saved model to ./NER_models/\n"
     ]
    }
   ],
   "source": [
    "# Save the  model to directory\n",
    "output_dir = './NER_model/'\n",
    "nlp.to_disk(output_dir)\n",
    "print(\"Saved model to\", output_dir)"
   ]
  },
  {
   "cell_type": "code",
   "execution_count": null,
   "metadata": {},
   "outputs": [
    {
     "name": "stdout",
     "output_type": "stream",
     "text": [
      "Loading from ./NER_models/\n",
      "Entities [('Fridge', 'PRODUCT'), ('FlipKart', 'ORG')]\n"
     ]
    }
   ],
   "source": [
    "#Loading the model\n",
    "print(\"Loading from\", output_dir)\n",
    "nlp_updated = spacy.load(output_dir)\n",
    "doc = nlp_updated(\"Fridge can be ordered in FlipKart\" )\n",
    "print(\"Entities\", [(ent.text, ent.label_) for ent in doc.ents])"
   ]
  }
 ],
 "metadata": {
  "interpreter": {
   "hash": "877e635d77654b4bbaf40ac73f166c6702f150ac966450346b4e10ac33844dc6"
  },
  "kernelspec": {
   "display_name": "Python 3.9.7 64-bit",
   "language": "python",
   "name": "python3"
  },
  "language_info": {
   "codemirror_mode": {
    "name": "ipython",
    "version": 3
   },
   "file_extension": ".py",
   "mimetype": "text/x-python",
   "name": "python",
   "nbconvert_exporter": "python",
   "pygments_lexer": "ipython3",
   "version": "3.8.10"
  },
  "orig_nbformat": 4
 },
 "nbformat": 4,
 "nbformat_minor": 2
}
