{
 "cells": [
  {
   "cell_type": "markdown",
   "id": "ade16122-e674-414a-b4f7-e921274fcd5c",
   "metadata": {},
   "source": [
    "# Benchmark scraping - Selenium"
   ]
  },
  {
   "cell_type": "code",
   "execution_count": 11,
   "id": "489a16d1-3fb1-4022-b000-9539411e3ed2",
   "metadata": {},
   "outputs": [],
   "source": [
    "from time import sleep\n",
    "\n",
    "try :\n",
    "    from selenium import webdriver\n",
    "    from selenium.webdriver.common.keys import Keys\n",
    "    from selenium.webdriver.chrome.options import Options\n",
    "    from selenium.webdriver.common.by import By\n",
    "except :\n",
    "    ! pip install selenium"
   ]
  },
  {
   "cell_type": "code",
   "execution_count": 26,
   "id": "6da100cf-f457-4ab6-a65c-d70f23404743",
   "metadata": {},
   "outputs": [
    {
     "name": "stdout",
     "output_type": "stream",
     "text": [
      "https://www.nifc.gov/fire-information/nfn#main-content\n",
      "https://www.nifc.gov/\n",
      "https://www.nifc.gov/about-us/social-media\n",
      "https://www.nifc.gov/contact-us\n",
      "https://www.nifc.gov/\n",
      "https://www.nifc.gov/\n",
      "https://www.nifc.gov/\n",
      "https://www.nifc.gov/\n",
      "https://www.nifc.gov/contact-us\n",
      "https://www.nifc.gov/fire-information\n"
     ]
    }
   ],
   "source": [
    "# On crée une instance du web-driver chrome\n",
    "options = Options()\n",
    "options.headless = True\n",
    "\n",
    "driver = webdriver.Chrome(options=options, executable_path='chromedriver')\n",
    "driver.get(\"https://www.nifc.gov/fire-information/nfn\")\n",
    "\n",
    "links = driver.find_elements(By.TAG_NAME, 'a')\n",
    "for el in links[:10]:\n",
    "    print(el.get_attribute('href'))\n",
    "driver.quit()"
   ]
  },
  {
   "cell_type": "code",
   "execution_count": 27,
   "id": "66e4a87f-080c-46c0-8adb-996a3ef88a3e",
   "metadata": {},
   "outputs": [
    {
     "data": {
      "text/plain": [
       "264"
      ]
     },
     "execution_count": 27,
     "metadata": {},
     "output_type": "execute_result"
    }
   ],
   "source": [
    "len(links)"
   ]
  },
  {
   "cell_type": "markdown",
   "id": "7d829650-ad21-4d1e-a5aa-6a3bb6ad2d0d",
   "metadata": {},
   "source": [
    "## Reddit"
   ]
  },
  {
   "cell_type": "code",
   "execution_count": 29,
   "id": "7d971387-26ff-4897-8b56-58d1bbe004f7",
   "metadata": {},
   "outputs": [
    {
     "name": "stdout",
     "output_type": "stream",
     "text": [
      "https://www.reddit.com/\n",
      "https://www.reddit.com/search/?q=california\n",
      "https://www.reddit.com/login/?dest=https%3A%2F%2Fwww.reddit.com%2Fr%2Fwildfires%2Fsearch%2F%3Fq%3Dcalifornia%26restrict_sr%3D1\n",
      "https://www.reddit.com/register/?dest=https%3A%2F%2Fwww.reddit.com%2Fr%2Fwildfires%2Fsearch%2F%3Fq%3Dcalifornia%26restrict_sr%3D1\n",
      "https://www.reddit.com/r/wildfires/search/?q=california&restrict_sr=1&type=\n",
      "https://www.reddit.com/search?q=california&restrict_sr=\n",
      "https://www.reddit.com/search?q=california&restrict_sr=\n",
      "https://www.reddit.com/r/wildfires/\n",
      "https://www.reddit.com/r/wildfires/\n",
      "https://www.reddit.com/user/drak0bsidian/\n",
      "https://www.reddit.com/r/wildfires/comments/qbi9z2/hmong_americans_in_northern_california_fight/\n",
      "https://www.reddit.com/r/wildfires/comments/qbi9z2/hmong_americans_in_northern_california_fight/\n",
      "https://www.hcn.org/issues/53.11/south-wildfire-hmong-americans-in-northern-california-fight-wildfire-and-distrust\n",
      "https://www.reddit.com/r/wildfires/\n",
      "https://www.reddit.com/r/wildfires/\n",
      "https://www.reddit.com/user/posting-news/\n",
      "https://www.reddit.com/r/wildfires/comments/psn15c/california_firefighters_keep_getting_injured/\n",
      "https://www.reddit.com/r/wildfires/comments/psn15c/california_firefighters_keep_getting_injured/\n",
      "https://laist.com/news/climate-environment/california-cal-firefighters-training-injuries-deaths\n",
      "https://www.reddit.com/r/wildfires/\n",
      "https://www.reddit.com/r/wildfires/\n",
      "https://www.reddit.com/user/Glanton4455/\n",
      "https://www.reddit.com/r/wildfires/comments/p560a9/should_other_states_sue_california_every_year/\n",
      "https://www.reddit.com/r/wildfires/comments/p560a9/should_other_states_sue_california_every_year/\n",
      "https://www.npr.org/2021/08/09/1026078606/dixie-fire-california-only-21-percent-contained\n",
      "https://www.reddit.com/r/wildfires/\n",
      "https://www.reddit.com/r/wildfires/\n",
      "https://www.reddit.com/user/Cme4ever/\n",
      "https://www.reddit.com/r/wildfires/comments/p78q3t/french_fire_california_kern_county_8_182021/\n",
      "https://www.reddit.com/r/wildfires/comments/p78q3t/french_fire_california_kern_county_8_182021/\n",
      "https://www.reddit.com/r/wildfires/\n",
      "https://www.reddit.com/r/wildfires/\n",
      "https://www.reddit.com/user/drak0bsidian/\n",
      "https://www.reddit.com/r/wildfires/comments/ojhpb0/connecting_ranchers_with_land_stewards_could_be/\n",
      "https://www.reddit.com/r/wildfires/comments/ojhpb0/connecting_ranchers_with_land_stewards_could_be/\n",
      "https://civileats.com/2021/07/08/connecting-ranchers-with-land-stewards-could-be-key-to-less-disastrous-wildfires/\n",
      "https://www.reddit.com/r/wildfires/\n",
      "https://www.reddit.com/r/wildfires/\n",
      "https://www.reddit.com/user/Harley109/\n",
      "https://www.reddit.com/r/wildfires/comments/ocdiv1/mobile_air_traffic_control_tower_aids_in/\n",
      "https://www.reddit.com/r/wildfires/comments/ocdiv1/mobile_air_traffic_control_tower_aids_in/\n",
      "https://timesofsandiego.com/tech/2021/06/27/mobile-air-traffic-control-tower-aids-in-californias-wildfire-fight/\n",
      "https://www.reddit.com/r/wildfires/\n",
      "https://www.reddit.com/r/wildfires/\n",
      "https://www.reddit.com/user/Vailhem/\n",
      "https://www.reddit.com/r/wildfires/comments/ns1rgi/californias_massive_wildfires_may_start_as_soon/\n",
      "https://www.reddit.com/r/wildfires/comments/ns1rgi/californias_massive_wildfires_may_start_as_soon/\n",
      "https://www.axios.com/california-drought-summer-wildfire-a0e2c959-8d76-4c56-af5d-e13b1ee76e6f.html\n",
      "https://www.reddit.com/r/wildfires/\n",
      "https://www.reddit.com/r/wildfires/\n",
      "len(links) : 125\n"
     ]
    }
   ],
   "source": [
    "options = Options()\n",
    "options.headless = True\n",
    "\n",
    "driver = webdriver.Chrome(options=options, executable_path='chromedriver')\n",
    "keyword = 'california'\n",
    "driver.get(\"https://www.reddit.com/r/wildfires/search/?q=\"+keyword+\"&restrict_sr=1\")\n",
    "links = driver.find_elements(By.TAG_NAME, 'a')\n",
    "for el in links[:50]:\n",
    "    print(el.get_attribute('href'))\n",
    "print(\"len(links) :\", len(links))\n",
    "driver.quit()"
   ]
  },
  {
   "cell_type": "markdown",
   "id": "f2ab9e07-a207-44f8-9652-048da37c792a",
   "metadata": {},
   "source": [
    "## Google News"
   ]
  },
  {
   "cell_type": "code",
   "execution_count": 66,
   "id": "41c307d5-7201-4197-8802-cd1841976df1",
   "metadata": {},
   "outputs": [
    {
     "name": "stdout",
     "output_type": "stream",
     "text": [
      "Searching google news for wildfire\n",
      "Hot topics :\n",
      "1 - Crews working to contain wildfire on mountain in McDowell County - 12 hours ago\n",
      "2 - Wilson neighborhood recognized for wildfire risk reduction - 4 hours ago\n",
      "3 - The Far-Reaching Consequences of Wildfire Smoke Plumes - \n",
      "4 - Aspen testing program that uses artificial intelligence to detect wildfire smoke - \n",
      "5 - Statewide burn bans issued after wildfire - \n"
     ]
    }
   ],
   "source": [
    "options = Options()\n",
    "options.headless = False\n",
    "keyword = \"wildfire\"\n",
    "\n",
    "print(\"Searching google news for\", keyword)\n",
    "driver = webdriver.Chrome(options=options, executable_path='chromedriver')\n",
    "driver.get(\"https://news.google.com/search?q=\"+keyword+\"&hl=en-US&gl=US&ceid=US:en\")\n",
    "sleep(5)\n",
    "driver.find_element(By.XPATH, \"//button[@class='VfPpkd-LgbsSe VfPpkd-LgbsSe-OWXEXe-k8QpJ VfPpkd-LgbsSe-OWXEXe-dgl2Hf nCP5yc AjY5Oe DuMIQc']\").click()\n",
    "\n",
    "print('Hot topics :')\n",
    "titles = driver.find_elements(By.TAG_NAME, 'h3')\n",
    "times = driver.find_elements(By.XPATH, \"//time[@class='WW6dff uQIVzc Sksgp']\")\n",
    "i = 0\n",
    "for title in titles[:5] :\n",
    "    print(i+1, \"-\", title.text, \"-\", times[i].text)\n",
    "    i+=1\n",
    "\n",
    "sleep(2)\n",
    "driver.quit()"
   ]
  },
  {
   "cell_type": "code",
   "execution_count": 58,
   "id": "ba2ec8c5-d361-4414-b8c8-1f25e7912a50",
   "metadata": {},
   "outputs": [
    {
     "data": {
      "text/plain": [
       "100"
      ]
     },
     "execution_count": 58,
     "metadata": {},
     "output_type": "execute_result"
    }
   ],
   "source": [
    "len(titles)"
   ]
  },
  {
   "cell_type": "code",
   "execution_count": 59,
   "id": "20f6c19f-67e4-4172-9c3b-039a32a9fdd4",
   "metadata": {},
   "outputs": [
    {
     "data": {
      "text/plain": [
       "104"
      ]
     },
     "execution_count": 59,
     "metadata": {},
     "output_type": "execute_result"
    }
   ],
   "source": [
    "len(times)"
   ]
  },
  {
   "cell_type": "code",
   "execution_count": null,
   "id": "0dbfbbaa-85c5-410f-b8db-43acf6fec003",
   "metadata": {},
   "outputs": [],
   "source": []
  }
 ],
 "metadata": {
  "kernelspec": {
   "display_name": "Python 3",
   "language": "python",
   "name": "python3"
  },
  "language_info": {
   "codemirror_mode": {
    "name": "ipython",
    "version": 3
   },
   "file_extension": ".py",
   "mimetype": "text/x-python",
   "name": "python",
   "nbconvert_exporter": "python",
   "pygments_lexer": "ipython3",
   "version": "3.8.8"
  }
 },
 "nbformat": 4,
 "nbformat_minor": 5
}
