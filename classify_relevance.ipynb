{
 "cells": [
  {
   "cell_type": "markdown",
   "id": "af3c1782-ba8d-454b-a3b1-6ef39f545504",
   "metadata": {},
   "source": [
    "# Classify Relevance of articles"
   ]
  },
  {
   "cell_type": "code",
   "execution_count": 4,
   "id": "b60a45fd-e382-4935-ac91-6a68f46172b0",
   "metadata": {},
   "outputs": [],
   "source": [
    "#Developped for transformers version 4.17.0\n",
    "\n",
    "from transformers import BertForSequenceClassification, LongformerTokenizer, LongformerForSequenceClassification\n",
    "from torch import nn\n",
    "import torch"
   ]
  },
  {
   "cell_type": "code",
   "execution_count": 7,
   "id": "66e553e2-d918-434f-9f15-c3ac05edacc3",
   "metadata": {},
   "outputs": [],
   "source": [
    "#Function to use in the pipeline\n",
    "\n",
    "def classify_relevance(article, model, tokenizer):\n",
    "    #Article is a string, containing the text of the article\n",
    "    #Model is the Neural Network Classifier, a longformer in our case\n",
    "    #Tokenizer is the tokenizer that converts the article into a valid input for the model\n",
    "    token_article = tokenizer(article, padding='max_length', max_length = 512, truncation=True, return_tensors=\"pt\")\n",
    "    mask = token_article['attention_mask']\n",
    "    input_id = token_article['input_ids']\n",
    "    output = model(input_id, mask).logits.argmax(dim=1).item()\n",
    "    return output"
   ]
  },
  {
   "cell_type": "markdown",
   "id": "632ba20a-c0d1-4bf1-a0a6-d0b63947332a",
   "metadata": {},
   "source": [
    "## Example "
   ]
  },
  {
   "cell_type": "code",
   "execution_count": 9,
   "id": "723d8007-4e57-4f9a-8d03-95ca6edcc08d",
   "metadata": {},
   "outputs": [
    {
     "name": "stdout",
     "output_type": "stream",
     "text": [
      "Model and Tokenizer successfully loaded\n",
      "Article 1 : 0\n",
      "Article 2 : 1\n"
     ]
    }
   ],
   "source": [
    "tokenizer = LongformerTokenizer.from_pretrained(\"allenai/longformer-base-4096\")\n",
    "model = torch.load('longformer_finetuned').to('cpu')\n",
    "print('Model and Tokenizer successfully loaded.')\n",
    "\n",
    "article1 = \"This is a random article. The content is not important at all.\"\n",
    "article2 = \"This is an article about a fire that occured last week in California. About 5 people were harmed.\"\n",
    "\n",
    "print('Article 1 :', classify_relevance(article1, model, tokenizer))\n",
    "print('Article 2 :', classify_relevance(article2, model, tokenizer))"
   ]
  }
 ],
 "metadata": {
  "kernelspec": {
   "display_name": "Python 3 (ipykernel)",
   "language": "python",
   "name": "python3"
  },
  "language_info": {
   "codemirror_mode": {
    "name": "ipython",
    "version": 3
   },
   "file_extension": ".py",
   "mimetype": "text/x-python",
   "name": "python",
   "nbconvert_exporter": "python",
   "pygments_lexer": "ipython3",
   "version": "3.8.12"
  }
 },
 "nbformat": 4,
 "nbformat_minor": 5
}
